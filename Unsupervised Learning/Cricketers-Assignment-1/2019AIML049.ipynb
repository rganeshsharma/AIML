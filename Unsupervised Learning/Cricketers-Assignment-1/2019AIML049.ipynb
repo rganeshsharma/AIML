{
 "cells": [
  {
   "cell_type": "code",
   "execution_count": 1,
   "metadata": {},
   "outputs": [],
   "source": [
    "import pandas as pd\n",
    "import numpy as np\n",
    "import csv\n",
    "import matplotlib.pyplot as plt\n",
    "from sklearn.preprocessing import LabelEncoder\n",
    "from sklearn.preprocessing import StandardScaler\n",
    "from sklearn.preprocessing import MinMaxScaler\n",
    "from sklearn.preprocessing import normalize\n",
    "from sklearn.preprocessing import Normalizer"
   ]
  },
  {
   "cell_type": "code",
   "execution_count": 2,
   "metadata": {},
   "outputs": [],
   "source": [
    "cric_df = pd.read_csv(\"cricketers.csv\",delimiter='\\t')"
   ]
  },
  {
   "cell_type": "code",
   "execution_count": 3,
   "metadata": {},
   "outputs": [
    {
     "name": "stdout",
     "output_type": "stream",
     "text": [
      "<class 'pandas.core.frame.DataFrame'>\n",
      "RangeIndex: 109 entries, 0 to 108\n",
      "Data columns (total 14 columns):\n",
      "PLAYER                      109 non-null object\n",
      "matches_played              109 non-null int64\n",
      "innings_batted              109 non-null int64\n",
      "runs_scored                 109 non-null int64\n",
      "highest_runs                109 non-null int64\n",
      "balls_faced                 109 non-null int64\n",
      "average_runs                109 non-null float64\n",
      "strike_rate                 109 non-null float64\n",
      "innings_bowled              109 non-null int64\n",
      "overs                       109 non-null float64\n",
      "runs_given                  109 non-null int64\n",
      "wickets_obtained            109 non-null int64\n",
      "average_runs_per_wicket     109 non-null float64\n",
      "bowling_economy             109 non-null float64\n",
      "dtypes: float64(5), int64(8), object(1)\n",
      "memory usage: 12.0+ KB\n"
     ]
    }
   ],
   "source": [
    "cric_df.info()"
   ]
  },
  {
   "cell_type": "code",
   "execution_count": 4,
   "metadata": {},
   "outputs": [],
   "source": [
    "labelencoder = LabelEncoder()"
   ]
  },
  {
   "cell_type": "code",
   "execution_count": 5,
   "metadata": {},
   "outputs": [],
   "source": [
    "cric_df['PLAYER'] = labelencoder.fit_transform(cric_df['PLAYER'])"
   ]
  },
  {
   "cell_type": "code",
   "execution_count": 6,
   "metadata": {},
   "outputs": [
    {
     "data": {
      "text/html": [
       "<div>\n",
       "<style scoped>\n",
       "    .dataframe tbody tr th:only-of-type {\n",
       "        vertical-align: middle;\n",
       "    }\n",
       "\n",
       "    .dataframe tbody tr th {\n",
       "        vertical-align: top;\n",
       "    }\n",
       "\n",
       "    .dataframe thead th {\n",
       "        text-align: right;\n",
       "    }\n",
       "</style>\n",
       "<table border=\"1\" class=\"dataframe\">\n",
       "  <thead>\n",
       "    <tr style=\"text-align: right;\">\n",
       "      <th></th>\n",
       "      <th>PLAYER</th>\n",
       "      <th>matches_played</th>\n",
       "      <th>innings_batted</th>\n",
       "      <th>runs_scored</th>\n",
       "      <th>highest_runs</th>\n",
       "      <th>balls_faced</th>\n",
       "      <th>average_runs</th>\n",
       "      <th>strike_rate</th>\n",
       "      <th>innings_bowled</th>\n",
       "      <th>overs</th>\n",
       "      <th>runs_given</th>\n",
       "      <th>wickets_obtained</th>\n",
       "      <th>average_runs_per_wicket</th>\n",
       "      <th>bowling_economy</th>\n",
       "    </tr>\n",
       "  </thead>\n",
       "  <tbody>\n",
       "    <tr>\n",
       "      <td>0</td>\n",
       "      <td>0.004416</td>\n",
       "      <td>0.044164</td>\n",
       "      <td>0.039747</td>\n",
       "      <td>0.591794</td>\n",
       "      <td>0.203153</td>\n",
       "      <td>0.441638</td>\n",
       "      <td>0.073974</td>\n",
       "      <td>0.635958</td>\n",
       "      <td>0.000000</td>\n",
       "      <td>0.000000</td>\n",
       "      <td>0.000000</td>\n",
       "      <td>0.000000</td>\n",
       "      <td>0.000000</td>\n",
       "      <td>0.000000</td>\n",
       "    </tr>\n",
       "    <tr>\n",
       "      <td>1</td>\n",
       "      <td>0.000000</td>\n",
       "      <td>0.020351</td>\n",
       "      <td>0.018655</td>\n",
       "      <td>0.814029</td>\n",
       "      <td>0.152630</td>\n",
       "      <td>0.466371</td>\n",
       "      <td>0.090442</td>\n",
       "      <td>0.296001</td>\n",
       "      <td>0.000000</td>\n",
       "      <td>0.000000</td>\n",
       "      <td>0.000000</td>\n",
       "      <td>0.000000</td>\n",
       "      <td>0.000000</td>\n",
       "      <td>0.000000</td>\n",
       "    </tr>\n",
       "    <tr>\n",
       "      <td>2</td>\n",
       "      <td>0.009166</td>\n",
       "      <td>0.013749</td>\n",
       "      <td>0.013749</td>\n",
       "      <td>0.288736</td>\n",
       "      <td>0.210823</td>\n",
       "      <td>0.151243</td>\n",
       "      <td>0.288736</td>\n",
       "      <td>0.874917</td>\n",
       "      <td>0.000000</td>\n",
       "      <td>0.000000</td>\n",
       "      <td>0.000000</td>\n",
       "      <td>0.000000</td>\n",
       "      <td>0.000000</td>\n",
       "      <td>0.000000</td>\n",
       "    </tr>\n",
       "    <tr>\n",
       "      <td>3</td>\n",
       "      <td>0.005949</td>\n",
       "      <td>0.029745</td>\n",
       "      <td>0.027762</td>\n",
       "      <td>0.733706</td>\n",
       "      <td>0.128894</td>\n",
       "      <td>0.620676</td>\n",
       "      <td>0.056436</td>\n",
       "      <td>0.234409</td>\n",
       "      <td>0.000000</td>\n",
       "      <td>0.000000</td>\n",
       "      <td>0.000000</td>\n",
       "      <td>0.000000</td>\n",
       "      <td>0.000000</td>\n",
       "      <td>0.000000</td>\n",
       "    </tr>\n",
       "    <tr>\n",
       "      <td>4</td>\n",
       "      <td>0.021459</td>\n",
       "      <td>0.025751</td>\n",
       "      <td>0.025751</td>\n",
       "      <td>0.635197</td>\n",
       "      <td>0.193134</td>\n",
       "      <td>0.506441</td>\n",
       "      <td>0.105838</td>\n",
       "      <td>0.538287</td>\n",
       "      <td>0.000000</td>\n",
       "      <td>0.000000</td>\n",
       "      <td>0.000000</td>\n",
       "      <td>0.000000</td>\n",
       "      <td>0.000000</td>\n",
       "      <td>0.000000</td>\n",
       "    </tr>\n",
       "    <tr>\n",
       "      <td>...</td>\n",
       "      <td>...</td>\n",
       "      <td>...</td>\n",
       "      <td>...</td>\n",
       "      <td>...</td>\n",
       "      <td>...</td>\n",
       "      <td>...</td>\n",
       "      <td>...</td>\n",
       "      <td>...</td>\n",
       "      <td>...</td>\n",
       "      <td>...</td>\n",
       "      <td>...</td>\n",
       "      <td>...</td>\n",
       "      <td>...</td>\n",
       "      <td>...</td>\n",
       "    </tr>\n",
       "    <tr>\n",
       "      <td>104</td>\n",
       "      <td>0.194455</td>\n",
       "      <td>0.000000</td>\n",
       "      <td>0.000000</td>\n",
       "      <td>0.000000</td>\n",
       "      <td>0.000000</td>\n",
       "      <td>0.000000</td>\n",
       "      <td>0.000000</td>\n",
       "      <td>0.000000</td>\n",
       "      <td>0.048614</td>\n",
       "      <td>0.064818</td>\n",
       "      <td>0.680592</td>\n",
       "      <td>0.016205</td>\n",
       "      <td>0.680592</td>\n",
       "      <td>0.170148</td>\n",
       "    </tr>\n",
       "    <tr>\n",
       "      <td>105</td>\n",
       "      <td>0.061341</td>\n",
       "      <td>0.000000</td>\n",
       "      <td>0.000000</td>\n",
       "      <td>0.000000</td>\n",
       "      <td>0.000000</td>\n",
       "      <td>0.000000</td>\n",
       "      <td>0.000000</td>\n",
       "      <td>0.000000</td>\n",
       "      <td>0.028311</td>\n",
       "      <td>0.089652</td>\n",
       "      <td>0.962584</td>\n",
       "      <td>0.018874</td>\n",
       "      <td>0.240646</td>\n",
       "      <td>0.050630</td>\n",
       "    </tr>\n",
       "    <tr>\n",
       "      <td>106</td>\n",
       "      <td>0.063057</td>\n",
       "      <td>0.000000</td>\n",
       "      <td>0.000000</td>\n",
       "      <td>0.000000</td>\n",
       "      <td>0.000000</td>\n",
       "      <td>0.000000</td>\n",
       "      <td>0.000000</td>\n",
       "      <td>0.000000</td>\n",
       "      <td>0.025223</td>\n",
       "      <td>0.092483</td>\n",
       "      <td>0.962663</td>\n",
       "      <td>0.016815</td>\n",
       "      <td>0.240666</td>\n",
       "      <td>0.043719</td>\n",
       "    </tr>\n",
       "    <tr>\n",
       "      <td>107</td>\n",
       "      <td>0.135134</td>\n",
       "      <td>0.000000</td>\n",
       "      <td>0.000000</td>\n",
       "      <td>0.000000</td>\n",
       "      <td>0.000000</td>\n",
       "      <td>0.000000</td>\n",
       "      <td>0.000000</td>\n",
       "      <td>0.000000</td>\n",
       "      <td>0.033783</td>\n",
       "      <td>0.085303</td>\n",
       "      <td>0.962827</td>\n",
       "      <td>0.042229</td>\n",
       "      <td>0.192565</td>\n",
       "      <td>0.086148</td>\n",
       "    </tr>\n",
       "    <tr>\n",
       "      <td>108</td>\n",
       "      <td>0.083524</td>\n",
       "      <td>0.000000</td>\n",
       "      <td>0.000000</td>\n",
       "      <td>0.000000</td>\n",
       "      <td>0.000000</td>\n",
       "      <td>0.000000</td>\n",
       "      <td>0.000000</td>\n",
       "      <td>0.000000</td>\n",
       "      <td>0.032482</td>\n",
       "      <td>0.097445</td>\n",
       "      <td>0.983726</td>\n",
       "      <td>0.041762</td>\n",
       "      <td>0.104126</td>\n",
       "      <td>0.046588</td>\n",
       "    </tr>\n",
       "  </tbody>\n",
       "</table>\n",
       "<p>109 rows × 14 columns</p>\n",
       "</div>"
      ],
      "text/plain": [
       "       PLAYER  matches_played  innings_batted  runs_scored  highest_runs  \\\n",
       "0    0.004416        0.044164        0.039747     0.591794      0.203153   \n",
       "1    0.000000        0.020351        0.018655     0.814029      0.152630   \n",
       "2    0.009166        0.013749        0.013749     0.288736      0.210823   \n",
       "3    0.005949        0.029745        0.027762     0.733706      0.128894   \n",
       "4    0.021459        0.025751        0.025751     0.635197      0.193134   \n",
       "..        ...             ...             ...          ...           ...   \n",
       "104  0.194455        0.000000        0.000000     0.000000      0.000000   \n",
       "105  0.061341        0.000000        0.000000     0.000000      0.000000   \n",
       "106  0.063057        0.000000        0.000000     0.000000      0.000000   \n",
       "107  0.135134        0.000000        0.000000     0.000000      0.000000   \n",
       "108  0.083524        0.000000        0.000000     0.000000      0.000000   \n",
       "\n",
       "     balls_faced  average_runs  strike_rate  innings_bowled     overs  \\\n",
       "0       0.441638      0.073974     0.635958        0.000000  0.000000   \n",
       "1       0.466371      0.090442     0.296001        0.000000  0.000000   \n",
       "2       0.151243      0.288736     0.874917        0.000000  0.000000   \n",
       "3       0.620676      0.056436     0.234409        0.000000  0.000000   \n",
       "4       0.506441      0.105838     0.538287        0.000000  0.000000   \n",
       "..           ...           ...          ...             ...       ...   \n",
       "104     0.000000      0.000000     0.000000        0.048614  0.064818   \n",
       "105     0.000000      0.000000     0.000000        0.028311  0.089652   \n",
       "106     0.000000      0.000000     0.000000        0.025223  0.092483   \n",
       "107     0.000000      0.000000     0.000000        0.033783  0.085303   \n",
       "108     0.000000      0.000000     0.000000        0.032482  0.097445   \n",
       "\n",
       "     runs_given  wickets_obtained  average_runs_per_wicket   bowling_economy   \n",
       "0      0.000000          0.000000                  0.000000          0.000000  \n",
       "1      0.000000          0.000000                  0.000000          0.000000  \n",
       "2      0.000000          0.000000                  0.000000          0.000000  \n",
       "3      0.000000          0.000000                  0.000000          0.000000  \n",
       "4      0.000000          0.000000                  0.000000          0.000000  \n",
       "..          ...               ...                       ...               ...  \n",
       "104    0.680592          0.016205                  0.680592          0.170148  \n",
       "105    0.962584          0.018874                  0.240646          0.050630  \n",
       "106    0.962663          0.016815                  0.240666          0.043719  \n",
       "107    0.962827          0.042229                  0.192565          0.086148  \n",
       "108    0.983726          0.041762                  0.104126          0.046588  \n",
       "\n",
       "[109 rows x 14 columns]"
      ]
     },
     "execution_count": 6,
     "metadata": {},
     "output_type": "execute_result"
    }
   ],
   "source": [
    "norm_df = pd.DataFrame(normalize(cric_df, norm='l2'), columns = cric_df.columns)\n",
    "norm_df"
   ]
  },
  {
   "cell_type": "code",
   "execution_count": 7,
   "metadata": {},
   "outputs": [
    {
     "data": {
      "text/plain": [
       "array([[0.00441638, 0.04416375, 0.03974738, ..., 0.        , 0.        ,\n",
       "        0.        ],\n",
       "       [0.        , 0.02035073, 0.01865483, ..., 0.        , 0.        ,\n",
       "        0.        ],\n",
       "       [0.00916623, 0.01374935, 0.01374935, ..., 0.        , 0.        ,\n",
       "        0.        ],\n",
       "       ...,\n",
       "       [0.06305654, 0.        , 0.        , ..., 0.01681508, 0.2406658 ,\n",
       "        0.0437192 ],\n",
       "       [0.13513354, 0.        , 0.        , ..., 0.04222923, 0.1925653 ,\n",
       "        0.08614763],\n",
       "       [0.08352389, 0.        , 0.        , ..., 0.04176194, 0.10412645,\n",
       "        0.04658777]])"
      ]
     },
     "execution_count": 7,
     "metadata": {},
     "output_type": "execute_result"
    }
   ],
   "source": [
    "normalized = Normalizer()\n",
    "cric_data_norm = normalized.transform(norm_df)\n",
    "cric_data_norm"
   ]
  },
  {
   "cell_type": "code",
   "execution_count": 8,
   "metadata": {},
   "outputs": [],
   "source": [
    "#cric_norm_df = pd.DataFrame({'matches_played':cric_data_norm[:,0],'innings_batted':cric_data_norm[:,1],'runs_scored':cric_data_norm[:,2],'highest_runs':cric_data_norm[:,3],'balls_faced':cric_data_norm[:,4],'average_runs':cric_data_norm[:,5],'strike_rate':cric_data_norm[:,6],'innings_bowled':cric_data_norm[:,7],'overs':cric_data_norm[:,8],'runs_given':cric_data_norm[:,9],'wickets_obtained':cric_data_norm[:,10],'average_runs_per_wicket':cric_data_norm[:,11],'bowling_economy':cric_data_norm[:,12]})"
   ]
  },
  {
   "cell_type": "code",
   "execution_count": 9,
   "metadata": {
    "scrolled": true
   },
   "outputs": [],
   "source": [
    "#cric_norm_df"
   ]
  },
  {
   "cell_type": "code",
   "execution_count": 10,
   "metadata": {},
   "outputs": [
    {
     "data": {
      "text/plain": [
       "array([[0.44163752, 0.        ],\n",
       "       [0.46637086, 0.        ],\n",
       "       [0.15124284, 0.        ],\n",
       "       [0.62067562, 0.        ],\n",
       "       [0.50644107, 0.        ],\n",
       "       [0.53775712, 0.        ],\n",
       "       [0.31168918, 0.01709734],\n",
       "       [0.08192454, 0.01724727],\n",
       "       [0.24532727, 0.02979482],\n",
       "       [0.20761453, 0.03536606],\n",
       "       [0.38264749, 0.01944134],\n",
       "       [0.04323542, 0.02069896],\n",
       "       [0.40373718, 0.        ],\n",
       "       [0.22690308, 0.04367884],\n",
       "       [0.52149113, 0.        ],\n",
       "       [0.59035741, 0.        ],\n",
       "       [0.10558259, 0.04146147],\n",
       "       [0.08786813, 0.04791125],\n",
       "       [0.3110982 , 0.03185053],\n",
       "       [0.23180095, 0.        ],\n",
       "       [0.14564024, 0.08778134],\n",
       "       [0.49194206, 0.03145448],\n",
       "       [0.2312114 , 0.05976464],\n",
       "       [0.39670534, 0.        ],\n",
       "       [0.0851766 , 0.02138226],\n",
       "       [0.47470137, 0.04688409],\n",
       "       [0.53940371, 0.        ],\n",
       "       [0.15412279, 0.01686882],\n",
       "       [0.55416576, 0.        ],\n",
       "       [0.50323827, 0.        ],\n",
       "       [0.51502842, 0.        ],\n",
       "       [0.41000942, 0.02818815],\n",
       "       [0.12234469, 0.02881897],\n",
       "       [0.370628  , 0.01695385],\n",
       "       [0.12177205, 0.03520319],\n",
       "       [0.30648067, 0.        ],\n",
       "       [0.49432695, 0.        ],\n",
       "       [0.41635934, 0.        ],\n",
       "       [0.07382029, 0.01874647],\n",
       "       [0.06155841, 0.02450611],\n",
       "       [0.51828971, 0.        ],\n",
       "       [0.31194833, 0.0935845 ],\n",
       "       [0.56308213, 0.        ],\n",
       "       [0.54480497, 0.        ],\n",
       "       [0.1720661 , 0.        ],\n",
       "       [0.44151079, 0.        ],\n",
       "       [0.15823517, 0.01928491],\n",
       "       [0.36343909, 0.01636633],\n",
       "       [0.51673557, 0.        ],\n",
       "       [0.17225993, 0.07382569],\n",
       "       [0.29932819, 0.        ],\n",
       "       [0.52951954, 0.        ],\n",
       "       [0.60885391, 0.        ],\n",
       "       [0.30193975, 0.06862267],\n",
       "       [0.32561683, 0.04670031],\n",
       "       [0.44291595, 0.        ],\n",
       "       [0.06158441, 0.0214519 ],\n",
       "       [0.03770477, 0.03523682],\n",
       "       [0.19431786, 0.03109086],\n",
       "       [0.06651251, 0.05210147],\n",
       "       [0.05548501, 0.02257231],\n",
       "       [0.52040847, 0.        ],\n",
       "       [0.55440627, 0.01703843],\n",
       "       [0.43088629, 0.        ],\n",
       "       [0.07852265, 0.01939971],\n",
       "       [0.4625076 , 0.        ],\n",
       "       [0.53634334, 0.        ],\n",
       "       [0.18172079, 0.03321687],\n",
       "       [0.50232888, 0.        ],\n",
       "       [0.06033144, 0.01309776],\n",
       "       [0.15225   , 0.01734792],\n",
       "       [0.20501543, 0.02047384],\n",
       "       [0.23465131, 0.        ],\n",
       "       [0.47797207, 0.        ],\n",
       "       [0.56272665, 0.        ],\n",
       "       [0.53323913, 0.        ],\n",
       "       [0.35741323, 0.        ],\n",
       "       [0.55438807, 0.        ],\n",
       "       [0.24503538, 0.        ],\n",
       "       [0.34121076, 0.01385627],\n",
       "       [0.48398424, 0.01207938],\n",
       "       [0.00931866, 0.01720224],\n",
       "       [0.56264473, 0.        ],\n",
       "       [0.04909947, 0.03155459],\n",
       "       [0.22564925, 0.        ],\n",
       "       [0.15517887, 0.02624247],\n",
       "       [0.56404652, 0.        ],\n",
       "       [0.44918908, 0.        ],\n",
       "       [0.23476925, 0.09932545],\n",
       "       [0.28398336, 0.01155571],\n",
       "       [0.57145479, 0.        ],\n",
       "       [0.57609994, 0.        ],\n",
       "       [0.14423828, 0.02822053],\n",
       "       [0.15299007, 0.0633816 ],\n",
       "       [0.44443391, 0.03483401],\n",
       "       [0.55728733, 0.        ],\n",
       "       [0.12849545, 0.03246201],\n",
       "       [0.445136  , 0.        ],\n",
       "       [0.5351937 , 0.01873178],\n",
       "       [0.41845899, 0.06592162],\n",
       "       [0.        , 0.24084836],\n",
       "       [0.        , 0.02659174],\n",
       "       [0.        , 0.03766128],\n",
       "       [0.        , 0.57576631],\n",
       "       [0.        , 0.17014789],\n",
       "       [0.        , 0.05063003],\n",
       "       [0.        , 0.0437192 ],\n",
       "       [0.        , 0.08614763],\n",
       "       [0.        , 0.04658777]])"
      ]
     },
     "execution_count": 10,
     "metadata": {},
     "output_type": "execute_result"
    }
   ],
   "source": [
    "X = cric_data_norm[:,5]\n",
    "X = np.column_stack((X,cric_data_norm[:,-1]))\n",
    "X"
   ]
  },
  {
   "cell_type": "code",
   "execution_count": 11,
   "metadata": {},
   "outputs": [],
   "source": [
    "from sklearn.cluster import KMeans\n",
    "km = KMeans(n_clusters=2, random_state=0, n_init=2)"
   ]
  },
  {
   "cell_type": "code",
   "execution_count": 12,
   "metadata": {},
   "outputs": [],
   "source": [
    "y_km = km.fit_predict(X)"
   ]
  },
  {
   "cell_type": "code",
   "execution_count": 13,
   "metadata": {},
   "outputs": [
    {
     "data": {
      "text/plain": [
       "(109, 2)"
      ]
     },
     "execution_count": 13,
     "metadata": {},
     "output_type": "execute_result"
    }
   ],
   "source": [
    "X.shape"
   ]
  },
  {
   "cell_type": "code",
   "execution_count": 14,
   "metadata": {},
   "outputs": [
    {
     "data": {
      "text/plain": [
       "(109,)"
      ]
     },
     "execution_count": 14,
     "metadata": {},
     "output_type": "execute_result"
    }
   ],
   "source": [
    "y_km.shape"
   ]
  },
  {
   "cell_type": "markdown",
   "metadata": {},
   "source": [
    "K = 2"
   ]
  },
  {
   "cell_type": "code",
   "execution_count": 15,
   "metadata": {},
   "outputs": [
    {
     "data": {
      "image/png": "[encoded data removed]",
      "text/plain": [
       "<Figure size 432x288 with 1 Axes>"
      ]
     },
     "metadata": {
      "needs_background": "light"
     },
     "output_type": "display_data"
    }
   ],
   "source": [
    "plt.scatter(\n",
    "    X[y_km == 0, 0], X[y_km == 0, 1],\n",
    "    s=50, c='lightgreen',\n",
    "    marker='s', edgecolor='black',\n",
    "    label='cluster 1'\n",
    ")\n",
    "\n",
    "plt.scatter(\n",
    "    X[y_km == 1, 0], X[y_km == 1, 1],\n",
    "    s=50, c='orange',\n",
    "    marker='o', edgecolor='black',\n",
    "    label='cluster 2'\n",
    ")\n",
    "\n",
    "\n",
    "# plot the centroids\n",
    "plt.scatter(\n",
    "    km.cluster_centers_[:, 0], km.cluster_centers_[:, 1],\n",
    "    s=250, marker='*',\n",
    "    c='red', edgecolor='black',\n",
    "    label='centroids'\n",
    ")\n",
    "plt.legend(scatterpoints=1)\n",
    "plt.grid()\n",
    "plt.show()"
   ]
  },
  {
   "cell_type": "markdown",
   "metadata": {},
   "source": [
    "# 3. Redo question-2 on different values of K = 2,3,4,5. For each case, draw the plot of clusters as stated above. Visualize these plots, copy the plot diagrams in the word document,  and comment on which is better clustering (and reasons) based on visualization only. [3 points]"
   ]
  },
  {
   "cell_type": "markdown",
   "metadata": {},
   "source": [
    "K =3"
   ]
  },
  {
   "cell_type": "code",
   "execution_count": 16,
   "metadata": {},
   "outputs": [],
   "source": [
    "km = KMeans(n_clusters=3, random_state=0, n_init=2)\n",
    "y_km = km.fit_predict(X)"
   ]
  },
  {
   "cell_type": "code",
   "execution_count": 17,
   "metadata": {},
   "outputs": [
    {
     "data": {
      "image/png": "[encoded data removed]",
      "text/plain": [
       "<Figure size 432x288 with 1 Axes>"
      ]
     },
     "metadata": {
      "needs_background": "light"
     },
     "output_type": "display_data"
    }
   ],
   "source": [
    "plt.scatter(\n",
    "    X[y_km == 0, 0], X[y_km == 0, 1],\n",
    "    s=50, c='lightgreen',\n",
    "    marker='s', edgecolor='black',\n",
    "    label='cluster 1'\n",
    ")\n",
    "\n",
    "plt.scatter(\n",
    "    X[y_km == 1, 0], X[y_km == 1, 1],\n",
    "    s=50, c='orange',\n",
    "    marker='o', edgecolor='black',\n",
    "    label='cluster 2'\n",
    ")\n",
    "\n",
    "plt.scatter(\n",
    "    X[y_km == 2, 0], X[y_km == 2, 1],\n",
    "    s=50, c='lightblue',\n",
    "    marker='v', edgecolor='black',\n",
    "    label='cluster 3'\n",
    ")\n",
    "\n",
    "# plot the centroids\n",
    "plt.scatter(\n",
    "    km.cluster_centers_[:, 0], km.cluster_centers_[:, 1],\n",
    "    s=250, marker='*',\n",
    "    c='red', edgecolor='black',\n",
    "    label='centroids'\n",
    ")\n",
    "plt.legend(scatterpoints=1)\n",
    "plt.grid()\n",
    "plt.show()"
   ]
  },
  {
   "cell_type": "markdown",
   "metadata": {},
   "source": [
    "K = 4"
   ]
  },
  {
   "cell_type": "code",
   "execution_count": 18,
   "metadata": {},
   "outputs": [],
   "source": [
    "km = KMeans(n_clusters=4, random_state=0, n_init=2)\n",
    "y_km = km.fit_predict(X)"
   ]
  },
  {
   "cell_type": "code",
   "execution_count": 19,
   "metadata": {},
   "outputs": [
    {
     "data": {
      "image/png": "[encoded data removed]",
      "text/plain": [
       "<Figure size 432x288 with 1 Axes>"
      ]
     },
     "metadata": {
      "needs_background": "light"
     },
     "output_type": "display_data"
    }
   ],
   "source": [
    "plt.scatter(\n",
    "    X[y_km == 0, 0], X[y_km == 0, 1],\n",
    "    s=50, c='lightgreen',\n",
    "    marker='s', edgecolor='black',\n",
    "    label='cluster 1'\n",
    ")\n",
    "\n",
    "plt.scatter(\n",
    "    X[y_km == 1, 0], X[y_km == 1, 1],\n",
    "    s=50, c='orange',\n",
    "    marker='o', edgecolor='black',\n",
    "    label='cluster 2'\n",
    ")\n",
    "\n",
    "plt.scatter(\n",
    "    X[y_km == 2, 0], X[y_km == 2, 1],\n",
    "    s=50, c='lightblue',\n",
    "    marker='v', edgecolor='black',\n",
    "    label='cluster 3'\n",
    ")\n",
    "\n",
    "plt.scatter(\n",
    "    X[y_km == 3, 0], X[y_km == 3, 1],\n",
    "    s=50, c='yellow',\n",
    "    marker='v', edgecolor='black',\n",
    "    label='cluster 4'\n",
    ")\n",
    "# plot the centroids\n",
    "plt.scatter(\n",
    "    km.cluster_centers_[:, 0], km.cluster_centers_[:, 1],\n",
    "    s=250, marker='*',\n",
    "    c='red', edgecolor='black',\n",
    "    label='centroids'\n",
    ")\n",
    "plt.legend(scatterpoints=1)\n",
    "plt.grid()\n",
    "plt.show()"
   ]
  },
  {
   "cell_type": "code",
   "execution_count": 20,
   "metadata": {},
   "outputs": [
    {
     "data": {
      "image/png": "[encoded data removed]",
      "text/plain": [
       "<Figure size 432x288 with 1 Axes>"
      ]
     },
     "metadata": {
      "needs_background": "light"
     },
     "output_type": "display_data"
    }
   ],
   "source": [
    "plt.scatter(\n",
    "    X[y_km == 0, 0], X[y_km == 0, 1],\n",
    "    s=50, c='lightgreen',\n",
    "    marker='s', edgecolor='black',\n",
    "    label='cluster 1'\n",
    ")\n",
    "\n",
    "plt.scatter(\n",
    "    X[y_km == 1, 0], X[y_km == 1, 1],\n",
    "    s=50, c='orange',\n",
    "    marker='o', edgecolor='black',\n",
    "    label='cluster 2'\n",
    ")\n",
    "\n",
    "plt.scatter(\n",
    "    X[y_km == 2, 0], X[y_km == 2, 1],\n",
    "    s=50, c='lightblue',\n",
    "    marker='v', edgecolor='black',\n",
    "    label='cluster 3'\n",
    ")\n",
    "\n",
    "plt.scatter(\n",
    "    X[y_km == 3, 0], X[y_km == 3, 1],\n",
    "    s=50, c='red',\n",
    "    marker='v', edgecolor='black',\n",
    "    label='cluster 4'\n",
    ")\n",
    "\n",
    "\n",
    "# plot the centroids\n",
    "plt.scatter(\n",
    "    km.cluster_centers_[:, 0], km.cluster_centers_[:, 1],\n",
    "    s=250, marker='*',\n",
    "    c='red', edgecolor='black',\n",
    "    label='centroids'\n",
    ")\n",
    "plt.legend(scatterpoints=1)\n",
    "plt.grid()\n",
    "plt.show()"
   ]
  }
 ],
 "metadata": {
  "kernelspec": {
   "display_name": "Python 3",
   "language": "python",
   "name": "python3"
  },
  "language_info": {
   "codemirror_mode": {
    "name": "ipython",
    "version": 3
   },
   "file_extension": ".py",
   "mimetype": "text/x-python",
   "name": "python",
   "nbconvert_exporter": "python",
   "pygments_lexer": "ipython3",
   "version": "3.7.4"
  }
 },
 "nbformat": 4,
 "nbformat_minor": 2
}
