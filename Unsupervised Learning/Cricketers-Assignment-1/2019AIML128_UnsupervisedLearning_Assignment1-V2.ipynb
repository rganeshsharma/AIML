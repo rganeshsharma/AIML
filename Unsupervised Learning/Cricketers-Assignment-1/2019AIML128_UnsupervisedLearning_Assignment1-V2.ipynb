{
 "cells": [
  {
   "cell_type": "markdown",
   "metadata": {},
   "source": [
    "Notes: Write all code related to this assignment in single jupyter notebook. Implement K-means algorithm from scratch, do not use any predefined ML library function for K-means algorithm. Use single word document to answer questions.\n",
    "\n",
    "1. Given that K-means depends on distance metric, it is a convention to normalize the data attributes so that attributes are on the same scale.  So, in this first task, normalize all data attributes. [2 points]\n",
    "\n",
    "2. Write your own code for K-means algorithm using two attributes namely average_runs and bowling_economy. Take K=2. Plot clusters on a scatter plot with X and Y being the two attributes namely average_runs and bowling_economy, respectively. Color data points belonging to the first cluster with red and the second cluster with blue. Copy the plot diagram in the word document and interpret the output. [3 points]\n",
    "\n",
    "3. Redo question-2 on different values of K = 2,3,4,5. For each case, draw the plot of clusters as stated above. Visualize these plots, copy the plot diagrams in the word document,  and comment on which is better clustering (and reasons) based on visualization only. [3 points]\n",
    "\n",
    "4. Write a few lines in a word document about the interpretation of the best clusters obtained. Also write a few statements about how these clusters can be useful. [2 points]"
   ]
  },
  {
   "cell_type": "code",
   "execution_count": 186,
   "metadata": {},
   "outputs": [],
   "source": [
    "#importing required libraries\n",
    "import numpy as np\n",
    "import pandas as pd\n",
    "import matplotlib\n",
    "import matplotlib.pyplot as plt\n",
    "matplotlib.use\n",
    "plt.style.use('ggplot')\n",
    "import seaborn as sns\n",
    "import random\n",
    "\n",
    "from sklearn import metrics\n",
    "from sklearn.preprocessing import LabelEncoder  \n",
    "\n",
    "from sklearn.preprocessing import StandardScaler\n"
   ]
  },
  {
   "cell_type": "code",
   "execution_count": 187,
   "metadata": {},
   "outputs": [
    {
     "data": {
      "text/html": [
       "<div>\n",
       "<style scoped>\n",
       "    .dataframe tbody tr th:only-of-type {\n",
       "        vertical-align: middle;\n",
       "    }\n",
       "\n",
       "    .dataframe tbody tr th {\n",
       "        vertical-align: top;\n",
       "    }\n",
       "\n",
       "    .dataframe thead th {\n",
       "        text-align: right;\n",
       "    }\n",
       "</style>\n",
       "<table border=\"1\" class=\"dataframe\">\n",
       "  <thead>\n",
       "    <tr style=\"text-align: right;\">\n",
       "      <th></th>\n",
       "      <th>PLAYER\tmatches_played\tinnings_batted\truns_scored\thighest_runs\tballs_faced\taverage_runs\tstrike_rate\tinnings_bowled\tovers\truns_given\twickets_obtained\taverage_runs_per_wicket \tbowling_economy</th>\n",
       "    </tr>\n",
       "  </thead>\n",
       "  <tbody>\n",
       "    <tr>\n",
       "      <th>0</th>\n",
       "      <td>Aaron Finch\\t10\\t9\\t134\\t46\\t100\\t16.75\\t144\\t...</td>\n",
       "    </tr>\n",
       "    <tr>\n",
       "      <th>1</th>\n",
       "      <td>AB de Villiers\\t12\\t11\\t480\\t90\\t275\\t53.33\\t1...</td>\n",
       "    </tr>\n",
       "    <tr>\n",
       "      <th>2</th>\n",
       "      <td>Abhishek Sharma\\t3\\t3\\t63\\t46\\t33\\t63\\t190.9\\t...</td>\n",
       "    </tr>\n",
       "    <tr>\n",
       "      <th>3</th>\n",
       "      <td>Ajinkya Rahane\\t15\\t14\\t370\\t65\\t313\\t28.46\\t1...</td>\n",
       "    </tr>\n",
       "    <tr>\n",
       "      <th>4</th>\n",
       "      <td>Alex Hales\\t6\\t6\\t148\\t45\\t118\\t24.66\\t125.42\\...</td>\n",
       "    </tr>\n",
       "  </tbody>\n",
       "</table>\n",
       "</div>"
      ],
      "text/plain": [
       "  PLAYER\\tmatches_played\\tinnings_batted\\truns_scored\\thighest_runs\\tballs_faced\\taverage_runs\\tstrike_rate\\tinnings_bowled\\tovers\\truns_given\\twickets_obtained\\taverage_runs_per_wicket \\tbowling_economy \n",
       "0  Aaron Finch\\t10\\t9\\t134\\t46\\t100\\t16.75\\t144\\t...                                                                                                                                                        \n",
       "1  AB de Villiers\\t12\\t11\\t480\\t90\\t275\\t53.33\\t1...                                                                                                                                                        \n",
       "2  Abhishek Sharma\\t3\\t3\\t63\\t46\\t33\\t63\\t190.9\\t...                                                                                                                                                        \n",
       "3  Ajinkya Rahane\\t15\\t14\\t370\\t65\\t313\\t28.46\\t1...                                                                                                                                                        \n",
       "4  Alex Hales\\t6\\t6\\t148\\t45\\t118\\t24.66\\t125.42\\...                                                                                                                                                        "
      ]
     },
     "execution_count": 187,
     "metadata": {},
     "output_type": "execute_result"
    }
   ],
   "source": [
    "#loading the dataset. NOTE: The file has been modified before importing to add the data labels. \n",
    "#Modified data file is attached with the submission.\n",
    "data = pd.read_csv(\"cricketers.csv\")\n",
    "data.head()"
   ]
  },
  {
   "cell_type": "code",
   "execution_count": 188,
   "metadata": {},
   "outputs": [
    {
     "data": {
      "text/html": [
       "<div>\n",
       "<style scoped>\n",
       "    .dataframe tbody tr th:only-of-type {\n",
       "        vertical-align: middle;\n",
       "    }\n",
       "\n",
       "    .dataframe tbody tr th {\n",
       "        vertical-align: top;\n",
       "    }\n",
       "\n",
       "    .dataframe thead th {\n",
       "        text-align: right;\n",
       "    }\n",
       "</style>\n",
       "<table border=\"1\" class=\"dataframe\">\n",
       "  <thead>\n",
       "    <tr style=\"text-align: right;\">\n",
       "      <th></th>\n",
       "      <th>PLAYER</th>\n",
       "      <th>matches_played</th>\n",
       "      <th>innings_batted</th>\n",
       "      <th>runs_scored</th>\n",
       "      <th>highest_runs</th>\n",
       "      <th>balls_faced</th>\n",
       "      <th>average_runs</th>\n",
       "      <th>strike_rate</th>\n",
       "      <th>innings_bowled</th>\n",
       "      <th>overs</th>\n",
       "      <th>runs_given</th>\n",
       "      <th>wickets_obtained</th>\n",
       "      <th>average_runs_per_wicket</th>\n",
       "      <th>bowling_economy</th>\n",
       "    </tr>\n",
       "  </thead>\n",
       "  <tbody>\n",
       "    <tr>\n",
       "      <th>0</th>\n",
       "      <td>Aaron Finch</td>\n",
       "      <td>10</td>\n",
       "      <td>9</td>\n",
       "      <td>134</td>\n",
       "      <td>46</td>\n",
       "      <td>100</td>\n",
       "      <td>16.75</td>\n",
       "      <td>144.00</td>\n",
       "      <td>0</td>\n",
       "      <td>0.0</td>\n",
       "      <td>0</td>\n",
       "      <td>0</td>\n",
       "      <td>0.0</td>\n",
       "      <td>0.0</td>\n",
       "    </tr>\n",
       "    <tr>\n",
       "      <th>1</th>\n",
       "      <td>AB de Villiers</td>\n",
       "      <td>12</td>\n",
       "      <td>11</td>\n",
       "      <td>480</td>\n",
       "      <td>90</td>\n",
       "      <td>275</td>\n",
       "      <td>53.33</td>\n",
       "      <td>174.54</td>\n",
       "      <td>0</td>\n",
       "      <td>0.0</td>\n",
       "      <td>0</td>\n",
       "      <td>0</td>\n",
       "      <td>0.0</td>\n",
       "      <td>0.0</td>\n",
       "    </tr>\n",
       "    <tr>\n",
       "      <th>2</th>\n",
       "      <td>Abhishek Sharma</td>\n",
       "      <td>3</td>\n",
       "      <td>3</td>\n",
       "      <td>63</td>\n",
       "      <td>46</td>\n",
       "      <td>33</td>\n",
       "      <td>63.00</td>\n",
       "      <td>190.90</td>\n",
       "      <td>0</td>\n",
       "      <td>0.0</td>\n",
       "      <td>0</td>\n",
       "      <td>0</td>\n",
       "      <td>0.0</td>\n",
       "      <td>0.0</td>\n",
       "    </tr>\n",
       "    <tr>\n",
       "      <th>3</th>\n",
       "      <td>Ajinkya Rahane</td>\n",
       "      <td>15</td>\n",
       "      <td>14</td>\n",
       "      <td>370</td>\n",
       "      <td>65</td>\n",
       "      <td>313</td>\n",
       "      <td>28.46</td>\n",
       "      <td>118.21</td>\n",
       "      <td>0</td>\n",
       "      <td>0.0</td>\n",
       "      <td>0</td>\n",
       "      <td>0</td>\n",
       "      <td>0.0</td>\n",
       "      <td>0.0</td>\n",
       "    </tr>\n",
       "    <tr>\n",
       "      <th>4</th>\n",
       "      <td>Alex Hales</td>\n",
       "      <td>6</td>\n",
       "      <td>6</td>\n",
       "      <td>148</td>\n",
       "      <td>45</td>\n",
       "      <td>118</td>\n",
       "      <td>24.66</td>\n",
       "      <td>125.42</td>\n",
       "      <td>0</td>\n",
       "      <td>0.0</td>\n",
       "      <td>0</td>\n",
       "      <td>0</td>\n",
       "      <td>0.0</td>\n",
       "      <td>0.0</td>\n",
       "    </tr>\n",
       "  </tbody>\n",
       "</table>\n",
       "</div>"
      ],
      "text/plain": [
       "            PLAYER  matches_played  innings_batted  runs_scored  highest_runs  \\\n",
       "0      Aaron Finch              10               9          134            46   \n",
       "1   AB de Villiers              12              11          480            90   \n",
       "2  Abhishek Sharma               3               3           63            46   \n",
       "3   Ajinkya Rahane              15              14          370            65   \n",
       "4       Alex Hales               6               6          148            45   \n",
       "\n",
       "   balls_faced  average_runs  strike_rate  innings_bowled  overs  runs_given  \\\n",
       "0          100         16.75       144.00               0    0.0           0   \n",
       "1          275         53.33       174.54               0    0.0           0   \n",
       "2           33         63.00       190.90               0    0.0           0   \n",
       "3          313         28.46       118.21               0    0.0           0   \n",
       "4          118         24.66       125.42               0    0.0           0   \n",
       "\n",
       "   wickets_obtained  average_runs_per_wicket   bowling_economy   \n",
       "0                 0                       0.0               0.0  \n",
       "1                 0                       0.0               0.0  \n",
       "2                 0                       0.0               0.0  \n",
       "3                 0                       0.0               0.0  \n",
       "4                 0                       0.0               0.0  "
      ]
     },
     "execution_count": 188,
     "metadata": {},
     "output_type": "execute_result"
    }
   ],
   "source": [
    "#Seems it has tab as separator instead of usual ,. Lets read it with corrector separator\n",
    "data = pd.read_csv(\"cricketers.csv\",sep ='\\t')\n",
    "data.head()"
   ]
  },
  {
   "cell_type": "code",
   "execution_count": 189,
   "metadata": {},
   "outputs": [
    {
     "data": {
      "text/plain": [
       "PLAYER                       object\n",
       "matches_played                int64\n",
       "innings_batted                int64\n",
       "runs_scored                   int64\n",
       "highest_runs                  int64\n",
       "balls_faced                   int64\n",
       "average_runs                float64\n",
       "strike_rate                 float64\n",
       "innings_bowled                int64\n",
       "overs                       float64\n",
       "runs_given                    int64\n",
       "wickets_obtained              int64\n",
       "average_runs_per_wicket     float64\n",
       "bowling_economy             float64\n",
       "dtype: object"
      ]
     },
     "execution_count": 189,
     "metadata": {},
     "output_type": "execute_result"
    }
   ],
   "source": [
    "data.dtypes"
   ]
  },
  {
   "cell_type": "code",
   "execution_count": 190,
   "metadata": {},
   "outputs": [
    {
     "data": {
      "text/plain": [
       "matches_played                int64\n",
       "innings_batted                int64\n",
       "runs_scored                   int64\n",
       "highest_runs                  int64\n",
       "balls_faced                   int64\n",
       "average_runs                float64\n",
       "strike_rate                 float64\n",
       "innings_bowled                int64\n",
       "overs                       float64\n",
       "runs_given                    int64\n",
       "wickets_obtained              int64\n",
       "average_runs_per_wicket     float64\n",
       "bowling_economy             float64\n",
       "dtype: object"
      ]
     },
     "execution_count": 190,
     "metadata": {},
     "output_type": "execute_result"
    }
   ],
   "source": [
    "#We don't need player name, lets drop it\n",
    "\n",
    "data.drop(data.columns[[0]], axis = 1, inplace = True) \n",
    "\n",
    "data.dtypes"
   ]
  },
  {
   "cell_type": "code",
   "execution_count": 191,
   "metadata": {},
   "outputs": [
    {
     "data": {
      "text/plain": [
       "(109, 13)"
      ]
     },
     "execution_count": 191,
     "metadata": {},
     "output_type": "execute_result"
    }
   ],
   "source": [
    "data.shape"
   ]
  },
  {
   "cell_type": "code",
   "execution_count": 192,
   "metadata": {},
   "outputs": [
    {
     "name": "stdout",
     "output_type": "stream",
     "text": [
      "<class 'pandas.core.frame.DataFrame'>\n",
      "RangeIndex: 109 entries, 0 to 108\n",
      "Data columns (total 13 columns):\n",
      "matches_played              109 non-null int64\n",
      "innings_batted              109 non-null int64\n",
      "runs_scored                 109 non-null int64\n",
      "highest_runs                109 non-null int64\n",
      "balls_faced                 109 non-null int64\n",
      "average_runs                109 non-null float64\n",
      "strike_rate                 109 non-null float64\n",
      "innings_bowled              109 non-null int64\n",
      "overs                       109 non-null float64\n",
      "runs_given                  109 non-null int64\n",
      "wickets_obtained            109 non-null int64\n",
      "average_runs_per_wicket     109 non-null float64\n",
      "bowling_economy             109 non-null float64\n",
      "dtypes: float64(5), int64(8)\n",
      "memory usage: 11.1 KB\n"
     ]
    }
   ],
   "source": [
    "data.info()"
   ]
  },
  {
   "cell_type": "code",
   "execution_count": 193,
   "metadata": {},
   "outputs": [
    {
     "data": {
      "text/plain": [
       "<matplotlib.axes._subplots.AxesSubplot at 0x1a1abd6f98>"
      ]
     },
     "execution_count": 193,
     "metadata": {},
     "output_type": "execute_result"
    },
    {
     "data": {
      "image/png": "[encoded data removed]",
      "text/plain": [
       "<Figure size 432x288 with 2 Axes>"
      ]
     },
     "metadata": {},
     "output_type": "display_data"
    }
   ],
   "source": [
    "#Finding correlation\n",
    "corr = data.corr()\n",
    "sns.heatmap(corr, \n",
    "         xticklabels=corr.columns, \n",
    "         yticklabels=corr.columns)"
   ]
  },
  {
   "cell_type": "code",
   "execution_count": 1,
   "metadata": {},
   "outputs": [
    {
     "ename": "NameError",
     "evalue": "name 'StandardScaler' is not defined",
     "output_type": "error",
     "traceback": [
      "\u001b[1;31m---------------------------------------------------------------------------\u001b[0m",
      "\u001b[1;31mNameError\u001b[0m                                 Traceback (most recent call last)",
      "\u001b[1;32m<ipython-input-1-88975a61f44f>\u001b[0m in \u001b[0;36m<module>\u001b[1;34m\u001b[0m\n\u001b[0;32m      3\u001b[0m \u001b[1;33m\u001b[0m\u001b[0m\n\u001b[0;32m      4\u001b[0m \u001b[1;31m#First lets do attribute/feature scaling since K-means depends on distance metric and so data must be normalized\u001b[0m\u001b[1;33m\u001b[0m\u001b[1;33m\u001b[0m\u001b[1;33m\u001b[0m\u001b[0m\n\u001b[1;32m----> 5\u001b[1;33m \u001b[0msc_X\u001b[0m \u001b[1;33m=\u001b[0m \u001b[0mStandardScaler\u001b[0m\u001b[1;33m(\u001b[0m\u001b[1;33m)\u001b[0m\u001b[1;33m\u001b[0m\u001b[1;33m\u001b[0m\u001b[0m\n\u001b[0m\u001b[0;32m      6\u001b[0m \u001b[0mdata_scaled\u001b[0m \u001b[1;33m=\u001b[0m \u001b[0mpd\u001b[0m\u001b[1;33m.\u001b[0m\u001b[0mDataFrame\u001b[0m\u001b[1;33m(\u001b[0m\u001b[0msc_X\u001b[0m\u001b[1;33m.\u001b[0m\u001b[0mfit_transform\u001b[0m\u001b[1;33m(\u001b[0m\u001b[0mdata\u001b[0m\u001b[1;33m)\u001b[0m\u001b[1;33m,\u001b[0m\u001b[0mcolumns\u001b[0m \u001b[1;33m=\u001b[0m \u001b[0mdata\u001b[0m\u001b[1;33m.\u001b[0m\u001b[0mcolumns\u001b[0m\u001b[1;33m)\u001b[0m\u001b[1;33m\u001b[0m\u001b[1;33m\u001b[0m\u001b[0m\n\u001b[0;32m      7\u001b[0m \u001b[1;33m\u001b[0m\u001b[0m\n",
      "\u001b[1;31mNameError\u001b[0m: name 'StandardScaler' is not defined"
     ]
    }
   ],
   "source": [
    "#There seems to be strong coorelation between balls faced and runs scored, runs given & overs, \n",
    "#runs given and wickets obtaiend etc.\n",
    "\n",
    "#First lets do attribute/feature scaling since K-means depends on distance metric and so data must be normalized\n",
    "sc_X = StandardScaler()\n",
    "data_scaled = pd.DataFrame(sc_X.fit_transform(data),columns = data.columns)\n",
    "\n",
    "data_scaled.head(10)"
   ]
  },
  {
   "cell_type": "code",
   "execution_count": 1,
   "metadata": {},
   "outputs": [
    {
     "ename": "NameError",
     "evalue": "name 'data_scaled' is not defined",
     "output_type": "error",
     "traceback": [
      "\u001b[1;31m---------------------------------------------------------------------------\u001b[0m",
      "\u001b[1;31mNameError\u001b[0m                                 Traceback (most recent call last)",
      "\u001b[1;32m<ipython-input-1-caf7e0a767d7>\u001b[0m in \u001b[0;36m<module>\u001b[1;34m\u001b[0m\n\u001b[0;32m      1\u001b[0m \u001b[1;31m#Lets develop k-means algorithm using attributes average_runs and bowling_economy and K=2.\u001b[0m\u001b[1;33m\u001b[0m\u001b[1;33m\u001b[0m\u001b[1;33m\u001b[0m\u001b[0m\n\u001b[0;32m      2\u001b[0m \u001b[1;33m\u001b[0m\u001b[0m\n\u001b[1;32m----> 3\u001b[1;33m \u001b[0mX\u001b[0m \u001b[1;33m=\u001b[0m \u001b[0mdata_scaled\u001b[0m\u001b[1;33m.\u001b[0m\u001b[0miloc\u001b[0m\u001b[1;33m[\u001b[0m\u001b[1;33m:\u001b[0m\u001b[1;33m,\u001b[0m\u001b[1;33m[\u001b[0m\u001b[1;36m5\u001b[0m\u001b[1;33m,\u001b[0m\u001b[1;36m12\u001b[0m\u001b[1;33m]\u001b[0m\u001b[1;33m]\u001b[0m\u001b[1;33m.\u001b[0m\u001b[0mvalues\u001b[0m\u001b[1;33m\u001b[0m\u001b[1;33m\u001b[0m\u001b[0m\n\u001b[0m\u001b[0;32m      4\u001b[0m \u001b[0mX\u001b[0m\u001b[1;33m\u001b[0m\u001b[1;33m\u001b[0m\u001b[0m\n",
      "\u001b[1;31mNameError\u001b[0m: name 'data_scaled' is not defined"
     ]
    }
   ],
   "source": [
    "#Lets develop k-means algorithm using attributes average_runs and bowling_economy and K=2.\n",
    "\n",
    "X = data_scaled.iloc[:,[5,12]].values\n",
    "X"
   ]
  },
  {
   "cell_type": "code",
   "execution_count": 196,
   "metadata": {},
   "outputs": [
    {
     "data": {
      "text/plain": [
       "(109, 2)"
      ]
     },
     "execution_count": 196,
     "metadata": {},
     "output_type": "execute_result"
    }
   ],
   "source": [
    "X.shape"
   ]
  },
  {
   "cell_type": "code",
   "execution_count": 197,
   "metadata": {},
   "outputs": [],
   "source": [
    "#Selecting number of iterations as 500\n",
    "n_iter = 500"
   ]
  },
  {
   "cell_type": "code",
   "execution_count": 198,
   "metadata": {},
   "outputs": [
    {
     "name": "stdout",
     "output_type": "stream",
     "text": [
      "[[-0.31399883  0.57055034]\n",
      " [-1.08383228 -1.08383228]]\n"
     ]
    }
   ],
   "source": [
    "#Setting K to 2\n",
    "K = 2  #number of clusters\n",
    "\n",
    "\n",
    "m = X.shape[0] #this is number of rows\n",
    "n = X.shape[1] #this is number of features\n",
    "\n",
    "#Step 1 - Initializing centroids \n",
    "Centroids = np.array([]).reshape(n,0)\n",
    "\n",
    "for i in range(K):\n",
    "    rand = random.randint(0,m-1)\n",
    "    Centroids=np.c_[Centroids,X[rand]]\n",
    "\n",
    "print(Centroids)\n"
   ]
  },
  {
   "cell_type": "code",
   "execution_count": 199,
   "metadata": {},
   "outputs": [
    {
     "data": {
      "text/plain": [
       "(109,)"
      ]
     },
     "execution_count": 199,
     "metadata": {},
     "output_type": "execute_result"
    }
   ],
   "source": [
    "#Step 2 - Calculating euclidian distance from centroid to points and assigning an appropriate cluster to points\n",
    "\n",
    "Output = {}\n",
    "EuclidianDistance=np.array([]).reshape(m,0)\n",
    "for k in range(K):\n",
    "    tempDist=np.sum((X-Centroids[:,k])**2,axis=1)\n",
    "    EuclidianDistance=np.c_[EuclidianDistance,tempDist]\n",
    "C=np.argmin(EuclidianDistance,axis=1)+1\n",
    "\n",
    "C.shape"
   ]
  },
  {
   "cell_type": "code",
   "execution_count": 200,
   "metadata": {},
   "outputs": [],
   "source": [
    "#Step 3 - Regrouping the data points based on the cluster index C and store in Output dictionary.\n",
    "#Compute the mean of spearated clusters and assign new centroids\n",
    "Y={}\n",
    "for k in range(K):\n",
    "    Y[k+1]=np.array([]).reshape(2,0)\n",
    "for i in range(m):\n",
    "    Y[C[i]]=np.c_[Y[C[i]],X[i]]\n",
    "     \n",
    "for k in range(K):\n",
    "    Y[k+1]=Y[k+1].T\n",
    "    \n",
    "for k in range(K):\n",
    "     Centroids[:,k]=np.mean(Y[k+1],axis=0)"
   ]
  },
  {
   "cell_type": "code",
   "execution_count": 201,
   "metadata": {},
   "outputs": [],
   "source": [
    "#Looping through number of iterations\n",
    "for i in range(n_iter):\n",
    "      EuclidianDistance=np.array([]).reshape(m,0)\n",
    "      for k in range(K):\n",
    "          tempDist=np.sum((X-Centroids[:,k])**2,axis=1)\n",
    "          EuclidianDistance=np.c_[EuclidianDistance,tempDist]\n",
    "      C=np.argmin(EuclidianDistance,axis=1)+1\n",
    "      Y={}\n",
    "      for k in range(K):\n",
    "          Y[k+1]=np.array([]).reshape(2,0)\n",
    "      for i in range(m):\n",
    "          Y[C[i]]=np.c_[Y[C[i]],X[i]]\n",
    "     \n",
    "      for k in range(K):\n",
    "          Y[k+1]=Y[k+1].T\n",
    "    \n",
    "      for k in range(K):\n",
    "          Centroids[:,k]=np.mean(Y[k+1],axis=0)\n",
    "      Output=Y"
   ]
  },
  {
   "cell_type": "code",
   "execution_count": 202,
   "metadata": {},
   "outputs": [
    {
     "data": {
      "image/png": "[encoded data removed]",
      "text/plain": [
       "<Figure size 432x288 with 1 Axes>"
      ]
     },
     "metadata": {},
     "output_type": "display_data"
    }
   ],
   "source": [
    "#Step 4 - Plot un-clustered data\n",
    "plt.scatter(X[:,0],X[:,1],c='black',label='unclustered data')\n",
    "plt.xlabel('average_runs')\n",
    "plt.ylabel('bowling_economy')\n",
    "plt.legend()\n",
    "plt.title('Plot of data points')\n",
    "plt.show()"
   ]
  },
  {
   "cell_type": "code",
   "execution_count": 203,
   "metadata": {},
   "outputs": [
    {
     "data": {
      "image/png": "[encoded data removed]",
      "text/plain": [
       "<Figure size 432x288 with 1 Axes>"
      ]
     },
     "metadata": {},
     "output_type": "display_data"
    }
   ],
   "source": [
    "#Step 5 - Plot clustered data\n",
    "color=['red','blue']\n",
    "labels=['cluster1','cluster2']\n",
    "for k in range(K):\n",
    "    plt.scatter(Output[k+1][:,0],Output[k+1][:,1],c=color[k],label=labels[k])\n",
    "plt.scatter(Centroids[0,:],Centroids[1,:],s=100,c='yellow',label='Centroids')\n",
    "plt.xlabel('average_runs')\n",
    "plt.ylabel('bowling_economy')\n",
    "plt.legend()\n",
    "plt.show()"
   ]
  },
  {
   "cell_type": "markdown",
   "metadata": {},
   "source": [
    "INTERPRETATION:\n",
    "This nicely breaks the data-points in two clusters, CLUSTER 1 denotes the bowlers who have a certain bowling efficiency scores; some of the bowlers are all-rounders, i.e. they also bat and have average run scores.\n",
    "CLUSTER 2 denotes pure batsmen (who do not bowl at all, so don't have bowling economy scores), but have a range of average runs. "
   ]
  },
  {
   "cell_type": "code",
   "execution_count": 204,
   "metadata": {},
   "outputs": [
    {
     "data": {
      "image/png": "[encoded data removed]",
      "text/plain": [
       "<Figure size 432x288 with 1 Axes>"
      ]
     },
     "metadata": {},
     "output_type": "display_data"
    }
   ],
   "source": [
    "#Setting K to 3\n",
    "K = 3  #number of clusters\n",
    "\n",
    "\n",
    "m = X.shape[0] #this is number of rows\n",
    "n = X.shape[1] #this is number of features\n",
    "\n",
    "#Step 1 - Initializing centroids \n",
    "Centroids = np.array([]).reshape(n,0)\n",
    "\n",
    "for i in range(K):\n",
    "    rand = random.randint(0,m-1)\n",
    "    Centroids=np.c_[Centroids,X[rand]]\n",
    "\n",
    "#Step 2 - Calculating euclidian distance from centroid to points and assigning an appropriate cluster to points\n",
    "\n",
    "Output = {}\n",
    "EuclidianDistance=np.array([]).reshape(m,0)\n",
    "for k in range(K):\n",
    "    tempDist=np.sum((X-Centroids[:,k])**2,axis=1)\n",
    "    EuclidianDistance=np.c_[EuclidianDistance,tempDist]\n",
    "C=np.argmin(EuclidianDistance,axis=1)+1\n",
    "\n",
    "#Step 3 - Regrouping the data points based on the cluster index C and store in Output dictionary.\n",
    "#Compute the mean of spearated clusters and assign new centroids\n",
    "Y={}\n",
    "for k in range(K):\n",
    "    Y[k+1]=np.array([]).reshape(2,0)\n",
    "for i in range(m):\n",
    "    Y[C[i]]=np.c_[Y[C[i]],X[i]]\n",
    "     \n",
    "for k in range(K):\n",
    "    Y[k+1]=Y[k+1].T\n",
    "    \n",
    "for k in range(K):\n",
    "     Centroids[:,k]=np.mean(Y[k+1],axis=0)\n",
    "\n",
    "#Looping through number of iterations\n",
    "for i in range(n_iter):\n",
    "      EuclidianDistance=np.array([]).reshape(m,0)\n",
    "      for k in range(K):\n",
    "          tempDist=np.sum((X-Centroids[:,k])**2,axis=1)\n",
    "          EuclidianDistance=np.c_[EuclidianDistance,tempDist]\n",
    "      C=np.argmin(EuclidianDistance,axis=1)+1\n",
    "      Y={}\n",
    "      for k in range(K):\n",
    "          Y[k+1]=np.array([]).reshape(2,0)\n",
    "      for i in range(m):\n",
    "          Y[C[i]]=np.c_[Y[C[i]],X[i]]\n",
    "     \n",
    "      for k in range(K):\n",
    "          Y[k+1]=Y[k+1].T\n",
    "    \n",
    "      for k in range(K):\n",
    "          Centroids[:,k]=np.mean(Y[k+1],axis=0)\n",
    "      Output=Y\n",
    "\n",
    "\n",
    "#Step 5 - Plot clustered data\n",
    "color=['red','blue','green']\n",
    "labels=['cluster1','cluster2','cluster3']\n",
    "for k in range(K):\n",
    "    plt.scatter(Output[k+1][:,0],Output[k+1][:,1],c=color[k],label=labels[k])\n",
    "plt.scatter(Centroids[0,:],Centroids[1,:],s=100,c='yellow',label='Centroids')\n",
    "plt.xlabel('average_runs')\n",
    "plt.ylabel('bowling_economy')\n",
    "plt.legend()\n",
    "plt.show()"
   ]
  },
  {
   "cell_type": "markdown",
   "metadata": {},
   "source": [
    "INTERPRETATION:\n",
    "This nicely breaks the data-points in three clusters, CLUSTER 1 denotes the bowlers who are also all-rounders, i.e. they also bat and have average run scores. CLUSTER 3 denotes pure bowlers.\n",
    "CLUSTER 2 denotes pure batsmen (who do not bowl at all, so don't have bowling economy scores), but have a range of average runs. "
   ]
  },
  {
   "cell_type": "code",
   "execution_count": 205,
   "metadata": {},
   "outputs": [
    {
     "data": {
      "image/png": "[encoded data removed]",
      "text/plain": [
       "<Figure size 432x288 with 1 Axes>"
      ]
     },
     "metadata": {},
     "output_type": "display_data"
    }
   ],
   "source": [
    "#Setting K to 4\n",
    "K = 4  #number of clusters\n",
    "\n",
    "\n",
    "m = X.shape[0] #this is number of rows\n",
    "n = X.shape[1] #this is number of features\n",
    "\n",
    "#Step 1 - Initializing centroids \n",
    "Centroids = np.array([]).reshape(n,0)\n",
    "\n",
    "for i in range(K):\n",
    "    rand = random.randint(0,m-1)\n",
    "    Centroids=np.c_[Centroids,X[rand]]\n",
    "\n",
    "#Step 2 - Calculating euclidian distance from centroid to points and assigning an appropriate cluster to points\n",
    "\n",
    "Output = {}\n",
    "EuclidianDistance=np.array([]).reshape(m,0)\n",
    "for k in range(K):\n",
    "    tempDist=np.sum((X-Centroids[:,k])**2,axis=1)\n",
    "    EuclidianDistance=np.c_[EuclidianDistance,tempDist]\n",
    "C=np.argmin(EuclidianDistance,axis=1)+1\n",
    "\n",
    "#Step 3 - Regrouping the data points based on the cluster index C and store in Output dictionary.\n",
    "#Compute the mean of spearated clusters and assign new centroids\n",
    "Y={}\n",
    "for k in range(K):\n",
    "    Y[k+1]=np.array([]).reshape(2,0)\n",
    "for i in range(m):\n",
    "    Y[C[i]]=np.c_[Y[C[i]],X[i]]\n",
    "     \n",
    "for k in range(K):\n",
    "    Y[k+1]=Y[k+1].T\n",
    "    \n",
    "for k in range(K):\n",
    "     Centroids[:,k]=np.mean(Y[k+1],axis=0)\n",
    "\n",
    "#Looping through number of iterations\n",
    "for i in range(n_iter):\n",
    "      EuclidianDistance=np.array([]).reshape(m,0)\n",
    "      for k in range(K):\n",
    "          tempDist=np.sum((X-Centroids[:,k])**2,axis=1)\n",
    "          EuclidianDistance=np.c_[EuclidianDistance,tempDist]\n",
    "      C=np.argmin(EuclidianDistance,axis=1)+1\n",
    "      Y={}\n",
    "      for k in range(K):\n",
    "          Y[k+1]=np.array([]).reshape(2,0)\n",
    "      for i in range(m):\n",
    "          Y[C[i]]=np.c_[Y[C[i]],X[i]]\n",
    "     \n",
    "      for k in range(K):\n",
    "          Y[k+1]=Y[k+1].T\n",
    "    \n",
    "      for k in range(K):\n",
    "          Centroids[:,k]=np.mean(Y[k+1],axis=0)\n",
    "      Output=Y\n",
    "\n",
    "\n",
    "#Step 5 - Plot clustered data\n",
    "color=['red','blue','green','cyan']\n",
    "labels=['cluster1','cluster2','cluster3','cluster4']\n",
    "for k in range(K):\n",
    "    plt.scatter(Output[k+1][:,0],Output[k+1][:,1],c=color[k],label=labels[k])\n",
    "plt.scatter(Centroids[0,:],Centroids[1,:],s=100,c='yellow',label='Centroids')\n",
    "plt.xlabel('average_runs')\n",
    "plt.ylabel('bowling_economy')\n",
    "plt.legend()\n",
    "plt.show()"
   ]
  },
  {
   "cell_type": "markdown",
   "metadata": {},
   "source": [
    "INTERPRETATION:\n",
    "This clustering seems best, we can clearly see 4 clusters and each cluster has sufficient data points. \n",
    "CLUSTER 1 - Pure batsmen with lower batting average\n",
    "CLUSTER 2 - All-rounder bowlers\n",
    "CLUSTER 3 - Pure bowlers\n",
    "CLUSTER 4 - Pure batsmen with higher batting average."
   ]
  },
  {
   "cell_type": "code",
   "execution_count": 206,
   "metadata": {},
   "outputs": [
    {
     "data": {
      "image/png": "[encoded data removed]",
      "text/plain": [
       "<Figure size 432x288 with 1 Axes>"
      ]
     },
     "metadata": {},
     "output_type": "display_data"
    }
   ],
   "source": [
    "#Setting K to 5\n",
    "K = 5  #number of clusters\n",
    "\n",
    "\n",
    "m = X.shape[0] #this is number of rows\n",
    "n = X.shape[1] #this is number of features\n",
    "\n",
    "#Step 1 - Initializing centroids \n",
    "Centroids = np.array([]).reshape(n,0)\n",
    "\n",
    "for i in range(K):\n",
    "    rand = random.randint(0,m-1)\n",
    "    Centroids=np.c_[Centroids,X[rand]]\n",
    "\n",
    "#Step 2 - Calculating euclidian distance from centroid to points and assigning an appropriate cluster to points\n",
    "\n",
    "Output = {}\n",
    "EuclidianDistance=np.array([]).reshape(m,0)\n",
    "for k in range(K):\n",
    "    tempDist=np.sum((X-Centroids[:,k])**2,axis=1)\n",
    "    EuclidianDistance=np.c_[EuclidianDistance,tempDist]\n",
    "C=np.argmin(EuclidianDistance,axis=1)+1\n",
    "\n",
    "#Step 3 - Regrouping the data points based on the cluster index C and store in Output dictionary.\n",
    "#Compute the mean of spearated clusters and assign new centroids\n",
    "Y={}\n",
    "for k in range(K):\n",
    "    Y[k+1]=np.array([]).reshape(2,0)\n",
    "for i in range(m):\n",
    "    Y[C[i]]=np.c_[Y[C[i]],X[i]]\n",
    "     \n",
    "for k in range(K):\n",
    "    Y[k+1]=Y[k+1].T\n",
    "    \n",
    "for k in range(K):\n",
    "     Centroids[:,k]=np.mean(Y[k+1],axis=0)\n",
    "\n",
    "#Looping through number of iterations\n",
    "for i in range(n_iter):\n",
    "      EuclidianDistance=np.array([]).reshape(m,0)\n",
    "      for k in range(K):\n",
    "          tempDist=np.sum((X-Centroids[:,k])**2,axis=1)\n",
    "          EuclidianDistance=np.c_[EuclidianDistance,tempDist]\n",
    "      C=np.argmin(EuclidianDistance,axis=1)+1\n",
    "      Y={}\n",
    "      for k in range(K):\n",
    "          Y[k+1]=np.array([]).reshape(2,0)\n",
    "      for i in range(m):\n",
    "          Y[C[i]]=np.c_[Y[C[i]],X[i]]\n",
    "     \n",
    "      for k in range(K):\n",
    "          Y[k+1]=Y[k+1].T\n",
    "    \n",
    "      for k in range(K):\n",
    "          Centroids[:,k]=np.mean(Y[k+1],axis=0)\n",
    "      Output=Y\n",
    "\n",
    "\n",
    "#Step 5 - Plot clustered data\n",
    "color=['red','blue','green','cyan','pink']\n",
    "labels=['cluster1','cluster2','cluster3','cluster4','cluster5']\n",
    "for k in range(K):\n",
    "    plt.scatter(Output[k+1][:,0],Output[k+1][:,1],c=color[k],label=labels[k])\n",
    "plt.scatter(Centroids[0,:],Centroids[1,:],s=100,c='yellow',label='Centroids')\n",
    "plt.xlabel('average_runs')\n",
    "plt.ylabel('bowling_economy')\n",
    "plt.legend()\n",
    "plt.show()"
   ]
  },
  {
   "cell_type": "markdown",
   "metadata": {},
   "source": [
    "INTERPRETATION\n",
    "This clustering is also showing various groups as in K=4 case, however, there does not seem to be much data points in CLUSTER 2. For the small number of data points, i.e. 109 data points, K=5 may an overkill. \n",
    "\n",
    "CLUSTER 5 - Pure batsmen with lower batting average\n",
    "CLUSTER 2 - All-rounder batsmen, with higher batting average but also higher bowling economy.\n",
    "CLUSTER 3 - Pure bowlers\n",
    "CLUSTER 1 - Pure batsmen with higher batting average.\n",
    "CLUSTER 4 - All-rounder bowlers, with lower batting average but also lower bowling economy."
   ]
  }
 ],
 "metadata": {
  "kernelspec": {
   "display_name": "Python 3",
   "language": "python",
   "name": "python3"
  },
  "language_info": {
   "codemirror_mode": {
    "name": "ipython",
    "version": 3
   },
   "file_extension": ".py",
   "mimetype": "text/x-python",
   "name": "python",
   "nbconvert_exporter": "python",
   "pygments_lexer": "ipython3",
   "version": "3.7.4"
  }
 },
 "nbformat": 4,
 "nbformat_minor": 2
}
