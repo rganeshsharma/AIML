{
 "cells": [
  {
   "cell_type": "code",
   "execution_count": 111,
   "metadata": {},
   "outputs": [],
   "source": [
    "from sklearn.feature_extraction.text import CountVectorizer\n",
    "\n",
    "train_text = ['A bird in the hand is worth two in the bush. ' + \\\n",
    "'GOOD things comes to those to wait. ' + \\\n",
    "'These watches cost $255. ' + \\\n",
    "'Mr.Smith gies to Washington. ' + \\\n",
    "'Doogle Broswer M.D.']"
   ]
  },
  {
   "cell_type": "code",
   "execution_count": 112,
   "metadata": {},
   "outputs": [],
   "source": [
    "count_vectorizer = CountVectorizer()"
   ]
  },
  {
   "cell_type": "code",
   "execution_count": 113,
   "metadata": {},
   "outputs": [
    {
     "data": {
      "text/plain": [
       "CountVectorizer()"
      ]
     },
     "execution_count": 113,
     "metadata": {},
     "output_type": "execute_result"
    }
   ],
   "source": [
    "count_vectorizer.fit(train_text)"
   ]
  },
  {
   "cell_type": "code",
   "execution_count": 114,
   "metadata": {},
   "outputs": [
    {
     "data": {
      "text/plain": [
       "['255',\n",
       " 'bird',\n",
       " 'broswer',\n",
       " 'bush',\n",
       " 'comes',\n",
       " 'cost',\n",
       " 'doogle',\n",
       " 'gies',\n",
       " 'good',\n",
       " 'hand',\n",
       " 'in',\n",
       " 'is',\n",
       " 'mr',\n",
       " 'smith',\n",
       " 'the',\n",
       " 'these',\n",
       " 'things',\n",
       " 'those',\n",
       " 'to',\n",
       " 'two',\n",
       " 'wait',\n",
       " 'washington',\n",
       " 'watches',\n",
       " 'worth']"
      ]
     },
     "execution_count": 114,
     "metadata": {},
     "output_type": "execute_result"
    }
   ],
   "source": [
    "count_vectorizer.get_feature_names()"
   ]
  },
  {
   "cell_type": "code",
   "execution_count": 115,
   "metadata": {},
   "outputs": [],
   "source": [
    "count_vectorizer.get_stop_words()"
   ]
  },
  {
   "cell_type": "code",
   "execution_count": 116,
   "metadata": {},
   "outputs": [
    {
     "data": {
      "text/plain": [
       "{'bird': 1,\n",
       " 'in': 10,\n",
       " 'the': 14,\n",
       " 'hand': 9,\n",
       " 'is': 11,\n",
       " 'worth': 23,\n",
       " 'two': 19,\n",
       " 'bush': 3,\n",
       " 'good': 8,\n",
       " 'things': 16,\n",
       " 'comes': 4,\n",
       " 'to': 18,\n",
       " 'those': 17,\n",
       " 'wait': 20,\n",
       " 'these': 15,\n",
       " 'watches': 22,\n",
       " 'cost': 5,\n",
       " '255': 0,\n",
       " 'mr': 12,\n",
       " 'smith': 13,\n",
       " 'gies': 7,\n",
       " 'washington': 21,\n",
       " 'doogle': 6,\n",
       " 'broswer': 2}"
      ]
     },
     "execution_count": 116,
     "metadata": {},
     "output_type": "execute_result"
    }
   ],
   "source": [
    "count_vectorizer.vocabulary_"
   ]
  },
  {
   "cell_type": "code",
   "execution_count": 117,
   "metadata": {},
   "outputs": [
    {
     "data": {
      "text/plain": [
       "6"
      ]
     },
     "execution_count": 117,
     "metadata": {},
     "output_type": "execute_result"
    }
   ],
   "source": [
    "count_vectorizer.vocabulary_.get('doogle')"
   ]
  },
  {
   "cell_type": "code",
   "execution_count": 118,
   "metadata": {},
   "outputs": [
    {
     "data": {
      "text/plain": [
       "['A bird in the hand is worth two in the bush. GOOD things comes to those to wait. These watches cost $255. Mr.Smith gies to Washington. Doogle Broswer M.D.']"
      ]
     },
     "execution_count": 118,
     "metadata": {},
     "output_type": "execute_result"
    }
   ],
   "source": [
    "# Lets us use Bag of Words representation of Text data\n",
    "train_text"
   ]
  },
  {
   "cell_type": "code",
   "execution_count": 119,
   "metadata": {},
   "outputs": [],
   "source": [
    "transformed_vector = count_vectorizer.transform(train_text)"
   ]
  },
  {
   "cell_type": "code",
   "execution_count": 120,
   "metadata": {},
   "outputs": [
    {
     "name": "stdout",
     "output_type": "stream",
     "text": [
      "  (0, 0)\t1\n",
      "  (0, 1)\t1\n",
      "  (0, 2)\t1\n",
      "  (0, 3)\t1\n",
      "  (0, 4)\t1\n",
      "  (0, 5)\t1\n",
      "  (0, 6)\t1\n",
      "  (0, 7)\t1\n",
      "  (0, 8)\t1\n",
      "  (0, 9)\t1\n",
      "  (0, 10)\t2\n",
      "  (0, 11)\t1\n",
      "  (0, 12)\t1\n",
      "  (0, 13)\t1\n",
      "  (0, 14)\t2\n",
      "  (0, 15)\t1\n",
      "  (0, 16)\t1\n",
      "  (0, 17)\t1\n",
      "  (0, 18)\t3\n",
      "  (0, 19)\t1\n",
      "  (0, 20)\t1\n",
      "  (0, 21)\t1\n",
      "  (0, 22)\t1\n",
      "  (0, 23)\t1\n"
     ]
    }
   ],
   "source": [
    "print(transformed_vector)"
   ]
  },
  {
   "cell_type": "code",
   "execution_count": 121,
   "metadata": {},
   "outputs": [
    {
     "data": {
      "text/plain": [
       "(1, 24)"
      ]
     },
     "execution_count": 121,
     "metadata": {},
     "output_type": "execute_result"
    }
   ],
   "source": [
    "transformed_vector.shape"
   ]
  },
  {
   "cell_type": "code",
   "execution_count": 122,
   "metadata": {},
   "outputs": [
    {
     "name": "stdout",
     "output_type": "stream",
     "text": [
      "[[1 1 1 1 1 1 1 1 1 1 2 1 1 1 2 1 1 1 3 1 1 1 1 1]]\n"
     ]
    }
   ],
   "source": [
    "print(transformed_vector.toarray())"
   ]
  },
  {
   "cell_type": "code",
   "execution_count": 123,
   "metadata": {},
   "outputs": [
    {
     "data": {
      "text/plain": [
       "array([[0, 0, 0, 0, 0, 0, 0, 0, 0, 0, 0, 0, 0, 0, 0, 0, 0, 0, 0, 0, 0, 0,\n",
       "        0, 0]], dtype=int64)"
      ]
     },
     "execution_count": 123,
     "metadata": {},
     "output_type": "execute_result"
    }
   ],
   "source": [
    "test_text = ['Every CLoud has a silver linig.']\n",
    "count_vectorizer.transform(test_text).toarray()"
   ]
  },
  {
   "cell_type": "code",
   "execution_count": 124,
   "metadata": {},
   "outputs": [
    {
     "data": {
      "text/plain": [
       "CountVectorizer()"
      ]
     },
     "execution_count": 124,
     "metadata": {},
     "output_type": "execute_result"
    }
   ],
   "source": [
    "count_vectorizer.fit(train_text + test_text)"
   ]
  },
  {
   "cell_type": "code",
   "execution_count": 125,
   "metadata": {},
   "outputs": [
    {
     "name": "stdout",
     "output_type": "stream",
     "text": [
      "{'bird': 1, 'in': 13, 'the': 19, 'hand': 11, 'is': 14, 'worth': 28, 'two': 24, 'bush': 3, 'good': 10, 'things': 21, 'comes': 5, 'to': 23, 'those': 22, 'wait': 25, 'these': 20, 'watches': 27, 'cost': 6, '255': 0, 'mr': 16, 'smith': 18, 'gies': 9, 'washington': 26, 'doogle': 7, 'broswer': 2, 'every': 8, 'cloud': 4, 'has': 12, 'silver': 17, 'linig': 15}\n"
     ]
    }
   ],
   "source": [
    "print(count_vectorizer.vocabulary_)"
   ]
  },
  {
   "cell_type": "code",
   "execution_count": 126,
   "metadata": {},
   "outputs": [
    {
     "data": {
      "text/plain": [
       "array([[0, 0, 0, 0, 1, 0, 0, 0, 1, 0, 0, 0, 1, 0, 0, 1, 0, 1, 0, 0, 0, 0,\n",
       "        0, 0, 0, 0, 0, 0, 0]], dtype=int64)"
      ]
     },
     "execution_count": 126,
     "metadata": {},
     "output_type": "execute_result"
    }
   ],
   "source": [
    "count_vectorizer.transform(test_text).toarray()"
   ]
  },
  {
   "cell_type": "code",
   "execution_count": 127,
   "metadata": {},
   "outputs": [
    {
     "data": {
      "text/plain": [
       "<1x29 sparse matrix of type '<class 'numpy.int64'>'\n",
       "\twith 15 stored elements in Compressed Sparse Row format>"
      ]
     },
     "execution_count": 127,
     "metadata": {},
     "output_type": "execute_result"
    }
   ],
   "source": [
    "text =  ['A bird in the hand is worth two in the bush. ' + \\\n",
    "         'GOOD things comes to those to wait. ' + \\\n",
    "         'Watches are cool']\n",
    "transformed_vector = count_vectorizer.transform(text)\n",
    "transformed_vector"
   ]
  },
  {
   "cell_type": "code",
   "execution_count": 128,
   "metadata": {},
   "outputs": [
    {
     "name": "stdout",
     "output_type": "stream",
     "text": [
      "  (0, 1)\t1\n",
      "  (0, 3)\t1\n",
      "  (0, 5)\t1\n",
      "  (0, 10)\t1\n",
      "  (0, 11)\t1\n",
      "  (0, 13)\t2\n",
      "  (0, 14)\t1\n",
      "  (0, 19)\t2\n",
      "  (0, 21)\t1\n",
      "  (0, 22)\t1\n",
      "  (0, 23)\t2\n",
      "  (0, 24)\t1\n",
      "  (0, 25)\t1\n",
      "  (0, 27)\t1\n",
      "  (0, 28)\t1\n"
     ]
    }
   ],
   "source": [
    "print(transformed_vector)"
   ]
  },
  {
   "cell_type": "code",
   "execution_count": 129,
   "metadata": {},
   "outputs": [
    {
     "data": {
      "text/plain": [
       "(1, 29)"
      ]
     },
     "execution_count": 129,
     "metadata": {},
     "output_type": "execute_result"
    }
   ],
   "source": [
    "transformed_vector.shape"
   ]
  },
  {
   "cell_type": "code",
   "execution_count": 130,
   "metadata": {},
   "outputs": [
    {
     "name": "stdout",
     "output_type": "stream",
     "text": [
      "[[0 1 0 1 0 1 0 0 0 0 1 1 0 2 1 0 0 0 0 2 0 1 1 2 1 1 0 1 1]]\n"
     ]
    }
   ],
   "source": [
    "print(transformed_vector.toarray())"
   ]
  },
  {
   "cell_type": "code",
   "execution_count": 131,
   "metadata": {},
   "outputs": [
    {
     "data": {
      "text/plain": [
       "['A bird in the hand is worth two in the bush. GOOD things comes to those to wait. These watches cost $255. Mr.Smith gies to Washington. Doogle Broswer M.D.']"
      ]
     },
     "execution_count": 131,
     "metadata": {},
     "output_type": "execute_result"
    }
   ],
   "source": [
    "# Generating n-grams is very simillar to that of normal count vectorixer\n",
    "train_text"
   ]
  },
  {
   "cell_type": "code",
   "execution_count": 132,
   "metadata": {},
   "outputs": [
    {
     "data": {
      "text/plain": [
       "['A bird in the hand is worth two in the bush. GOOD things comes to those to wait. Watches are cool']"
      ]
     },
     "execution_count": 132,
     "metadata": {},
     "output_type": "execute_result"
    }
   ],
   "source": [
    "text"
   ]
  },
  {
   "cell_type": "code",
   "execution_count": 133,
   "metadata": {},
   "outputs": [],
   "source": [
    "# We can use n-grams from SKlearn and pass with \n",
    "# two or three as n-gram values or we can use NLTK to use bo-gram Tri-grams"
   ]
  },
  {
   "cell_type": "code",
   "execution_count": 134,
   "metadata": {},
   "outputs": [
    {
     "data": {
      "text/plain": [
       "['A',\n",
       " 'bird',\n",
       " 'in',\n",
       " 'the',\n",
       " 'hand',\n",
       " 'is',\n",
       " 'worth',\n",
       " 'two',\n",
       " 'in',\n",
       " 'the',\n",
       " 'bush',\n",
       " '.',\n",
       " 'GOOD',\n",
       " 'things',\n",
       " 'comes',\n",
       " 'to',\n",
       " 'those',\n",
       " 'to',\n",
       " 'wait',\n",
       " '.',\n",
       " 'These',\n",
       " 'watches',\n",
       " 'cost',\n",
       " '$',\n",
       " '255',\n",
       " '.',\n",
       " 'Mr.Smith',\n",
       " 'gies',\n",
       " 'to',\n",
       " 'Washington',\n",
       " '.',\n",
       " 'Doogle',\n",
       " 'Broswer',\n",
       " 'M.D',\n",
       " '.']"
      ]
     },
     "execution_count": 134,
     "metadata": {},
     "output_type": "execute_result"
    }
   ],
   "source": [
    "import nltk\n",
    "from nltk import bigrams\n",
    "from nltk import trigrams\n",
    "from nltk.tokenize import sent_tokenize\n",
    "from nltk.tokenize import word_tokenize\n",
    "\n",
    "word_tokens = word_tokenize(' '.join(train_text))\n",
    "word_tokens"
   ]
  },
  {
   "cell_type": "code",
   "execution_count": 135,
   "metadata": {},
   "outputs": [
    {
     "ename": "TypeError",
     "evalue": "'generator' object is not callable",
     "output_type": "error",
     "traceback": [
      "\u001b[1;31m---------------------------------------------------------------------------\u001b[0m",
      "\u001b[1;31mTypeError\u001b[0m                                 Traceback (most recent call last)",
      "\u001b[1;32m<ipython-input-135-0ce7536fb7c5>\u001b[0m in \u001b[0;36m<module>\u001b[1;34m\u001b[0m\n\u001b[1;32m----> 1\u001b[1;33m \u001b[0mnltk_bigrams\u001b[0m \u001b[1;33m=\u001b[0m \u001b[0mbigrams\u001b[0m\u001b[1;33m(\u001b[0m\u001b[0mword_tokens\u001b[0m\u001b[1;33m)\u001b[0m\u001b[1;33m\u001b[0m\u001b[1;33m\u001b[0m\u001b[0m\n\u001b[0m\u001b[0;32m      2\u001b[0m \u001b[0mlist\u001b[0m\u001b[1;33m(\u001b[0m\u001b[0mnltk_bigrams\u001b[0m\u001b[1;33m)\u001b[0m\u001b[1;33m\u001b[0m\u001b[1;33m\u001b[0m\u001b[0m\n",
      "\u001b[1;31mTypeError\u001b[0m: 'generator' object is not callable"
     ]
    }
   ],
   "source": [
    "nltk_bigrams = bigrams(word_tokens)\n",
    "list(nltk_bigrams)"
   ]
  },
  {
   "cell_type": "code",
   "execution_count": 136,
   "metadata": {},
   "outputs": [
    {
     "ename": "TypeError",
     "evalue": "'generator' object is not callable",
     "output_type": "error",
     "traceback": [
      "\u001b[1;31m---------------------------------------------------------------------------\u001b[0m",
      "\u001b[1;31mTypeError\u001b[0m                                 Traceback (most recent call last)",
      "\u001b[1;32m<ipython-input-136-0e273d327166>\u001b[0m in \u001b[0;36m<module>\u001b[1;34m\u001b[0m\n\u001b[1;32m----> 1\u001b[1;33m \u001b[0mnltk_trigrams\u001b[0m \u001b[1;33m=\u001b[0m \u001b[0mtrigrams\u001b[0m\u001b[1;33m(\u001b[0m\u001b[0mword_tokens\u001b[0m\u001b[1;33m)\u001b[0m\u001b[1;33m\u001b[0m\u001b[1;33m\u001b[0m\u001b[0m\n\u001b[0m\u001b[0;32m      2\u001b[0m \u001b[0mlist\u001b[0m\u001b[1;33m(\u001b[0m\u001b[0mnltk_trigrams\u001b[0m\u001b[1;33m)\u001b[0m\u001b[1;33m\u001b[0m\u001b[1;33m\u001b[0m\u001b[0m\n",
      "\u001b[1;31mTypeError\u001b[0m: 'generator' object is not callable"
     ]
    }
   ],
   "source": [
    "nltk_trigrams = trigrams(word_tokens)\n",
    "list(nltk_trigrams)"
   ]
  },
  {
   "cell_type": "code",
   "execution_count": 137,
   "metadata": {},
   "outputs": [
    {
     "data": {
      "text/plain": [
       "'3.5'"
      ]
     },
     "execution_count": 137,
     "metadata": {},
     "output_type": "execute_result"
    }
   ],
   "source": [
    "nltk.__version__"
   ]
  },
  {
   "cell_type": "code",
   "execution_count": 138,
   "metadata": {},
   "outputs": [
    {
     "name": "stdout",
     "output_type": "stream",
     "text": [
      "('A', 'bird', 'in', 'the', 'hand')\n",
      "('bird', 'in', 'the', 'hand', 'is')\n",
      "('in', 'the', 'hand', 'is', 'worth')\n",
      "('the', 'hand', 'is', 'worth', 'two')\n",
      "('hand', 'is', 'worth', 'two', 'in')\n",
      "('is', 'worth', 'two', 'in', 'the')\n",
      "('worth', 'two', 'in', 'the', 'bush')\n",
      "('two', 'in', 'the', 'bush', '.')\n",
      "('in', 'the', 'bush', '.', 'GOOD')\n",
      "('the', 'bush', '.', 'GOOD', 'things')\n",
      "('bush', '.', 'GOOD', 'things', 'comes')\n",
      "('.', 'GOOD', 'things', 'comes', 'to')\n",
      "('GOOD', 'things', 'comes', 'to', 'those')\n",
      "('things', 'comes', 'to', 'those', 'to')\n",
      "('comes', 'to', 'those', 'to', 'wait')\n",
      "('to', 'those', 'to', 'wait', '.')\n",
      "('those', 'to', 'wait', '.', 'These')\n",
      "('to', 'wait', '.', 'These', 'watches')\n",
      "('wait', '.', 'These', 'watches', 'cost')\n",
      "('.', 'These', 'watches', 'cost', '$')\n",
      "('These', 'watches', 'cost', '$', '255')\n",
      "('watches', 'cost', '$', '255', '.')\n",
      "('cost', '$', '255', '.', 'Mr.Smith')\n",
      "('$', '255', '.', 'Mr.Smith', 'gies')\n",
      "('255', '.', 'Mr.Smith', 'gies', 'to')\n",
      "('.', 'Mr.Smith', 'gies', 'to', 'Washington')\n",
      "('Mr.Smith', 'gies', 'to', 'Washington', '.')\n",
      "('gies', 'to', 'Washington', '.', 'Doogle')\n",
      "('to', 'Washington', '.', 'Doogle', 'Broswer')\n",
      "('Washington', '.', 'Doogle', 'Broswer', 'M.D')\n",
      "('.', 'Doogle', 'Broswer', 'M.D', '.')\n"
     ]
    }
   ],
   "source": [
    "from nltk import ngrams\n",
    "\n",
    "fivegrams = ngrams(word_tokens, 5)\n",
    "for grams in fivegrams:\n",
    "    print(grams)"
   ]
  },
  {
   "cell_type": "code",
   "execution_count": 139,
   "metadata": {},
   "outputs": [],
   "source": [
    "# To measure / score to determine whether occurence of Bigram is meaningful\n",
    "from nltk.collocations import BigramAssocMeasures\n",
    "from nltk.collocations import BigramCollocationFinder\n",
    "from nltk.collocations import TrigramAssocMeasures\n",
    "from nltk.collocations import TrigramCollocationFinder"
   ]
  },
  {
   "cell_type": "code",
   "execution_count": null,
   "metadata": {},
   "outputs": [],
   "source": []
  },
  {
   "cell_type": "code",
   "execution_count": 140,
   "metadata": {},
   "outputs": [
    {
     "name": "stdout",
     "output_type": "stream",
     "text": [
      "1) Why does NVDIMM doesn't support compute nodes?\n",
      "2) Big and Small Controllers differences \n",
      "3) No need of 105, 106 VLAN's in our RHEV deployment appropriate VLAN's needs to mentioned in the Legend\n",
      "4) \n",
      "Installing and Configuring DNS on RHEL\n",
      "\n",
      "Step 1: Installing BIND DNS\n",
      "1.\tInstall Bind DNS and its utilities on rhel server\n",
      "# yum install bind bind-utils\n",
      "2.\tStart the DNS service (named daemon) for now, then enable it to auto-start at system boot and check if it is up and running using the below commands\n",
      "# systemctl start named\n",
      "# systemctl enable named\n",
      "#systemctl status named\n",
      "Step 2: Configuring BIND DNS\n",
      "3.\tTo configure Bind DNS server, first we need to take a backup of the original configuration file /etc/named.conf using following cp command.\n",
      "# cp /etc/named.conf /etc/named.conf.orig\n",
      "4.\tOpen /etc/named.conf configuration file for editing as follows\n",
      "# vi /etc/named.conf\n",
      "5.\tUnder the options configuration section, comment out the following lines.\n",
      "                \n",
      "6.\tNow look for the allow-query parameter and set its value to our network, which means that only the hosts on our local network can query the DNS Server.\n",
      "Example: \n",
      " \n",
      "Step 3: Creating the Forward and Reverse DNS Zones\n",
      "7.\tTo define the forward and reverse zones, add the following lines at the end of the  /etc/named.conf file.\n",
      "Example: where \n",
      "i.\topenstack.int: Domain\n",
      "ii.\topenstack.int.db: Forward Zone file\n",
      "iii.\topenstack.int.rev: Reverse Zone file\n",
      "\t \n",
      "Brief information \n",
      "?\ttype: Defines the role of the server for the zone. The value “master” means it’s an authoritative server where the master copy of the zone data is maintained.\n",
      "?\tfile: specifies the zone’s database file.\n",
      "?\tallow-update: specifies the hosts which allowed to submit Dynamic DNS updates for master zones. None in the above example.\n",
      "\n",
      "Step 4: Creating Forward DNS Zone file\n",
      "\n",
      "8.\tCreate a Forward zone file under the /var/named directory and add the configurations as shown in below example.\n",
      "# vi /var/named/<Forward DNS zone file name>\n",
      "\t  Example: In the below screen shot 192.168.10.15 is local network which will be primary DNS server \n",
      "\t \t\n",
      "Brief details:\n",
      "TTL: specifies the time-to-live of the RR(Resource Record) and $TTL directive gives a default TTL for every RR without a specific TTL set.\n",
      "?\t@: It is an alias for the domain name (e.g Openstack.int) defined in the main configuration file.\n",
      "?\tIN: means the Internet.\n",
      "?\tSOA: specifies the Start of Authority: who the authoritative name server is (dns-Ppimary.openstack.int), the administrator’s contact info (admin.openstack.int, the @ sign is replaced by a period) and other related information.\n",
      "?\tNS: means name server.\n",
      "?\tSerial: this value is used by the DNS server to verify that the contents of a particular zone file are up-to-date.\n",
      "?\tRefresh: specifies how often a slave DNS server should perform a zone transfer from the master.\n",
      "?\tRetry: specifies how often a slave should retry a failed zone transfer.\n",
      "?\tExpire: determines how long a slave server should wait before answering client query when a master is unreachable.\n",
      "?\tMinimum: sets the minimum TTL for the zone.\n",
      "?\tA: A host address.\n",
      "?\tClient server information will be added under PTR records\n",
      "\n",
      "Step 5: Creating Reverse DNS Zone file\n",
      "9.\tSimilarly, create a Reverse Zone file unser /var/named directory and add the configurations as shown in below example. \n",
      "# vi /var/named/<Reverse DNS zone file name>\n",
      "Here, the PTR us the opposite of A record used to map an IP address to a hostname.\n",
      "Add DNS client server information under PTR records\n",
      "\n",
      " \n",
      "10.\tSet the correct ownership permission on the zone files as follows.\n",
      "# chown :named /var/named/<Forward DNS zone file>\n",
      "# chown :named /var/named/<Reverse DNS zone file>\n",
      "11.\t Finally, check the DNS configuration and the zone files has the correct syntax after making the above changes, using the named-checkconf utility (no out means no error)\n",
      "# named-checkconf\n",
      "# named-checkzone <Domain name> /var/named/<Foward DNS zone file>\n",
      "# named-checkzone <Domain name> /var/named/<Reverse DNS zone file>\n",
      "Example: \n",
      "12.\tRestart the DNS service for the recent changes to take effect.\n",
      "# systemctl restart named\n",
      "13.\tIf firewall is not disabled, add the DNS service in the system firewall configuration and reload the firewall settings using below commands.\n",
      "# firewall-cmd --permanent --zone=public --add-service=dns\n",
      "# firewall-cmd --reload\n",
      "If firewall is disabled, we can ignore this step. \n",
      "Step 6: Testing DNS Service from Client\n",
      "14.\tLogin to client machine and configure it to use the above DNS Server. Open the file /etc/resolv.conf and add the DNS server entry which tells the resolver to use the specified nameserver. \n",
      "# vi /etc/resolve.conf\n",
      "Add ? nameserver  <DNS Server IP>\n",
      "Save the file and close it. Also specify the DNS server in the network interface configuration file. \n",
      "15.\tAdd the DNS Server IP as resolver to the client machine network interface configuration file /etc/sysconfig/network-scripts/<interface> as shown in the below example.\n",
      "16.\tUse nslookup utility to query the IP using the hostname and vise versa.\n",
      "Example: In this PTR record has been created for www, mail and docs server in the network. \n",
      "17.\tSame way we can add multiple DNS client entries under PTR record, both in Forward & Reverse DNS zone files. Then, update the DNS entries at the client server interface level. Finally, we would be able to resolve the IP/hostname of particular DNS client server.\n",
      "\n",
      "\n"
     ]
    }
   ],
   "source": [
    "with open('textdoc.txt', 'r') as f:\n",
    "    file_contents = f.read()\n",
    "print(file_contents)"
   ]
  },
  {
   "cell_type": "code",
   "execution_count": null,
   "metadata": {},
   "outputs": [],
   "source": [
    "word_tokens = word_tokenize(file_contents)"
   ]
  },
  {
   "cell_type": "code",
   "execution_count": 143,
   "metadata": {},
   "outputs": [],
   "source": [
    "bigram_measures = BigramAssocMeasures()\n",
    "finder = BigramCollocationFinder.from_words(word_tokens)\n",
    "finder.apply_freq_filter(3)"
   ]
  },
  {
   "cell_type": "code",
   "execution_count": 145,
   "metadata": {},
   "outputs": [
    {
     "data": {
      "text/plain": [
       "[]"
      ]
     },
     "execution_count": 145,
     "metadata": {},
     "output_type": "execute_result"
    }
   ],
   "source": [
    "matches = finder.nbest(bigram_measures.raw_freq, 10)\n",
    "matches"
   ]
  },
  {
   "cell_type": "code",
   "execution_count": null,
   "metadata": {},
   "outputs": [],
   "source": []
  }
 ],
 "metadata": {
  "kernelspec": {
   "display_name": "Python 3",
   "language": "python",
   "name": "python3"
  },
  "language_info": {
   "codemirror_mode": {
    "name": "ipython",
    "version": 3
   },
   "file_extension": ".py",
   "mimetype": "text/x-python",
   "name": "python",
   "nbconvert_exporter": "python",
   "pygments_lexer": "ipython3",
   "version": "3.7.4"
  }
 },
 "nbformat": 4,
 "nbformat_minor": 2
}
