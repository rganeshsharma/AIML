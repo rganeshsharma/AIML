{
 "cells": [
  {
   "cell_type": "markdown",
   "metadata": {},
   "source": [
    "# 1. Describe why a linear regression model may be appropriate to describe the relationship between Column C “CO (GT)” & Column H “NOx (GT)”, by code & graphs?"
   ]
  },
  {
   "cell_type": "code",
   "execution_count": 2,
   "metadata": {},
   "outputs": [],
   "source": [
    "import pandas as pd\n",
    "import numpy as np\n",
    "import matplotlib.pyplot as plt\n",
    "\n",
    "import seaborn as sns\n",
    "sns.set()\n",
    "%matplotlib inline\n",
    "from sklearn.linear_model import LinearRegression"
   ]
  },
  {
   "cell_type": "markdown",
   "metadata": {},
   "source": [
    "# Load the Data"
   ]
  },
  {
   "cell_type": "code",
   "execution_count": 3,
   "metadata": {},
   "outputs": [
    {
     "data": {
      "text/html": [
       "<div>\n",
       "<style scoped>\n",
       "    .dataframe tbody tr th:only-of-type {\n",
       "        vertical-align: middle;\n",
       "    }\n",
       "\n",
       "    .dataframe tbody tr th {\n",
       "        vertical-align: top;\n",
       "    }\n",
       "\n",
       "    .dataframe thead th {\n",
       "        text-align: right;\n",
       "    }\n",
       "</style>\n",
       "<table border=\"1\" class=\"dataframe\">\n",
       "  <thead>\n",
       "    <tr style=\"text-align: right;\">\n",
       "      <th></th>\n",
       "      <th>Date</th>\n",
       "      <th>Time</th>\n",
       "      <th>CO(GT)</th>\n",
       "      <th>PT08.S1(CO)</th>\n",
       "      <th>NMHC(GT)</th>\n",
       "      <th>C6H6(GT)</th>\n",
       "      <th>PT08.S2(NMHC)</th>\n",
       "      <th>NOx(GT)</th>\n",
       "      <th>PT08.S3(NOx)</th>\n",
       "      <th>NO2(GT)</th>\n",
       "      <th>PT08.S4(NO2)</th>\n",
       "      <th>PT08.S5(O3)</th>\n",
       "      <th>T</th>\n",
       "      <th>RH</th>\n",
       "      <th>AH</th>\n",
       "    </tr>\n",
       "  </thead>\n",
       "  <tbody>\n",
       "    <tr>\n",
       "      <th>0</th>\n",
       "      <td>3/10/2004</td>\n",
       "      <td>18:00:00</td>\n",
       "      <td>2.6</td>\n",
       "      <td>1360</td>\n",
       "      <td>150</td>\n",
       "      <td>11.9</td>\n",
       "      <td>1046</td>\n",
       "      <td>166</td>\n",
       "      <td>1056</td>\n",
       "      <td>113</td>\n",
       "      <td>1692</td>\n",
       "      <td>1268</td>\n",
       "      <td>13.6</td>\n",
       "      <td>48.9</td>\n",
       "      <td>0.7578</td>\n",
       "    </tr>\n",
       "    <tr>\n",
       "      <th>1</th>\n",
       "      <td>3/10/2004</td>\n",
       "      <td>19:00:00</td>\n",
       "      <td>2.0</td>\n",
       "      <td>1292</td>\n",
       "      <td>112</td>\n",
       "      <td>9.4</td>\n",
       "      <td>955</td>\n",
       "      <td>103</td>\n",
       "      <td>1174</td>\n",
       "      <td>92</td>\n",
       "      <td>1559</td>\n",
       "      <td>972</td>\n",
       "      <td>13.3</td>\n",
       "      <td>47.7</td>\n",
       "      <td>0.7255</td>\n",
       "    </tr>\n",
       "    <tr>\n",
       "      <th>2</th>\n",
       "      <td>3/10/2004</td>\n",
       "      <td>20:00:00</td>\n",
       "      <td>2.2</td>\n",
       "      <td>1402</td>\n",
       "      <td>88</td>\n",
       "      <td>9.0</td>\n",
       "      <td>939</td>\n",
       "      <td>131</td>\n",
       "      <td>1140</td>\n",
       "      <td>114</td>\n",
       "      <td>1555</td>\n",
       "      <td>1074</td>\n",
       "      <td>11.9</td>\n",
       "      <td>54.0</td>\n",
       "      <td>0.7502</td>\n",
       "    </tr>\n",
       "    <tr>\n",
       "      <th>3</th>\n",
       "      <td>3/10/2004</td>\n",
       "      <td>21:00:00</td>\n",
       "      <td>2.2</td>\n",
       "      <td>1376</td>\n",
       "      <td>80</td>\n",
       "      <td>9.2</td>\n",
       "      <td>948</td>\n",
       "      <td>172</td>\n",
       "      <td>1092</td>\n",
       "      <td>122</td>\n",
       "      <td>1584</td>\n",
       "      <td>1203</td>\n",
       "      <td>11.0</td>\n",
       "      <td>60.0</td>\n",
       "      <td>0.7867</td>\n",
       "    </tr>\n",
       "    <tr>\n",
       "      <th>4</th>\n",
       "      <td>3/10/2004</td>\n",
       "      <td>22:00:00</td>\n",
       "      <td>1.6</td>\n",
       "      <td>1272</td>\n",
       "      <td>51</td>\n",
       "      <td>6.5</td>\n",
       "      <td>836</td>\n",
       "      <td>131</td>\n",
       "      <td>1205</td>\n",
       "      <td>116</td>\n",
       "      <td>1490</td>\n",
       "      <td>1110</td>\n",
       "      <td>11.2</td>\n",
       "      <td>59.6</td>\n",
       "      <td>0.7888</td>\n",
       "    </tr>\n",
       "  </tbody>\n",
       "</table>\n",
       "</div>"
      ],
      "text/plain": [
       "        Date      Time  CO(GT)  PT08.S1(CO)  NMHC(GT)  C6H6(GT)  \\\n",
       "0  3/10/2004  18:00:00     2.6         1360       150      11.9   \n",
       "1  3/10/2004  19:00:00     2.0         1292       112       9.4   \n",
       "2  3/10/2004  20:00:00     2.2         1402        88       9.0   \n",
       "3  3/10/2004  21:00:00     2.2         1376        80       9.2   \n",
       "4  3/10/2004  22:00:00     1.6         1272        51       6.5   \n",
       "\n",
       "   PT08.S2(NMHC)  NOx(GT)  PT08.S3(NOx)  NO2(GT)  PT08.S4(NO2)  PT08.S5(O3)  \\\n",
       "0           1046      166          1056      113          1692         1268   \n",
       "1            955      103          1174       92          1559          972   \n",
       "2            939      131          1140      114          1555         1074   \n",
       "3            948      172          1092      122          1584         1203   \n",
       "4            836      131          1205      116          1490         1110   \n",
       "\n",
       "      T    RH      AH  \n",
       "0  13.6  48.9  0.7578  \n",
       "1  13.3  47.7  0.7255  \n",
       "2  11.9  54.0  0.7502  \n",
       "3  11.0  60.0  0.7867  \n",
       "4  11.2  59.6  0.7888  "
      ]
     },
     "execution_count": 3,
     "metadata": {},
     "output_type": "execute_result"
    }
   ],
   "source": [
    "dataset = pd.read_csv('AirQuality - AirQualityUCI.csv')\n",
    "\n",
    "dataset.head()"
   ]
  },
  {
   "cell_type": "markdown",
   "metadata": {},
   "source": [
    "# Explore the data"
   ]
  },
  {
   "cell_type": "code",
   "execution_count": 4,
   "metadata": {},
   "outputs": [
    {
     "data": {
      "text/html": [
       "<div>\n",
       "<style scoped>\n",
       "    .dataframe tbody tr th:only-of-type {\n",
       "        vertical-align: middle;\n",
       "    }\n",
       "\n",
       "    .dataframe tbody tr th {\n",
       "        vertical-align: top;\n",
       "    }\n",
       "\n",
       "    .dataframe thead th {\n",
       "        text-align: right;\n",
       "    }\n",
       "</style>\n",
       "<table border=\"1\" class=\"dataframe\">\n",
       "  <thead>\n",
       "    <tr style=\"text-align: right;\">\n",
       "      <th></th>\n",
       "      <th>CO(GT)</th>\n",
       "      <th>PT08.S1(CO)</th>\n",
       "      <th>NMHC(GT)</th>\n",
       "      <th>C6H6(GT)</th>\n",
       "      <th>PT08.S2(NMHC)</th>\n",
       "      <th>NOx(GT)</th>\n",
       "      <th>PT08.S3(NOx)</th>\n",
       "      <th>NO2(GT)</th>\n",
       "      <th>PT08.S4(NO2)</th>\n",
       "      <th>PT08.S5(O3)</th>\n",
       "      <th>T</th>\n",
       "      <th>RH</th>\n",
       "      <th>AH</th>\n",
       "    </tr>\n",
       "  </thead>\n",
       "  <tbody>\n",
       "    <tr>\n",
       "      <th>count</th>\n",
       "      <td>9357.000000</td>\n",
       "      <td>9357.000000</td>\n",
       "      <td>9357.000000</td>\n",
       "      <td>9357.000000</td>\n",
       "      <td>9357.000000</td>\n",
       "      <td>9357.000000</td>\n",
       "      <td>9357.000000</td>\n",
       "      <td>9357.000000</td>\n",
       "      <td>9357.000000</td>\n",
       "      <td>9357.000000</td>\n",
       "      <td>9357.000000</td>\n",
       "      <td>9357.000000</td>\n",
       "      <td>9357.000000</td>\n",
       "    </tr>\n",
       "    <tr>\n",
       "      <th>mean</th>\n",
       "      <td>-34.207524</td>\n",
       "      <td>1048.990061</td>\n",
       "      <td>-159.090093</td>\n",
       "      <td>1.865683</td>\n",
       "      <td>894.595276</td>\n",
       "      <td>168.616971</td>\n",
       "      <td>794.990168</td>\n",
       "      <td>58.148873</td>\n",
       "      <td>1391.479641</td>\n",
       "      <td>975.072032</td>\n",
       "      <td>9.778305</td>\n",
       "      <td>39.485380</td>\n",
       "      <td>-6.837604</td>\n",
       "    </tr>\n",
       "    <tr>\n",
       "      <th>std</th>\n",
       "      <td>77.657170</td>\n",
       "      <td>329.832710</td>\n",
       "      <td>139.789093</td>\n",
       "      <td>41.380206</td>\n",
       "      <td>342.333252</td>\n",
       "      <td>257.433866</td>\n",
       "      <td>321.993552</td>\n",
       "      <td>126.940455</td>\n",
       "      <td>467.210125</td>\n",
       "      <td>456.938184</td>\n",
       "      <td>43.203623</td>\n",
       "      <td>51.216145</td>\n",
       "      <td>38.976670</td>\n",
       "    </tr>\n",
       "    <tr>\n",
       "      <th>min</th>\n",
       "      <td>-200.000000</td>\n",
       "      <td>-200.000000</td>\n",
       "      <td>-200.000000</td>\n",
       "      <td>-200.000000</td>\n",
       "      <td>-200.000000</td>\n",
       "      <td>-200.000000</td>\n",
       "      <td>-200.000000</td>\n",
       "      <td>-200.000000</td>\n",
       "      <td>-200.000000</td>\n",
       "      <td>-200.000000</td>\n",
       "      <td>-200.000000</td>\n",
       "      <td>-200.000000</td>\n",
       "      <td>-200.000000</td>\n",
       "    </tr>\n",
       "    <tr>\n",
       "      <th>25%</th>\n",
       "      <td>0.600000</td>\n",
       "      <td>921.000000</td>\n",
       "      <td>-200.000000</td>\n",
       "      <td>4.000000</td>\n",
       "      <td>711.000000</td>\n",
       "      <td>50.000000</td>\n",
       "      <td>637.000000</td>\n",
       "      <td>53.000000</td>\n",
       "      <td>1185.000000</td>\n",
       "      <td>700.000000</td>\n",
       "      <td>10.900000</td>\n",
       "      <td>34.100000</td>\n",
       "      <td>0.692300</td>\n",
       "    </tr>\n",
       "    <tr>\n",
       "      <th>50%</th>\n",
       "      <td>1.500000</td>\n",
       "      <td>1053.000000</td>\n",
       "      <td>-200.000000</td>\n",
       "      <td>7.900000</td>\n",
       "      <td>895.000000</td>\n",
       "      <td>141.000000</td>\n",
       "      <td>794.000000</td>\n",
       "      <td>96.000000</td>\n",
       "      <td>1446.000000</td>\n",
       "      <td>942.000000</td>\n",
       "      <td>17.200000</td>\n",
       "      <td>48.600000</td>\n",
       "      <td>0.976800</td>\n",
       "    </tr>\n",
       "    <tr>\n",
       "      <th>75%</th>\n",
       "      <td>2.600000</td>\n",
       "      <td>1221.000000</td>\n",
       "      <td>-200.000000</td>\n",
       "      <td>13.600000</td>\n",
       "      <td>1105.000000</td>\n",
       "      <td>284.000000</td>\n",
       "      <td>960.000000</td>\n",
       "      <td>133.000000</td>\n",
       "      <td>1662.000000</td>\n",
       "      <td>1255.000000</td>\n",
       "      <td>24.100000</td>\n",
       "      <td>61.900000</td>\n",
       "      <td>1.296200</td>\n",
       "    </tr>\n",
       "    <tr>\n",
       "      <th>max</th>\n",
       "      <td>11.900000</td>\n",
       "      <td>2040.000000</td>\n",
       "      <td>1189.000000</td>\n",
       "      <td>63.700000</td>\n",
       "      <td>2214.000000</td>\n",
       "      <td>1479.000000</td>\n",
       "      <td>2683.000000</td>\n",
       "      <td>340.000000</td>\n",
       "      <td>2775.000000</td>\n",
       "      <td>2523.000000</td>\n",
       "      <td>44.600000</td>\n",
       "      <td>88.700000</td>\n",
       "      <td>2.231000</td>\n",
       "    </tr>\n",
       "  </tbody>\n",
       "</table>\n",
       "</div>"
      ],
      "text/plain": [
       "            CO(GT)  PT08.S1(CO)     NMHC(GT)     C6H6(GT)  PT08.S2(NMHC)  \\\n",
       "count  9357.000000  9357.000000  9357.000000  9357.000000    9357.000000   \n",
       "mean    -34.207524  1048.990061  -159.090093     1.865683     894.595276   \n",
       "std      77.657170   329.832710   139.789093    41.380206     342.333252   \n",
       "min    -200.000000  -200.000000  -200.000000  -200.000000    -200.000000   \n",
       "25%       0.600000   921.000000  -200.000000     4.000000     711.000000   \n",
       "50%       1.500000  1053.000000  -200.000000     7.900000     895.000000   \n",
       "75%       2.600000  1221.000000  -200.000000    13.600000    1105.000000   \n",
       "max      11.900000  2040.000000  1189.000000    63.700000    2214.000000   \n",
       "\n",
       "           NOx(GT)  PT08.S3(NOx)      NO2(GT)  PT08.S4(NO2)  PT08.S5(O3)  \\\n",
       "count  9357.000000   9357.000000  9357.000000   9357.000000  9357.000000   \n",
       "mean    168.616971    794.990168    58.148873   1391.479641   975.072032   \n",
       "std     257.433866    321.993552   126.940455    467.210125   456.938184   \n",
       "min    -200.000000   -200.000000  -200.000000   -200.000000  -200.000000   \n",
       "25%      50.000000    637.000000    53.000000   1185.000000   700.000000   \n",
       "50%     141.000000    794.000000    96.000000   1446.000000   942.000000   \n",
       "75%     284.000000    960.000000   133.000000   1662.000000  1255.000000   \n",
       "max    1479.000000   2683.000000   340.000000   2775.000000  2523.000000   \n",
       "\n",
       "                 T           RH           AH  \n",
       "count  9357.000000  9357.000000  9357.000000  \n",
       "mean      9.778305    39.485380    -6.837604  \n",
       "std      43.203623    51.216145    38.976670  \n",
       "min    -200.000000  -200.000000  -200.000000  \n",
       "25%      10.900000    34.100000     0.692300  \n",
       "50%      17.200000    48.600000     0.976800  \n",
       "75%      24.100000    61.900000     1.296200  \n",
       "max      44.600000    88.700000     2.231000  "
      ]
     },
     "execution_count": 4,
     "metadata": {},
     "output_type": "execute_result"
    }
   ],
   "source": [
    "dataset.describe()"
   ]
  },
  {
   "cell_type": "code",
   "execution_count": 5,
   "metadata": {},
   "outputs": [
    {
     "data": {
      "text/plain": [
       "Text(0.5, 1.0, 'NOx(GT) V/S CO(GT)')"
      ]
     },
     "execution_count": 5,
     "metadata": {},
     "output_type": "execute_result"
    },
    {
     "data": {
      "image/png": "[encoded data removed]",
      "text/plain": [
       "<Figure size 432x288 with 1 Axes>"
      ]
     },
     "metadata": {
      "needs_background": "light"
     },
     "output_type": "display_data"
    }
   ],
   "source": [
    "X = dataset['NOx(GT)'].values.reshape(-1,1)\n",
    "y = dataset['CO(GT)'].values.reshape(-1,1)\n",
    "X.shape\n",
    "y.shape\n",
    "plt.scatter(X,y)\n",
    "plt.xlabel('NOx(GT)',fontsize=20)\n",
    "plt.ylabel('CO(GT)', fontsize=20)\n",
    "plt.title('NOx(GT) V/S CO(GT)', fontsize=20)"
   ]
  },
  {
   "cell_type": "markdown",
   "metadata": {},
   "source": [
    "# By observing the data we can see that there is no relationship between CO(GT) and NOx(GT), However we can observe there many missing values (-200) in the dataset and therefore we need to carry out some data preprocessing to find the relationship"
   ]
  },
  {
   "cell_type": "code",
   "execution_count": 6,
   "metadata": {},
   "outputs": [
    {
     "data": {
      "text/plain": [
       "Date             0\n",
       "Time             0\n",
       "CO(GT)           0\n",
       "PT08.S1(CO)      0\n",
       "NMHC(GT)         0\n",
       "C6H6(GT)         0\n",
       "PT08.S2(NMHC)    0\n",
       "NOx(GT)          0\n",
       "PT08.S3(NOx)     0\n",
       "NO2(GT)          0\n",
       "PT08.S4(NO2)     0\n",
       "PT08.S5(O3)      0\n",
       "T                0\n",
       "RH               0\n",
       "AH               0\n",
       "dtype: int64"
      ]
     },
     "execution_count": 6,
     "metadata": {},
     "output_type": "execute_result"
    }
   ],
   "source": [
    "dataset.isnull().sum()"
   ]
  },
  {
   "cell_type": "code",
   "execution_count": 7,
   "metadata": {},
   "outputs": [],
   "source": [
    "#By above we can infer that there is no Nullvalues in the features\n",
    "dataset['NOx(GT)'].replace(-200, np.nan, inplace = True)\n",
    "dataset['CO(GT)'].replace(-200, np.nan, inplace = True)"
   ]
  },
  {
   "cell_type": "code",
   "execution_count": 8,
   "metadata": {},
   "outputs": [
    {
     "name": "stdout",
     "output_type": "stream",
     "text": [
      "<class 'pandas.core.frame.DataFrame'>\n",
      "RangeIndex: 9357 entries, 0 to 9356\n",
      "Data columns (total 15 columns):\n",
      "Date             9357 non-null object\n",
      "Time             9357 non-null object\n",
      "CO(GT)           7674 non-null float64\n",
      "PT08.S1(CO)      9357 non-null int64\n",
      "NMHC(GT)         9357 non-null int64\n",
      "C6H6(GT)         9357 non-null float64\n",
      "PT08.S2(NMHC)    9357 non-null int64\n",
      "NOx(GT)          7718 non-null float64\n",
      "PT08.S3(NOx)     9357 non-null int64\n",
      "NO2(GT)          9357 non-null int64\n",
      "PT08.S4(NO2)     9357 non-null int64\n",
      "PT08.S5(O3)      9357 non-null int64\n",
      "T                9357 non-null float64\n",
      "RH               9357 non-null float64\n",
      "AH               9357 non-null float64\n",
      "dtypes: float64(6), int64(7), object(2)\n",
      "memory usage: 1.1+ MB\n"
     ]
    }
   ],
   "source": [
    "dataset.info()"
   ]
  },
  {
   "cell_type": "code",
   "execution_count": 9,
   "metadata": {},
   "outputs": [
    {
     "name": "stdout",
     "output_type": "stream",
     "text": [
      "<class 'pandas.core.frame.DataFrame'>\n",
      "Int64Index: 7261 entries, 0 to 9356\n",
      "Data columns (total 15 columns):\n",
      "Date             7261 non-null object\n",
      "Time             7261 non-null object\n",
      "CO(GT)           7261 non-null float64\n",
      "PT08.S1(CO)      7261 non-null int64\n",
      "NMHC(GT)         7261 non-null int64\n",
      "C6H6(GT)         7261 non-null float64\n",
      "PT08.S2(NMHC)    7261 non-null int64\n",
      "NOx(GT)          7261 non-null float64\n",
      "PT08.S3(NOx)     7261 non-null int64\n",
      "NO2(GT)          7261 non-null int64\n",
      "PT08.S4(NO2)     7261 non-null int64\n",
      "PT08.S5(O3)      7261 non-null int64\n",
      "T                7261 non-null float64\n",
      "RH               7261 non-null float64\n",
      "AH               7261 non-null float64\n",
      "dtypes: float64(6), int64(7), object(2)\n",
      "memory usage: 907.6+ KB\n"
     ]
    }
   ],
   "source": [
    "# We can infer that we CO(GT) has 7674 non-null float64 and NOx(GT) 7718 non-null float64 \n",
    "# therefore if we drop these values \n",
    "\n",
    "drop = dataset.dropna()\n",
    "\n",
    "#using info\n",
    "drop.info()"
   ]
  },
  {
   "cell_type": "markdown",
   "metadata": {},
   "source": [
    "# We cannot drop null values as almost 25% of data is lost if we drop them and  therefore removing them is not an option as it will impact the quality of our model Method 1 using Mean"
   ]
  },
  {
   "cell_type": "code",
   "execution_count": 10,
   "metadata": {},
   "outputs": [],
   "source": [
    "#Using Sklearn also we can perform the below operations using SimpleImputer library\n",
    "#Let's input preprocessing library using Pandas built in function for mean:\n",
    "mean_val_no = dataset['NOx(GT)'].mean()\n",
    "dataset['NOx(GT)'] = dataset['NOx(GT)'].fillna(mean_val_no)\n",
    "#mean of 'NOx(GT)' is 246.896735 which replaces all the NaN values\n",
    "\n",
    "\n",
    "mean_val_co = dataset['CO(GT)'].mean()\n",
    "dataset['CO(GT)'] = dataset['CO(GT)'].fillna(mean_val_co)\n",
    "#mean of 'CO(GT)' is 2.15275 which replaces all the NaN values "
   ]
  },
  {
   "cell_type": "code",
   "execution_count": 11,
   "metadata": {},
   "outputs": [
    {
     "data": {
      "text/plain": [
       "Text(0.5, 1.0, 'NOx(GT) V/S CO(GT)')"
      ]
     },
     "execution_count": 11,
     "metadata": {},
     "output_type": "execute_result"
    },
    {
     "data": {
      "image/png": "[encoded data removed]",
      "text/plain": [
       "<Figure size 432x288 with 1 Axes>"
      ]
     },
     "metadata": {
      "needs_background": "light"
     },
     "output_type": "display_data"
    }
   ],
   "source": [
    "X = dataset['NOx(GT)'].values.reshape(-1,1)\n",
    "y = dataset['CO(GT)'].values.reshape(-1,1)\n",
    "X.shape\n",
    "y.shape\n",
    "plt.scatter(X,y)\n",
    "plt.xlabel('NOx(GT)',fontsize=20)\n",
    "plt.ylabel('CO(GT)', fontsize=20)\n",
    "plt.title('NOx(GT) V/S CO(GT)', fontsize=20)"
   ]
  },
  {
   "cell_type": "markdown",
   "metadata": {},
   "source": [
    "# From the above it is clear that when we have substituted the missing values (-200) with the appropraiate mean values for NOx(GT) and CO(GT) perhaps there exist a Linear Regression "
   ]
  },
  {
   "cell_type": "code",
   "execution_count": 12,
   "metadata": {},
   "outputs": [],
   "source": [
    "from sklearn.model_selection import train_test_split\n",
    "X_train, X_test, y_train, y_test = train_test_split(X,y,test_size=0.3,random_state=100)"
   ]
  },
  {
   "cell_type": "code",
   "execution_count": 13,
   "metadata": {},
   "outputs": [
    {
     "name": "stdout",
     "output_type": "stream",
     "text": [
      "Intercept :  [0.87448916]\n",
      "Co-efficient :  [[0.00515894]]\n"
     ]
    }
   ],
   "source": [
    "from sklearn.linear_model import LinearRegression\n",
    "reg = LinearRegression()\n",
    "reg.fit(X_train,y_train)\n",
    "print('Intercept : ', reg.intercept_)\n",
    "print('Co-efficient : ', reg.coef_)\n",
    "#print('Simple Linear Regression : ', reg.predict(X,y))"
   ]
  },
  {
   "cell_type": "code",
   "execution_count": 14,
   "metadata": {},
   "outputs": [
    {
     "name": "stdout",
     "output_type": "stream",
     "text": [
      "      Actual Value  Predicted Value\n",
      "0          1.00000         1.091165\n",
      "1          0.50000         1.018940\n",
      "2          2.15275         2.148215\n",
      "3          0.70000         1.122118\n",
      "4          1.70000         1.338794\n",
      "5          2.00000         2.246768\n",
      "6          1.90000         1.436814\n",
      "7          3.90000         3.428165\n",
      "8          1.80000         2.355105\n",
      "9          3.50000         3.696430\n",
      "10         0.90000         2.164224\n",
      "11         2.15275         2.014615\n",
      "12         1.00000         1.627695\n",
      "13         1.70000         2.200337\n",
      "14         2.50000         1.772145\n",
      "15         2.15275         2.148215\n",
      "16         3.40000         2.793615\n",
      "17         3.60000         3.144423\n",
      "18         2.15275         2.148215\n",
      "19         1.00000         1.127277\n",
      "20         0.80000         1.565787\n",
      "21         7.90000         4.960371\n",
      "22         2.15275         2.148215\n",
      "23         2.20000         1.617377\n",
      "24         1.70000         2.561463\n",
      "25         2.90000         1.844370\n",
      "26         0.90000         1.122118\n",
      "27         1.90000         2.484079\n",
      "28         1.60000         1.911436\n",
      "29         1.20000         1.163390\n",
      "...            ...              ...\n",
      "2778       3.20000         3.526185\n",
      "2779       1.80000         1.467767\n",
      "2780       2.60000         2.102317\n",
      "2781       3.60000         1.921754\n",
      "2782       2.15275         2.148215\n",
      "2783       1.80000         2.251926\n",
      "2784       2.70000         3.103152\n",
      "2785       1.10000         1.189185\n",
      "2786       1.30000         1.122118\n",
      "2787       6.50000         4.800443\n",
      "2788       2.15275         2.148215\n",
      "2789       0.70000         1.091165\n",
      "2790       1.40000         2.499556\n",
      "2791       1.10000         2.117794\n",
      "2792       1.30000         1.137595\n",
      "2793       0.50000         1.214979\n",
      "2794       2.70000         2.876158\n",
      "2795       3.30000         2.917430\n",
      "2796       1.90000         2.339628\n",
      "2797       1.40000         2.788456\n",
      "2798       4.60000         2.164224\n",
      "2799       4.20000         4.031761\n",
      "2800       5.80000         6.286218\n",
      "2801       3.40000         2.030092\n",
      "2802       1.80000         2.035251\n",
      "2803       0.80000         2.365423\n",
      "2804       0.50000         1.132436\n",
      "2805       1.60000         1.364589\n",
      "2806       2.15275         2.148215\n",
      "2807       2.15275         1.194344\n",
      "\n",
      "[2808 rows x 2 columns]\n"
     ]
    }
   ],
   "source": [
    "y_pred = reg.predict(X_test)\n",
    "df = pd.DataFrame({'Actual Value' : y_test.flatten(), 'Predicted Value' : y_pred.flatten()})\n",
    "print(df)"
   ]
  },
  {
   "cell_type": "code",
   "execution_count": 18,
   "metadata": {},
   "outputs": [
    {
     "name": "stdout",
     "output_type": "stream",
     "text": [
      "Mean Squared Error :  0.7408273891800655\n",
      "Root Mean Squared Error :  0.860713302546246\n",
      "R^2 :  0.5865257799661308\n"
     ]
    }
   ],
   "source": [
    "#Finding RMSE and R^2 values for our model to check the error\n",
    "from sklearn.metrics import mean_squared_error as mse\n",
    "from sklearn.metrics import r2_score as r2\n",
    "print('Mean Squared Error : ', mse(y_test, y_pred))\n",
    "print('Root Mean Squared Error : ', np.sqrt(mse(y_test,y_pred)))\n",
    "print('R^2 : ', r2(y_test, y_pred))"
   ]
  },
  {
   "cell_type": "markdown",
   "metadata": {},
   "source": [
    "# Now visualising our Model we get :"
   ]
  },
  {
   "cell_type": "code",
   "execution_count": 158,
   "metadata": {},
   "outputs": [
    {
     "data": {
      "text/plain": [
       "Text(0.5, 1.0, 'Simple Linear regression NOx(GT) V/S CO(GT)')"
      ]
     },
     "execution_count": 158,
     "metadata": {},
     "output_type": "execute_result"
    },
    {
     "data": {
      "image/png": "[encoded data removed]",
      "text/plain": [
       "<Figure size 432x288 with 1 Axes>"
      ]
     },
     "metadata": {
      "needs_background": "light"
     },
     "output_type": "display_data"
    }
   ],
   "source": [
    "plt.scatter(X,y)\n",
    "plt.plot(X_test, y_pred, color='gold',linewidth=3)\n",
    "plt.xlabel('NOx(GT)',fontsize=20)\n",
    "plt.ylabel('CO(GT)', fontsize=20)\n",
    "plt.title('Simple Linear regression NOx(GT) V/S CO(GT)', fontsize=20)"
   ]
  },
  {
   "cell_type": "markdown",
   "metadata": {},
   "source": [
    "# By using 5 methods of Linear Regression Assumptions we can conclude that Linear Regression is the best fit for our data:\n",
    "    1) Linear relation between dependant and independant variable\n",
    "    2) No Multi collinearity between independant variable\n",
    "    3) Error Function achives a Normal Distribution proved by Log Transformation\n",
    "    4) No Auto correlation between the error patterns\n",
    "    5) No Endogenity between error and independant variable"
   ]
  },
  {
   "cell_type": "code",
   "execution_count": null,
   "metadata": {},
   "outputs": [],
   "source": []
  }
 ],
 "metadata": {
  "kernelspec": {
   "display_name": "Python 3",
   "language": "python",
   "name": "python3"
  },
  "language_info": {
   "codemirror_mode": {
    "name": "ipython",
    "version": 3
   },
   "file_extension": ".py",
   "mimetype": "text/x-python",
   "name": "python",
   "nbconvert_exporter": "python",
   "pygments_lexer": "ipython3",
   "version": "3.7.3"
  }
 },
 "nbformat": 4,
 "nbformat_minor": 2
}
