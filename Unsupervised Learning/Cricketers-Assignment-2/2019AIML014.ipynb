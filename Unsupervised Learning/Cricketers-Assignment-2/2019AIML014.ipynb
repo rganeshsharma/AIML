{
 "cells": [
  {
   "cell_type": "markdown",
   "metadata": {},
   "source": [
    "#1 For the K-means algorithm using two attributes namely average_runs and bowling_economy, which you wrote in assignment-1, extend it with different strategies (take at least two strategies) for initial choice of cluster centroid. Take K=2.   \n",
    "\n",
    "(a) Which strategy achieves better convergence (iterations count) ? Draw bar plot (X-axis has different strategies and Y-axis has iterations count).  [2 points]    \n",
    "\n",
    "(b) Is it true for other values of K = 3,4,5,6 ? On the same bar plot, draw bars with different colors for these different values of K. [2 points]         \n",
    "\n",
    "#2 Use the elbow method to find the best value of K. Consider four attributes runs_scored, average_runs, wickets_obtained, bowling_economy.   Plot the related graph as discussed in the video lecture. [2 points]\n",
    "\n",
    "#3 Your task is to create a team comprising 4 batsmen, 4 bowlers, and 3 all-rounders.  Use appropriate K value. Consider two attributes runs_scored and wickets_obtained. Take the criteria for selecting top batsmen on the basis of runs_scored, top bowlers on the basis of wickets_obtained and top all-rounders on the basis of average of runs_scored and wickets_obtained.  \n",
    "\n",
    "(a) Output the names of cricketers who got selected in your team. [2 points]    \n",
    "\n",
    "(b) Draw a scatter plot with runs_scored and wickets_obtained on X-axis and Y-axis, respectively. Each selected cricketer as a data point (solid circle), use different colors for batsman, bowler and all-rounder.   [2 points]\n",
    "\n",
    "#4 Refer to this notebook (GMM), perform on cricketers dataset, use runs_scored and wickets_obtained as the attributes. [Not to be graded]. This question (#4) is for your self-learning.\n",
    "\n",
    "Deliverables: For questions to be graded, Q1-Q3, paste plot diagrams in a single document file and related code in single jupyter notebook.\n",
    "\n",
    "For any query, write to me at rishabh.kaushal@wilp.bits-pilani.ac.in"
   ]
  },
  {
   "cell_type": "code",
   "execution_count": 82,
   "metadata": {},
   "outputs": [],
   "source": [
    "#importing required libraries\n",
    "import numpy as np\n",
    "import pandas as pd\n",
    "import matplotlib\n",
    "import matplotlib.pyplot as plt\n",
    "matplotlib.use\n",
    "plt.style.use('ggplot')\n",
    "import seaborn as sns\n",
    "import random\n",
    "\n",
    "from sklearn import metrics\n",
    "from sklearn.preprocessing import LabelEncoder  \n",
    "from sklearn.preprocessing import StandardScaler"
   ]
  },
  {
   "cell_type": "code",
   "execution_count": 83,
   "metadata": {},
   "outputs": [
    {
     "data": {
      "text/html": [
       "<div>\n",
       "<style scoped>\n",
       "    .dataframe tbody tr th:only-of-type {\n",
       "        vertical-align: middle;\n",
       "    }\n",
       "\n",
       "    .dataframe tbody tr th {\n",
       "        vertical-align: top;\n",
       "    }\n",
       "\n",
       "    .dataframe thead th {\n",
       "        text-align: right;\n",
       "    }\n",
       "</style>\n",
       "<table border=\"1\" class=\"dataframe\">\n",
       "  <thead>\n",
       "    <tr style=\"text-align: right;\">\n",
       "      <th></th>\n",
       "      <th>PLAYER</th>\n",
       "      <th>matches_played</th>\n",
       "      <th>innings_batted</th>\n",
       "      <th>runs_scored</th>\n",
       "      <th>highest_runs</th>\n",
       "      <th>balls_faced</th>\n",
       "      <th>average_runs</th>\n",
       "      <th>strike_rate</th>\n",
       "      <th>innings_bowled</th>\n",
       "      <th>overs</th>\n",
       "      <th>runs_given</th>\n",
       "      <th>wickets_obtained</th>\n",
       "      <th>average_runs_per_wicket</th>\n",
       "      <th>bowling_economy</th>\n",
       "    </tr>\n",
       "  </thead>\n",
       "  <tbody>\n",
       "    <tr>\n",
       "      <td>51</td>\n",
       "      <td>Mandeep Singh</td>\n",
       "      <td>14</td>\n",
       "      <td>13</td>\n",
       "      <td>252</td>\n",
       "      <td>47</td>\n",
       "      <td>186</td>\n",
       "      <td>25.20</td>\n",
       "      <td>135.48</td>\n",
       "      <td>0</td>\n",
       "      <td>0.0</td>\n",
       "      <td>0</td>\n",
       "      <td>0</td>\n",
       "      <td>0.00</td>\n",
       "      <td>0.00</td>\n",
       "    </tr>\n",
       "    <tr>\n",
       "      <td>19</td>\n",
       "      <td>Colin Munro</td>\n",
       "      <td>5</td>\n",
       "      <td>5</td>\n",
       "      <td>63</td>\n",
       "      <td>33</td>\n",
       "      <td>41</td>\n",
       "      <td>12.60</td>\n",
       "      <td>153.65</td>\n",
       "      <td>0</td>\n",
       "      <td>0.0</td>\n",
       "      <td>0</td>\n",
       "      <td>0</td>\n",
       "      <td>0.00</td>\n",
       "      <td>0.00</td>\n",
       "    </tr>\n",
       "    <tr>\n",
       "      <td>40</td>\n",
       "      <td>Jos Buttler</td>\n",
       "      <td>13</td>\n",
       "      <td>13</td>\n",
       "      <td>548</td>\n",
       "      <td>95</td>\n",
       "      <td>353</td>\n",
       "      <td>54.80</td>\n",
       "      <td>155.24</td>\n",
       "      <td>0</td>\n",
       "      <td>0.0</td>\n",
       "      <td>0</td>\n",
       "      <td>0</td>\n",
       "      <td>0.00</td>\n",
       "      <td>0.00</td>\n",
       "    </tr>\n",
       "    <tr>\n",
       "      <td>10</td>\n",
       "      <td>Ben Stokes</td>\n",
       "      <td>13</td>\n",
       "      <td>13</td>\n",
       "      <td>196</td>\n",
       "      <td>45</td>\n",
       "      <td>161</td>\n",
       "      <td>16.33</td>\n",
       "      <td>121.73</td>\n",
       "      <td>12</td>\n",
       "      <td>37.0</td>\n",
       "      <td>303</td>\n",
       "      <td>8</td>\n",
       "      <td>37.87</td>\n",
       "      <td>8.18</td>\n",
       "    </tr>\n",
       "    <tr>\n",
       "      <td>99</td>\n",
       "      <td>Yuvraj Singh</td>\n",
       "      <td>8</td>\n",
       "      <td>6</td>\n",
       "      <td>65</td>\n",
       "      <td>20</td>\n",
       "      <td>73</td>\n",
       "      <td>10.83</td>\n",
       "      <td>89.04</td>\n",
       "      <td>2</td>\n",
       "      <td>2.0</td>\n",
       "      <td>23</td>\n",
       "      <td>0</td>\n",
       "      <td>-0.00</td>\n",
       "      <td>11.50</td>\n",
       "    </tr>\n",
       "    <tr>\n",
       "      <td>42</td>\n",
       "      <td>Kane Williamson</td>\n",
       "      <td>17</td>\n",
       "      <td>17</td>\n",
       "      <td>735</td>\n",
       "      <td>84</td>\n",
       "      <td>516</td>\n",
       "      <td>52.50</td>\n",
       "      <td>142.44</td>\n",
       "      <td>0</td>\n",
       "      <td>0.0</td>\n",
       "      <td>0</td>\n",
       "      <td>0</td>\n",
       "      <td>0.00</td>\n",
       "      <td>0.00</td>\n",
       "    </tr>\n",
       "    <tr>\n",
       "      <td>17</td>\n",
       "      <td>Chris Woakes</td>\n",
       "      <td>5</td>\n",
       "      <td>4</td>\n",
       "      <td>17</td>\n",
       "      <td>11</td>\n",
       "      <td>19</td>\n",
       "      <td>8.50</td>\n",
       "      <td>89.47</td>\n",
       "      <td>5</td>\n",
       "      <td>18.2</td>\n",
       "      <td>190</td>\n",
       "      <td>8</td>\n",
       "      <td>23.75</td>\n",
       "      <td>10.36</td>\n",
       "    </tr>\n",
       "    <tr>\n",
       "      <td>91</td>\n",
       "      <td>Suryakumar Yadav</td>\n",
       "      <td>14</td>\n",
       "      <td>14</td>\n",
       "      <td>512</td>\n",
       "      <td>72</td>\n",
       "      <td>384</td>\n",
       "      <td>36.57</td>\n",
       "      <td>133.33</td>\n",
       "      <td>0</td>\n",
       "      <td>0.0</td>\n",
       "      <td>0</td>\n",
       "      <td>0</td>\n",
       "      <td>0.00</td>\n",
       "      <td>0.00</td>\n",
       "    </tr>\n",
       "    <tr>\n",
       "      <td>15</td>\n",
       "      <td>Chris Lynn</td>\n",
       "      <td>16</td>\n",
       "      <td>16</td>\n",
       "      <td>491</td>\n",
       "      <td>74</td>\n",
       "      <td>377</td>\n",
       "      <td>32.73</td>\n",
       "      <td>130.23</td>\n",
       "      <td>0</td>\n",
       "      <td>0.0</td>\n",
       "      <td>0</td>\n",
       "      <td>0</td>\n",
       "      <td>0.00</td>\n",
       "      <td>0.00</td>\n",
       "    </tr>\n",
       "    <tr>\n",
       "      <td>80</td>\n",
       "      <td>Shane Watson</td>\n",
       "      <td>15</td>\n",
       "      <td>15</td>\n",
       "      <td>555</td>\n",
       "      <td>117</td>\n",
       "      <td>359</td>\n",
       "      <td>39.64</td>\n",
       "      <td>154.59</td>\n",
       "      <td>11</td>\n",
       "      <td>28.0</td>\n",
       "      <td>251</td>\n",
       "      <td>6</td>\n",
       "      <td>41.83</td>\n",
       "      <td>8.96</td>\n",
       "    </tr>\n",
       "  </tbody>\n",
       "</table>\n",
       "</div>"
      ],
      "text/plain": [
       "              PLAYER  matches_played  innings_batted  runs_scored  \\\n",
       "51     Mandeep Singh              14              13          252   \n",
       "19       Colin Munro               5               5           63   \n",
       "40       Jos Buttler              13              13          548   \n",
       "10        Ben Stokes              13              13          196   \n",
       "99      Yuvraj Singh               8               6           65   \n",
       "42  Kane Williamson               17              17          735   \n",
       "17      Chris Woakes               5               4           17   \n",
       "91  Suryakumar Yadav              14              14          512   \n",
       "15        Chris Lynn              16              16          491   \n",
       "80      Shane Watson              15              15          555   \n",
       "\n",
       "    highest_runs  balls_faced  average_runs  strike_rate  innings_bowled  \\\n",
       "51            47          186         25.20       135.48               0   \n",
       "19            33           41         12.60       153.65               0   \n",
       "40            95          353         54.80       155.24               0   \n",
       "10            45          161         16.33       121.73              12   \n",
       "99            20           73         10.83        89.04               2   \n",
       "42            84          516         52.50       142.44               0   \n",
       "17            11           19          8.50        89.47               5   \n",
       "91            72          384         36.57       133.33               0   \n",
       "15            74          377         32.73       130.23               0   \n",
       "80           117          359         39.64       154.59              11   \n",
       "\n",
       "    overs  runs_given  wickets_obtained  average_runs_per_wicket   \\\n",
       "51    0.0           0                 0                      0.00   \n",
       "19    0.0           0                 0                      0.00   \n",
       "40    0.0           0                 0                      0.00   \n",
       "10   37.0         303                 8                     37.87   \n",
       "99    2.0          23                 0                     -0.00   \n",
       "42    0.0           0                 0                      0.00   \n",
       "17   18.2         190                 8                     23.75   \n",
       "91    0.0           0                 0                      0.00   \n",
       "15    0.0           0                 0                      0.00   \n",
       "80   28.0         251                 6                     41.83   \n",
       "\n",
       "    bowling_economy   \n",
       "51              0.00  \n",
       "19              0.00  \n",
       "40              0.00  \n",
       "10              8.18  \n",
       "99             11.50  \n",
       "42              0.00  \n",
       "17             10.36  \n",
       "91              0.00  \n",
       "15              0.00  \n",
       "80              8.96  "
      ]
     },
     "execution_count": 83,
     "metadata": {},
     "output_type": "execute_result"
    }
   ],
   "source": [
    "data = pd.read_csv('cricketers.csv', delimiter='\\t')\n",
    "data.sample(10)"
   ]
  },
  {
   "cell_type": "code",
   "execution_count": 84,
   "metadata": {},
   "outputs": [],
   "source": [
    "data = data.drop(columns='PLAYER')"
   ]
  },
  {
   "cell_type": "code",
   "execution_count": 85,
   "metadata": {},
   "outputs": [
    {
     "data": {
      "text/plain": [
       "(109, 13)"
      ]
     },
     "execution_count": 85,
     "metadata": {},
     "output_type": "execute_result"
    }
   ],
   "source": [
    "data.shape"
   ]
  },
  {
   "cell_type": "code",
   "execution_count": 86,
   "metadata": {},
   "outputs": [
    {
     "data": {
      "text/plain": [
       "matches_played                int64\n",
       "innings_batted                int64\n",
       "runs_scored                   int64\n",
       "highest_runs                  int64\n",
       "balls_faced                   int64\n",
       "average_runs                float64\n",
       "strike_rate                 float64\n",
       "innings_bowled                int64\n",
       "overs                       float64\n",
       "runs_given                    int64\n",
       "wickets_obtained              int64\n",
       "average_runs_per_wicket     float64\n",
       "bowling_economy             float64\n",
       "dtype: object"
      ]
     },
     "execution_count": 86,
     "metadata": {},
     "output_type": "execute_result"
    }
   ],
   "source": [
    "data.dtypes"
   ]
  },
  {
   "cell_type": "code",
   "execution_count": 87,
   "metadata": {},
   "outputs": [
    {
     "data": {
      "text/plain": [
       "<matplotlib.axes._subplots.AxesSubplot at 0x2168ed88708>"
      ]
     },
     "execution_count": 87,
     "metadata": {},
     "output_type": "execute_result"
    },
    {
     "data": {
      "image/png": "[encoded data removed]",
      "text/plain": [
       "<Figure size 576x396 with 2 Axes>"
      ]
     },
     "metadata": {},
     "output_type": "display_data"
    }
   ],
   "source": [
    "#Finding correlation\n",
    "corr = data.corr()\n",
    "sns.heatmap(corr, \n",
    "         xticklabels=corr.columns, \n",
    "         yticklabels=corr.columns)"
   ]
  },
  {
   "cell_type": "code",
   "execution_count": 88,
   "metadata": {},
   "outputs": [
    {
     "data": {
      "text/html": [
       "<div>\n",
       "<style scoped>\n",
       "    .dataframe tbody tr th:only-of-type {\n",
       "        vertical-align: middle;\n",
       "    }\n",
       "\n",
       "    .dataframe tbody tr th {\n",
       "        vertical-align: top;\n",
       "    }\n",
       "\n",
       "    .dataframe thead th {\n",
       "        text-align: right;\n",
       "    }\n",
       "</style>\n",
       "<table border=\"1\" class=\"dataframe\">\n",
       "  <thead>\n",
       "    <tr style=\"text-align: right;\">\n",
       "      <th></th>\n",
       "      <th>matches_played</th>\n",
       "      <th>innings_batted</th>\n",
       "      <th>runs_scored</th>\n",
       "      <th>highest_runs</th>\n",
       "      <th>balls_faced</th>\n",
       "      <th>average_runs</th>\n",
       "      <th>strike_rate</th>\n",
       "      <th>innings_bowled</th>\n",
       "      <th>overs</th>\n",
       "      <th>runs_given</th>\n",
       "      <th>wickets_obtained</th>\n",
       "      <th>average_runs_per_wicket</th>\n",
       "      <th>bowling_economy</th>\n",
       "    </tr>\n",
       "  </thead>\n",
       "  <tbody>\n",
       "    <tr>\n",
       "      <td>0</td>\n",
       "      <td>0.085717</td>\n",
       "      <td>0.223846</td>\n",
       "      <td>-0.218342</td>\n",
       "      <td>0.084349</td>\n",
       "      <td>-0.200401</td>\n",
       "      <td>-0.350205</td>\n",
       "      <td>0.449633</td>\n",
       "      <td>-0.832122</td>\n",
       "      <td>-0.758809</td>\n",
       "      <td>-0.788506</td>\n",
       "      <td>-0.704155</td>\n",
       "      <td>-0.794810</td>\n",
       "      <td>-1.083832</td>\n",
       "    </tr>\n",
       "    <tr>\n",
       "      <td>1</td>\n",
       "      <td>0.475017</td>\n",
       "      <td>0.627139</td>\n",
       "      <td>1.687804</td>\n",
       "      <td>1.566174</td>\n",
       "      <td>1.221188</td>\n",
       "      <td>1.933268</td>\n",
       "      <td>1.081234</td>\n",
       "      <td>-0.832122</td>\n",
       "      <td>-0.758809</td>\n",
       "      <td>-0.788506</td>\n",
       "      <td>-0.704155</td>\n",
       "      <td>-0.794810</td>\n",
       "      <td>-1.083832</td>\n",
       "    </tr>\n",
       "    <tr>\n",
       "      <td>2</td>\n",
       "      <td>-1.276831</td>\n",
       "      <td>-0.986033</td>\n",
       "      <td>-0.609488</td>\n",
       "      <td>0.084349</td>\n",
       "      <td>-0.744667</td>\n",
       "      <td>2.536909</td>\n",
       "      <td>1.419576</td>\n",
       "      <td>-0.832122</td>\n",
       "      <td>-0.758809</td>\n",
       "      <td>-0.788506</td>\n",
       "      <td>-0.704155</td>\n",
       "      <td>-0.794810</td>\n",
       "      <td>-1.083832</td>\n",
       "    </tr>\n",
       "    <tr>\n",
       "      <td>3</td>\n",
       "      <td>1.058966</td>\n",
       "      <td>1.232079</td>\n",
       "      <td>1.081804</td>\n",
       "      <td>0.724228</td>\n",
       "      <td>1.529876</td>\n",
       "      <td>0.380781</td>\n",
       "      <td>-0.083732</td>\n",
       "      <td>-0.832122</td>\n",
       "      <td>-0.758809</td>\n",
       "      <td>-0.788506</td>\n",
       "      <td>-0.704155</td>\n",
       "      <td>-0.794810</td>\n",
       "      <td>-1.083832</td>\n",
       "    </tr>\n",
       "    <tr>\n",
       "      <td>4</td>\n",
       "      <td>-0.692881</td>\n",
       "      <td>-0.381094</td>\n",
       "      <td>-0.141215</td>\n",
       "      <td>0.050671</td>\n",
       "      <td>-0.054181</td>\n",
       "      <td>0.143570</td>\n",
       "      <td>0.065379</td>\n",
       "      <td>-0.832122</td>\n",
       "      <td>-0.758809</td>\n",
       "      <td>-0.788506</td>\n",
       "      <td>-0.704155</td>\n",
       "      <td>-0.794810</td>\n",
       "      <td>-1.083832</td>\n",
       "    </tr>\n",
       "    <tr>\n",
       "      <td>5</td>\n",
       "      <td>1.253615</td>\n",
       "      <td>1.635372</td>\n",
       "      <td>2.359913</td>\n",
       "      <td>1.902952</td>\n",
       "      <td>2.252856</td>\n",
       "      <td>1.288427</td>\n",
       "      <td>0.568550</td>\n",
       "      <td>-0.832122</td>\n",
       "      <td>-0.758809</td>\n",
       "      <td>-0.788506</td>\n",
       "      <td>-0.704155</td>\n",
       "      <td>-0.794810</td>\n",
       "      <td>-1.083832</td>\n",
       "    </tr>\n",
       "    <tr>\n",
       "      <td>6</td>\n",
       "      <td>1.253615</td>\n",
       "      <td>1.232079</td>\n",
       "      <td>0.784313</td>\n",
       "      <td>1.498818</td>\n",
       "      <td>0.376358</td>\n",
       "      <td>0.397011</td>\n",
       "      <td>1.293215</td>\n",
       "      <td>1.933161</td>\n",
       "      <td>1.289149</td>\n",
       "      <td>1.545407</td>\n",
       "      <td>1.627125</td>\n",
       "      <td>0.456905</td>\n",
       "      <td>0.890286</td>\n",
       "    </tr>\n",
       "    <tr>\n",
       "      <td>7</td>\n",
       "      <td>0.864316</td>\n",
       "      <td>0.022200</td>\n",
       "      <td>-0.780269</td>\n",
       "      <td>-0.993342</td>\n",
       "      <td>-0.704050</td>\n",
       "      <td>-1.063088</td>\n",
       "      <td>-0.786889</td>\n",
       "      <td>1.748809</td>\n",
       "      <td>2.299475</td>\n",
       "      <td>2.156826</td>\n",
       "      <td>3.599746</td>\n",
       "      <td>0.060758</td>\n",
       "      <td>0.599851</td>\n",
       "    </tr>\n",
       "    <tr>\n",
       "      <td>8</td>\n",
       "      <td>-0.108932</td>\n",
       "      <td>0.022200</td>\n",
       "      <td>-0.515833</td>\n",
       "      <td>-0.824953</td>\n",
       "      <td>-0.452226</td>\n",
       "      <td>-0.563695</td>\n",
       "      <td>-0.130678</td>\n",
       "      <td>0.642696</td>\n",
       "      <td>0.661109</td>\n",
       "      <td>0.644714</td>\n",
       "      <td>-0.166167</td>\n",
       "      <td>2.536678</td>\n",
       "      <td>0.679826</td>\n",
       "    </tr>\n",
       "    <tr>\n",
       "      <td>9</td>\n",
       "      <td>-0.108932</td>\n",
       "      <td>-0.381094</td>\n",
       "      <td>-0.427688</td>\n",
       "      <td>-0.218751</td>\n",
       "      <td>-0.541583</td>\n",
       "      <td>0.102370</td>\n",
       "      <td>0.894483</td>\n",
       "      <td>0.458343</td>\n",
       "      <td>0.169599</td>\n",
       "      <td>0.315994</td>\n",
       "      <td>-0.345497</td>\n",
       "      <td>3.056621</td>\n",
       "      <td>0.995516</td>\n",
       "    </tr>\n",
       "  </tbody>\n",
       "</table>\n",
       "</div>"
      ],
      "text/plain": [
       "   matches_played  innings_batted  runs_scored  highest_runs  balls_faced  \\\n",
       "0        0.085717        0.223846    -0.218342      0.084349    -0.200401   \n",
       "1        0.475017        0.627139     1.687804      1.566174     1.221188   \n",
       "2       -1.276831       -0.986033    -0.609488      0.084349    -0.744667   \n",
       "3        1.058966        1.232079     1.081804      0.724228     1.529876   \n",
       "4       -0.692881       -0.381094    -0.141215      0.050671    -0.054181   \n",
       "5        1.253615        1.635372     2.359913      1.902952     2.252856   \n",
       "6        1.253615        1.232079     0.784313      1.498818     0.376358   \n",
       "7        0.864316        0.022200    -0.780269     -0.993342    -0.704050   \n",
       "8       -0.108932        0.022200    -0.515833     -0.824953    -0.452226   \n",
       "9       -0.108932       -0.381094    -0.427688     -0.218751    -0.541583   \n",
       "\n",
       "   average_runs  strike_rate  innings_bowled     overs  runs_given  \\\n",
       "0     -0.350205     0.449633       -0.832122 -0.758809   -0.788506   \n",
       "1      1.933268     1.081234       -0.832122 -0.758809   -0.788506   \n",
       "2      2.536909     1.419576       -0.832122 -0.758809   -0.788506   \n",
       "3      0.380781    -0.083732       -0.832122 -0.758809   -0.788506   \n",
       "4      0.143570     0.065379       -0.832122 -0.758809   -0.788506   \n",
       "5      1.288427     0.568550       -0.832122 -0.758809   -0.788506   \n",
       "6      0.397011     1.293215        1.933161  1.289149    1.545407   \n",
       "7     -1.063088    -0.786889        1.748809  2.299475    2.156826   \n",
       "8     -0.563695    -0.130678        0.642696  0.661109    0.644714   \n",
       "9      0.102370     0.894483        0.458343  0.169599    0.315994   \n",
       "\n",
       "   wickets_obtained  average_runs_per_wicket   bowling_economy   \n",
       "0         -0.704155                 -0.794810         -1.083832  \n",
       "1         -0.704155                 -0.794810         -1.083832  \n",
       "2         -0.704155                 -0.794810         -1.083832  \n",
       "3         -0.704155                 -0.794810         -1.083832  \n",
       "4         -0.704155                 -0.794810         -1.083832  \n",
       "5         -0.704155                 -0.794810         -1.083832  \n",
       "6          1.627125                  0.456905          0.890286  \n",
       "7          3.599746                  0.060758          0.599851  \n",
       "8         -0.166167                  2.536678          0.679826  \n",
       "9         -0.345497                  3.056621          0.995516  "
      ]
     },
     "execution_count": 88,
     "metadata": {},
     "output_type": "execute_result"
    }
   ],
   "source": [
    "sc = StandardScaler()\n",
    "data_scaled = pd.DataFrame(sc.fit_transform(data),columns = data.columns)\n",
    "\n",
    "data_scaled.head(10)"
   ]
  },
  {
   "cell_type": "code",
   "execution_count": 89,
   "metadata": {},
   "outputs": [
    {
     "data": {
      "text/plain": [
       "array([[-3.50204799e-01, -1.08383228e+00],\n",
       "       [ 1.93326794e+00, -1.08383228e+00],\n",
       "       [ 2.53690876e+00, -1.08383228e+00],\n",
       "       [ 3.80781143e-01, -1.08383228e+00],\n",
       "       [ 1.43569650e-01, -1.08383228e+00],\n",
       "       [ 1.28842722e+00, -1.08383228e+00],\n",
       "       [ 3.97011403e-01,  8.90285973e-01],\n",
       "       [-1.06308776e+00,  5.99850665e-01],\n",
       "       [-5.63695142e-01,  6.79825605e-01],\n",
       "       [ 1.02369759e-01,  9.95516157e-01],\n",
       "       [-3.76422911e-01,  6.37733531e-01],\n",
       "       [-9.90051588e-01,  5.28294140e-01],\n",
       "       [-7.49146194e-02, -1.08383228e+00],\n",
       "       [ 1.64793836e-01,  8.60821521e-01],\n",
       "       [ 1.15608818e+00, -1.08383228e+00],\n",
       "       [ 6.47331952e-01, -1.08383228e+00],\n",
       "       [ 1.47569945e+00,  1.06496808e+00],\n",
       "       [-8.65203434e-01,  1.09653713e+00],\n",
       "       [ 2.39702729e-01,  7.26126886e-01],\n",
       "       [-6.09264719e-01, -1.08383228e+00],\n",
       "       [-1.04248781e+00,  1.70687220e+00],\n",
       "       [-3.70804744e-01,  2.48381851e-01],\n",
       "       [-5.84295088e-01,  7.11394660e-01],\n",
       "       [ 9.13882760e-01, -1.08383228e+00],\n",
       "       [-3.55822966e-01,  4.48319200e-01],\n",
       "       [-3.80844140e-02,  5.99850665e-01],\n",
       "       [ 1.71291095e+00, -1.08383228e+00],\n",
       "       [ 8.04640626e-01,  1.01235299e+00],\n",
       "       [ 4.38211294e-01, -1.08383228e+00],\n",
       "       [ 6.26732006e-01, -1.08383228e+00],\n",
       "       [-3.34598780e-01, -1.08383228e+00],\n",
       "       [-5.16877085e-01,  6.52465757e-01],\n",
       "       [-7.92791505e-01,  7.00871642e-01],\n",
       "       [ 4.06999255e-01,  7.93474203e-01],\n",
       "       [ 2.34963653e+00,  9.23959632e-01],\n",
       "       [-2.09750626e-01, -1.08383228e+00],\n",
       "       [ 3.43275154e-02, -1.08383228e+00],\n",
       "       [ 4.76914221e-01, -1.08383228e+00],\n",
       "       [-6.31113145e-01,  9.47110272e-01],\n",
       "       [-1.20853586e+00,  6.75616397e-01],\n",
       "       [ 2.02503133e+00, -1.08383228e+00],\n",
       "       [ 8.51458683e-01,  1.44169214e+00],\n",
       "       [ 1.88145595e+00, -1.08383228e+00],\n",
       "       [ 1.69787762e-01, -1.08383228e+00],\n",
       "       [-1.39580809e+00, -1.08383228e+00],\n",
       "       [-2.09750626e-01, -1.08383228e+00],\n",
       "       [-5.21871011e-01,  5.57758591e-01],\n",
       "       [ 2.74608669e-02,  4.04122523e-01],\n",
       "       [ 2.03189798e+00, -1.08383228e+00],\n",
       "       [-1.47326549e-01,  8.10311033e-01],\n",
       "       [-5.37477030e-01, -1.08383228e+00],\n",
       "       [ 1.77278652e-01, -1.08383228e+00],\n",
       "       [ 2.15357339e-01, -1.08383228e+00],\n",
       "       [-4.18247043e-01,  1.02077140e+00],\n",
       "       [ 1.49187817e-01,  1.21018573e+00],\n",
       "       [-6.46719165e-01, -1.08383228e+00],\n",
       "       [-7.40355280e-01,  6.75616397e-01],\n",
       "       [-1.39580809e+00,  1.07970030e+00],\n",
       "       [-1.94144606e-01,  4.65156030e-01],\n",
       "       [-8.33991396e-01,  8.94495180e-01],\n",
       "       [-6.15507126e-01,  7.99788015e-01],\n",
       "       [ 3.33780967e+00, -1.08383228e+00],\n",
       "       [ 6.36668316e-02,  4.16750145e-01],\n",
       "       [ 5.14368668e-01, -1.08383228e+00],\n",
       "       [-9.74445569e-01,  6.84034812e-01],\n",
       "       [ 3.03375287e-01, -1.08383228e+00],\n",
       "       [ 1.72284726e-01, -1.08383228e+00],\n",
       "       [-3.55822966e-01,  5.70386214e-01],\n",
       "       [ 1.71660485e-01, -1.08383228e+00],\n",
       "       [-6.59203980e-01,  3.32565998e-01],\n",
       "       [-5.99901107e-01,  6.18792098e-01],\n",
       "       [-2.84659518e-01,  4.71469841e-01],\n",
       "       [-9.43233531e-01, -1.08383228e+00],\n",
       "       [ 1.88832260e+00, -1.08383228e+00],\n",
       "       [-2.68480801e-02, -1.08383228e+00],\n",
       "       [ 9.17576662e-02, -1.08383228e+00],\n",
       "       [-5.53083049e-01, -1.08383228e+00],\n",
       "       [ 5.70550337e-01, -1.08383228e+00],\n",
       "       [-7.59082503e-01, -1.08383228e+00],\n",
       "       [-3.99571363e-02,  5.99850665e-01],\n",
       "       [ 1.07868232e+00,  8.01892618e-01],\n",
       "       [-1.39580809e+00,  8.58716918e-01],\n",
       "       [ 9.90664375e-01, -1.08383228e+00],\n",
       "       [-1.12551184e+00,  9.45005668e-01],\n",
       "       [-3.13998834e-01, -1.08383228e+00],\n",
       "       [-3.55822966e-01,  5.17771122e-01],\n",
       "       [ 9.36355428e-01, -1.08383228e+00],\n",
       "       [ 7.15998436e-01, -1.08383228e+00],\n",
       "       [-8.46476211e-01,  2.38876379e+00],\n",
       "       [-3.12693083e-03,  5.26189536e-01],\n",
       "       [ 9.18876687e-01, -1.08383228e+00],\n",
       "       [ 8.87040407e-01, -1.08383228e+00],\n",
       "       [ 2.27217913e-01,  8.10311033e-01],\n",
       "       [-9.17639659e-01,  1.35750799e+00],\n",
       "       [ 1.91266799e+00,  1.35750799e+00],\n",
       "       [ 1.61178394e+00, -1.08383228e+00],\n",
       "       [-4.37025809e-02,  9.36587254e-01],\n",
       "       [-4.43840914e-01, -1.08383228e+00],\n",
       "       [ 4.06999255e-01,  3.89390297e-01],\n",
       "       [-7.19755335e-01,  1.33646195e+00],\n",
       "       [-1.39580809e+00,  1.38907704e+00],\n",
       "       [-1.39580809e+00,  4.16750145e-01],\n",
       "       [-1.39580809e+00,  7.09290056e-01],\n",
       "       [-1.39580809e+00,  1.23123177e+00],\n",
       "       [-1.39580809e+00,  1.12600158e+00],\n",
       "       [-1.39580809e+00,  1.17440747e+00],\n",
       "       [-1.39580809e+00,  1.10495555e+00],\n",
       "       [-1.39580809e+00,  1.06286347e+00],\n",
       "       [-1.39580809e+00,  1.02918982e+00]])"
      ]
     },
     "execution_count": 89,
     "metadata": {},
     "output_type": "execute_result"
    }
   ],
   "source": [
    "X = data_scaled.iloc[:,[5,12]].values\n",
    "X"
   ]
  },
  {
   "cell_type": "code",
   "execution_count": 90,
   "metadata": {},
   "outputs": [
    {
     "data": {
      "text/plain": [
       "(109, 2)"
      ]
     },
     "execution_count": 90,
     "metadata": {},
     "output_type": "execute_result"
    }
   ],
   "source": [
    "X.shape"
   ]
  },
  {
   "cell_type": "code",
   "execution_count": 91,
   "metadata": {},
   "outputs": [
    {
     "data": {
      "text/plain": [
       "KMeans(algorithm='auto', copy_x=True, init='k-means++', max_iter=500,\n",
       "       n_clusters=2, n_init=10, n_jobs=None, precompute_distances='auto',\n",
       "       random_state=None, tol=0.0001, verbose=0)"
      ]
     },
     "execution_count": 91,
     "metadata": {},
     "output_type": "execute_result"
    }
   ],
   "source": [
    "# Let us use Kmeans++ as first initialization technique:\n",
    "from sklearn.cluster import KMeans\n",
    "kmeans_initplus = KMeans(init='k-means++', n_clusters=2, n_init=10, max_iter=500).fit(X)\n",
    "kmeans_initplus"
   ]
  },
  {
   "cell_type": "code",
   "execution_count": 92,
   "metadata": {},
   "outputs": [
    {
     "data": {
      "text/plain": [
       "array([0, 0, 0, 0, 0, 0, 1, 1, 1, 1, 1, 1, 0, 1, 0, 0, 1, 1, 1, 0, 1, 1,\n",
       "       1, 0, 1, 1, 0, 1, 0, 0, 0, 1, 1, 1, 0, 0, 0, 0, 1, 1, 0, 1, 0, 0,\n",
       "       0, 0, 1, 1, 0, 1, 0, 0, 0, 1, 1, 0, 1, 1, 1, 1, 1, 0, 1, 0, 1, 0,\n",
       "       0, 1, 0, 1, 1, 1, 0, 0, 0, 0, 0, 0, 0, 1, 1, 1, 0, 1, 0, 1, 0, 0,\n",
       "       1, 1, 0, 0, 1, 1, 1, 0, 1, 0, 1, 1, 1, 1, 1, 1, 1, 1, 1, 1, 1])"
      ]
     },
     "execution_count": 92,
     "metadata": {},
     "output_type": "execute_result"
    }
   ],
   "source": [
    "kmeans_initplus.labels_"
   ]
  },
  {
   "cell_type": "code",
   "execution_count": 93,
   "metadata": {},
   "outputs": [
    {
     "data": {
      "text/plain": [
       "array([[ 0.5477974 , -1.04285693],\n",
       "       [-0.44736787,  0.8516665 ]])"
      ]
     },
     "execution_count": 93,
     "metadata": {},
     "output_type": "execute_result"
    }
   ],
   "source": [
    "centroidsplus = kmeans_initplus.cluster_centers_\n",
    "centroidsplus"
   ]
  },
  {
   "cell_type": "code",
   "execution_count": 94,
   "metadata": {},
   "outputs": [],
   "source": [
    "# Let us use random as second initialization technique:\n",
    "kmeans_initrand = KMeans(init='random', n_clusters=2, n_init=10).fit(X)"
   ]
  },
  {
   "cell_type": "code",
   "execution_count": 95,
   "metadata": {},
   "outputs": [
    {
     "data": {
      "text/plain": [
       "array([0, 0, 0, 0, 0, 0, 1, 1, 1, 1, 1, 1, 0, 1, 0, 0, 1, 1, 1, 0, 1, 1,\n",
       "       1, 0, 1, 1, 0, 1, 0, 0, 0, 1, 1, 1, 0, 0, 0, 0, 1, 1, 0, 1, 0, 0,\n",
       "       0, 0, 1, 1, 0, 1, 0, 0, 0, 1, 1, 0, 1, 1, 1, 1, 1, 0, 1, 0, 1, 0,\n",
       "       0, 1, 0, 1, 1, 1, 0, 0, 0, 0, 0, 0, 0, 1, 1, 1, 0, 1, 0, 1, 0, 0,\n",
       "       1, 1, 0, 0, 1, 1, 1, 0, 1, 0, 1, 1, 1, 1, 1, 1, 1, 1, 1, 1, 1])"
      ]
     },
     "execution_count": 95,
     "metadata": {},
     "output_type": "execute_result"
    }
   ],
   "source": [
    "kmeans_initrand.labels_"
   ]
  },
  {
   "cell_type": "code",
   "execution_count": 96,
   "metadata": {},
   "outputs": [
    {
     "data": {
      "text/plain": [
       "array([[ 0.5477974 , -1.04285693],\n",
       "       [-0.44736787,  0.8516665 ]])"
      ]
     },
     "execution_count": 96,
     "metadata": {},
     "output_type": "execute_result"
    }
   ],
   "source": [
    "centroidsrand = kmeans_initrand.cluster_centers_\n",
    "centroidsrand"
   ]
  },
  {
   "cell_type": "markdown",
   "metadata": {},
   "source": [
    "(b) Is it true for other values of K = 3,4,5,6 ? On the same bar plot, draw bars with different colors for these different values of K. [2 points]  "
   ]
  },
  {
   "cell_type": "code",
   "execution_count": 97,
   "metadata": {},
   "outputs": [
    {
     "data": {
      "text/plain": [
       "KMeans(algorithm='auto', copy_x=True, init='k-means++', max_iter=500,\n",
       "       n_clusters=3, n_init=10, n_jobs=None, precompute_distances='auto',\n",
       "       random_state=None, tol=0.0001, verbose=0)"
      ]
     },
     "execution_count": 97,
     "metadata": {},
     "output_type": "execute_result"
    }
   ],
   "source": [
    "from sklearn.cluster import KMeans\n",
    "kmeans_three = KMeans(init='k-means++', n_clusters=3, n_init=10, max_iter=500).fit(X)\n",
    "kmeans_three"
   ]
  },
  {
   "cell_type": "code",
   "execution_count": 98,
   "metadata": {},
   "outputs": [
    {
     "data": {
      "text/plain": [
       "KMeans(algorithm='auto', copy_x=True, init='k-means++', max_iter=500,\n",
       "       n_clusters=4, n_init=10, n_jobs=None, precompute_distances='auto',\n",
       "       random_state=None, tol=0.0001, verbose=0)"
      ]
     },
     "execution_count": 98,
     "metadata": {},
     "output_type": "execute_result"
    }
   ],
   "source": [
    "from sklearn.cluster import KMeans\n",
    "kmeans_four = KMeans(init='k-means++', n_clusters=4, n_init=10, max_iter=500).fit(X)\n",
    "kmeans_four"
   ]
  },
  {
   "cell_type": "code",
   "execution_count": 99,
   "metadata": {},
   "outputs": [
    {
     "data": {
      "text/plain": [
       "KMeans(algorithm='auto', copy_x=True, init='k-means++', max_iter=500,\n",
       "       n_clusters=5, n_init=10, n_jobs=None, precompute_distances='auto',\n",
       "       random_state=None, tol=0.0001, verbose=0)"
      ]
     },
     "execution_count": 99,
     "metadata": {},
     "output_type": "execute_result"
    }
   ],
   "source": [
    "from sklearn.cluster import KMeans\n",
    "kmeans_five = KMeans(init='k-means++', n_clusters=5, n_init=10, max_iter=500).fit(X)\n",
    "kmeans_five"
   ]
  },
  {
   "cell_type": "markdown",
   "metadata": {},
   "source": [
    "Use the elbow method to find the best value of K. Consider four attributes runs_scored, average_runs, wickets_obtained, bowling_economy.  \n",
    "Plot the related graph as discussed in the video lecture. [2 points]"
   ]
  },
  {
   "cell_type": "code",
   "execution_count": 100,
   "metadata": {},
   "outputs": [
    {
     "data": {
      "image/png": "[encoded data removed]",
      "text/plain": [
       "<Figure size 576x396 with 1 Axes>"
      ]
     },
     "metadata": {},
     "output_type": "display_data"
    },
    {
     "data": {
      "text/plain": [
       "<matplotlib.axes._subplots.AxesSubplot at 0x2168ee97888>"
      ]
     },
     "execution_count": 100,
     "metadata": {},
     "output_type": "execute_result"
    }
   ],
   "source": [
    "from yellowbrick.cluster import KElbowVisualizer\n",
    "model = KMeans()\n",
    "visualizer = KElbowVisualizer(\n",
    "    model, k=(4,12), timings=False\n",
    ")\n",
    "visualizer.fit(X)\n",
    "visualizer.show()"
   ]
  },
  {
   "cell_type": "markdown",
   "metadata": {},
   "source": [
    "#3 Your task is to create a team comprising 4 batsmen, 4 bowlers, and 3 all-rounders.  Use appropriate K value. Consider two attributes runs_scored and wickets_obtained. Take the criteria for selecting top batsmen on the basis of runs_scored, top bowlers on the basis of wickets_obtained and top all-rounders on the basis of average of runs_scored and wickets_obtained.  "
   ]
  },
  {
   "cell_type": "code",
   "execution_count": 101,
   "metadata": {},
   "outputs": [],
   "source": [
    "X = data_scaled.iloc[:,[2]].values"
   ]
  },
  {
   "cell_type": "code",
   "execution_count": 102,
   "metadata": {},
   "outputs": [
    {
     "name": "stdout",
     "output_type": "stream",
     "text": [
      "[[-0.2348693  -0.41116026]]\n"
     ]
    }
   ],
   "source": [
    "K = 2  #number of clusters\n",
    "\n",
    "\n",
    "m = X.shape[0] #this is number of rows\n",
    "n = X.shape[1] #this is number of features\n",
    "\n",
    "#Step 1 - Initializing centroids \n",
    "Centroids = np.array([]).reshape(n,0)\n",
    "\n",
    "for i in range(K):\n",
    "    rand = random.randint(0,m-1)\n",
    "    Centroids=np.c_[Centroids,X[rand]]\n",
    "\n",
    "print(Centroids)"
   ]
  },
  {
   "cell_type": "code",
   "execution_count": 103,
   "metadata": {},
   "outputs": [
    {
     "name": "stdout",
     "output_type": "stream",
     "text": [
      "[[ 0.90980778 -0.70415503]]\n"
     ]
    }
   ],
   "source": [
    "X = data_scaled.iloc[:,[10]].values\n",
    "\n",
    "K = 2  #number of clusters\n",
    "\n",
    "\n",
    "m = X.shape[0] #this is number of rows\n",
    "n = X.shape[1] #this is number of features\n",
    "\n",
    "#Step 1 - Initializing centroids \n",
    "Centroids = np.array([]).reshape(n,0)\n",
    "\n",
    "for i in range(K):\n",
    "    rand = random.randint(0,m-1)\n",
    "    Centroids=np.c_[Centroids,X[rand]]\n",
    "\n",
    "print(Centroids)"
   ]
  },
  {
   "cell_type": "code",
   "execution_count": 104,
   "metadata": {},
   "outputs": [
    {
     "data": {
      "text/plain": [
       "'C:\\\\Users\\\\sharmg1\\\\Desktop\\\\Desktop Backup-v1\\\\AI-ML\\\\Bits Pilani\\\\Unsupervised Learning\\\\Ass-2'"
      ]
     },
     "execution_count": 104,
     "metadata": {},
     "output_type": "execute_result"
    }
   ],
   "source": [
    "pwd"
   ]
  },
  {
   "cell_type": "code",
   "execution_count": null,
   "metadata": {},
   "outputs": [],
   "source": []
  }
 ],
 "metadata": {
  "kernelspec": {
   "display_name": "Python 3",
   "language": "python",
   "name": "python3"
  },
  "language_info": {
   "codemirror_mode": {
    "name": "ipython",
    "version": 3
   },
   "file_extension": ".py",
   "mimetype": "text/x-python",
   "name": "python",
   "nbconvert_exporter": "python",
   "pygments_lexer": "ipython3",
   "version": "3.7.4"
  }
 },
 "nbformat": 4,
 "nbformat_minor": 2
}
