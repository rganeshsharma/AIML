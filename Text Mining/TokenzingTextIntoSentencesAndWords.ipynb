{
 "cells": [
  {
   "cell_type": "code",
   "execution_count": 131,
   "metadata": {},
   "outputs": [
    {
     "name": "stdout",
     "output_type": "stream",
     "text": [
      "1.19.0\n"
     ]
    }
   ],
   "source": [
    "import numpy\n",
    "print(numpy.__version__)"
   ]
  },
  {
   "cell_type": "code",
   "execution_count": 132,
   "metadata": {},
   "outputs": [
    {
     "name": "stdout",
     "output_type": "stream",
     "text": [
      "3.5\n"
     ]
    }
   ],
   "source": [
    "import nltk\n",
    "print(nltk.__version__)"
   ]
  },
  {
   "cell_type": "code",
   "execution_count": 133,
   "metadata": {},
   "outputs": [
    {
     "name": "stderr",
     "output_type": "stream",
     "text": [
      "[nltk_data] Downloading package punkt to\n",
      "[nltk_data]     C:\\Users\\sharmg1\\AppData\\Roaming\\nltk_data...\n",
      "[nltk_data]   Package punkt is already up-to-date!\n"
     ]
    },
    {
     "data": {
      "text/plain": [
       "True"
      ]
     },
     "execution_count": 133,
     "metadata": {},
     "output_type": "execute_result"
    }
   ],
   "source": [
    "# We are using pre trained word tokenizer used by NLTK pre trained on large corpus of data \n",
    "nltk.download('punkt')"
   ]
  },
  {
   "cell_type": "code",
   "execution_count": 134,
   "metadata": {},
   "outputs": [],
   "source": [
    "from nltk.tokenize import word_tokenize\n",
    "from nltk.tokenize import sent_tokenize"
   ]
  },
  {
   "cell_type": "code",
   "execution_count": 135,
   "metadata": {},
   "outputs": [
    {
     "name": "stdout",
     "output_type": "stream",
     "text": [
      "['Does this tokrnizer work?', 'These are two different sentences']\n"
     ]
    }
   ],
   "source": [
    "sent_tokens = sent_tokenize('Does this tokrnizer work? These are two different sentences')\n",
    "print(sent_tokens)"
   ]
  },
  {
   "cell_type": "code",
   "execution_count": 136,
   "metadata": {},
   "outputs": [
    {
     "name": "stdout",
     "output_type": "stream",
     "text": [
      "['Does', 'this', 'tokrnizer', 'work', '?']\n"
     ]
    }
   ],
   "source": [
    "word_tokens = word_tokenize('Does this tokrnizer work?')\n",
    "print(word_tokens)"
   ]
  },
  {
   "cell_type": "code",
   "execution_count": 137,
   "metadata": {},
   "outputs": [
    {
     "name": "stdout",
     "output_type": "stream",
     "text": [
      "['A', 'bird', 'in', 'the', 'hand', 'is', 'worth', 'two', 'in', 'the', 'bush', '.', 'GOOD', 'things', 'comes', 'to', 'those', 'to', 'wait', '.', 'These', 'watches', 'cost', '$', '255', '.', 'Mr.Smith', 'gies', 'to', 'Washington', '.', 'Doogle', 'Broswer', 'M.D', '.']\n"
     ]
    }
   ],
   "source": [
    "text = 'A bird in the hand is worth two in the bush. ' + \\\n",
    "'GOOD things comes to those to wait. ' + \\\n",
    "'These watches cost $255. ' + \\\n",
    "'Mr.Smith gies to Washington. ' + \\\n",
    "'Doogle Broswer M.D.'\n",
    "word_tokens = word_tokenize(text, language='english')\n",
    "print(word_tokens)"
   ]
  },
  {
   "cell_type": "code",
   "execution_count": 138,
   "metadata": {},
   "outputs": [
    {
     "data": {
      "text/plain": [
       "35"
      ]
     },
     "execution_count": 138,
     "metadata": {},
     "output_type": "execute_result"
    }
   ],
   "source": [
    "len(word_tokens)"
   ]
  },
  {
   "cell_type": "code",
   "execution_count": 139,
   "metadata": {},
   "outputs": [
    {
     "data": {
      "text/plain": [
       "['the', 'hand', 'is', 'worth', 'two']"
      ]
     },
     "execution_count": 139,
     "metadata": {},
     "output_type": "execute_result"
    }
   ],
   "source": [
    "word_tokens[3:8]"
   ]
  },
  {
   "cell_type": "code",
   "execution_count": 140,
   "metadata": {},
   "outputs": [],
   "source": [
    "from nltk.tokenize.punkt import PunktSentenceTokenizer"
   ]
  },
  {
   "cell_type": "code",
   "execution_count": 141,
   "metadata": {},
   "outputs": [],
   "source": [
    "pst = PunktSentenceTokenizer()"
   ]
  },
  {
   "cell_type": "code",
   "execution_count": 142,
   "metadata": {},
   "outputs": [
    {
     "name": "stdout",
     "output_type": "stream",
     "text": [
      "['A bird in the hand is worth two in the bush.', 'GOOD things comes to those to wait.', 'These watches cost $255.', 'Mr.Smith gies to Washington.', 'Doogle Broswer M.D.']\n"
     ]
    }
   ],
   "source": [
    "sent_tokens = pst.tokenize(text)\n",
    "print(sent_tokens)"
   ]
  },
  {
   "cell_type": "code",
   "execution_count": 143,
   "metadata": {},
   "outputs": [
    {
     "name": "stdout",
     "output_type": "stream",
     "text": [
      "[(0, 44), (45, 80), (81, 105), (106, 134), (135, 154)]\n"
     ]
    }
   ],
   "source": [
    "span_tokens = pst.span_tokenize(text)\n",
    "print(list(span_tokens))"
   ]
  },
  {
   "cell_type": "code",
   "execution_count": 144,
   "metadata": {},
   "outputs": [
    {
     "name": "stdout",
     "output_type": "stream",
     "text": [
      "[['A', 'bird', 'in', 'the', 'hand', 'is', 'worth', 'two', 'in', 'the', 'bush', '.'], ['GOOD', 'things', 'comes', 'to', 'those', 'to', 'wait', '.'], ['These', 'watches', 'cost', '$', '255', '.'], ['Mr.Smith', 'gies', 'to', 'Washington', '.'], ['Doogle', 'Broswer', 'M.D', '.']]\n"
     ]
    }
   ],
   "source": [
    "sentences_from_punkt = pst.sentences_from_tokens(word_tokens)\n",
    "print(list(sentences_from_punkt))"
   ]
  },
  {
   "cell_type": "code",
   "execution_count": 145,
   "metadata": {},
   "outputs": [],
   "source": [
    "from nltk.tokenize import WhitespaceTokenizer"
   ]
  },
  {
   "cell_type": "code",
   "execution_count": 146,
   "metadata": {},
   "outputs": [],
   "source": [
    "wt = WhitespaceTokenizer()"
   ]
  },
  {
   "cell_type": "code",
   "execution_count": 147,
   "metadata": {},
   "outputs": [
    {
     "name": "stdout",
     "output_type": "stream",
     "text": [
      "['A', 'bird', 'in', 'the', 'hand', 'is', 'worth', 'two', 'in', 'the', 'bush.', 'GOOD', 'things', 'comes', 'to', 'those', 'to', 'wait.', 'These', 'watches', 'cost', '$255.', 'Mr.Smith', 'gies', 'to', 'Washington.', 'Doogle', 'Broswer', 'M.D.']\n"
     ]
    }
   ],
   "source": [
    "word_tokens = wt.tokenize(text)\n",
    "print(word_tokens)"
   ]
  },
  {
   "cell_type": "code",
   "execution_count": 148,
   "metadata": {},
   "outputs": [],
   "source": [
    "from nltk.probability import FreqDist"
   ]
  },
  {
   "cell_type": "code",
   "execution_count": 149,
   "metadata": {},
   "outputs": [
    {
     "name": "stdout",
     "output_type": "stream",
     "text": [
      "<FreqDist with 25 samples and 29 outcomes>\n"
     ]
    }
   ],
   "source": [
    "frequency_dist = FreqDist(word_tokens)\n",
    "print(frequency_dist)"
   ]
  },
  {
   "cell_type": "code",
   "execution_count": 150,
   "metadata": {},
   "outputs": [
    {
     "data": {
      "text/plain": [
       "[('to', 3), ('in', 2), ('the', 2), ('A', 1), ('bird', 1)]"
      ]
     },
     "execution_count": 150,
     "metadata": {},
     "output_type": "execute_result"
    }
   ],
   "source": [
    "frequency_dist.most_common(5)"
   ]
  },
  {
   "cell_type": "code",
   "execution_count": 151,
   "metadata": {},
   "outputs": [
    {
     "data": {
      "text/plain": [
       "0.034482758620689655"
      ]
     },
     "execution_count": 151,
     "metadata": {},
     "output_type": "execute_result"
    }
   ],
   "source": [
    "frequency_dist.freq('A')"
   ]
  },
  {
   "cell_type": "code",
   "execution_count": 152,
   "metadata": {},
   "outputs": [
    {
     "data": {
      "image/png": "[encoded data removed]",
      "text/plain": [
       "<Figure size 864x576 with 1 Axes>"
      ]
     },
     "metadata": {
      "needs_background": "light"
     },
     "output_type": "display_data"
    }
   ],
   "source": [
    "import matplotlib.pyplot as plt\n",
    "fig, ax = plt.subplots(figsize=(12, 8))\n",
    "frequency_dist.plot(5)\n",
    "plt.show()"
   ]
  },
  {
   "cell_type": "code",
   "execution_count": 153,
   "metadata": {},
   "outputs": [],
   "source": [
    "# Preprocessing Text Data"
   ]
  },
  {
   "cell_type": "code",
   "execution_count": 154,
   "metadata": {},
   "outputs": [
    {
     "name": "stdout",
     "output_type": "stream",
     "text": [
      "1) Why does NVDIMM doesn't support compute nodes?\n",
      "2) Big and Small Controllers differences \n",
      "3) No need of 105, 106 VLAN's in our RHEV deployment appropriate VLAN's needs to mentioned in the Legend\n",
      "4) \n",
      "Installing and Configuring DNS on RHEL\n",
      "\n",
      "Step 1: Installing BIND DNS\n",
      "1.\tInstall Bind DNS and its utilities on rhel server\n",
      "# yum install bind bind-utils\n",
      "2.\tStart the DNS service (named daemon) for now, then enable it to auto-start at system boot and check if it is up and running using the below commands\n",
      "# systemctl start named\n",
      "# systemctl enable named\n",
      "#systemctl status named\n",
      "Step 2: Configuring BIND DNS\n",
      "3.\tTo configure Bind DNS server, first we need to take a backup of the original configuration file /etc/named.conf using following cp command.\n",
      "# cp /etc/named.conf /etc/named.conf.orig\n",
      "4.\tOpen /etc/named.conf configuration file for editing as follows\n",
      "# vi /etc/named.conf\n",
      "5.\tUnder the options configuration section, comment out the following lines.\n",
      "                \n",
      "6.\tNow look for the allow-query parameter and set its value to our network, which means that only the hosts on our local network can query the DNS Server.\n",
      "Example: \n",
      " \n",
      "Step 3: Creating the Forward and Reverse DNS Zones\n",
      "7.\tTo define the forward and reverse zones, add the following lines at the end of the  /etc/named.conf file.\n",
      "Example: where \n",
      "i.\topenstack.int: Domain\n",
      "ii.\topenstack.int.db: Forward Zone file\n",
      "iii.\topenstack.int.rev: Reverse Zone file\n",
      "\t \n",
      "Brief information \n",
      "?\ttype: Defines the role of the server for the zone. The value “master” means it’s an authoritative server where the master copy of the zone data is maintained.\n",
      "?\tfile: specifies the zone’s database file.\n",
      "?\tallow-update: specifies the hosts which allowed to submit Dynamic DNS updates for master zones. None in the above example.\n",
      "\n",
      "Step 4: Creating Forward DNS Zone file\n",
      "\n",
      "8.\tCreate a Forward zone file under the /var/named directory and add the configurations as shown in below example.\n",
      "# vi /var/named/<Forward DNS zone file name>\n",
      "\t  Example: In the below screen shot 192.168.10.15 is local network which will be primary DNS server \n",
      "\t \t\n",
      "Brief details:\n",
      "TTL: specifies the time-to-live of the RR(Resource Record) and $TTL directive gives a default TTL for every RR without a specific TTL set.\n",
      "?\t@: It is an alias for the domain name (e.g Openstack.int) defined in the main configuration file.\n",
      "?\tIN: means the Internet.\n",
      "?\tSOA: specifies the Start of Authority: who the authoritative name server is (dns-Ppimary.openstack.int), the administrator’s contact info (admin.openstack.int, the @ sign is replaced by a period) and other related information.\n",
      "?\tNS: means name server.\n",
      "?\tSerial: this value is used by the DNS server to verify that the contents of a particular zone file are up-to-date.\n",
      "?\tRefresh: specifies how often a slave DNS server should perform a zone transfer from the master.\n",
      "?\tRetry: specifies how often a slave should retry a failed zone transfer.\n",
      "?\tExpire: determines how long a slave server should wait before answering client query when a master is unreachable.\n",
      "?\tMinimum: sets the minimum TTL for the zone.\n",
      "?\tA: A host address.\n",
      "?\tClient server information will be added under PTR records\n",
      "\n",
      "Step 5: Creating Reverse DNS Zone file\n",
      "9.\tSimilarly, create a Reverse Zone file unser /var/named directory and add the configurations as shown in below example. \n",
      "# vi /var/named/<Reverse DNS zone file name>\n",
      "Here, the PTR us the opposite of A record used to map an IP address to a hostname.\n",
      "Add DNS client server information under PTR records\n",
      "\n",
      " \n",
      "10.\tSet the correct ownership permission on the zone files as follows.\n",
      "# chown :named /var/named/<Forward DNS zone file>\n",
      "# chown :named /var/named/<Reverse DNS zone file>\n",
      "11.\t Finally, check the DNS configuration and the zone files has the correct syntax after making the above changes, using the named-checkconf utility (no out means no error)\n",
      "# named-checkconf\n",
      "# named-checkzone <Domain name> /var/named/<Foward DNS zone file>\n",
      "# named-checkzone <Domain name> /var/named/<Reverse DNS zone file>\n",
      "Example: \n",
      "12.\tRestart the DNS service for the recent changes to take effect.\n",
      "# systemctl restart named\n",
      "13.\tIf firewall is not disabled, add the DNS service in the system firewall configuration and reload the firewall settings using below commands.\n",
      "# firewall-cmd --permanent --zone=public --add-service=dns\n",
      "# firewall-cmd --reload\n",
      "If firewall is disabled, we can ignore this step. \n",
      "Step 6: Testing DNS Service from Client\n",
      "14.\tLogin to client machine and configure it to use the above DNS Server. Open the file /etc/resolv.conf and add the DNS server entry which tells the resolver to use the specified nameserver. \n",
      "# vi /etc/resolve.conf\n",
      "Add ? nameserver  <DNS Server IP>\n",
      "Save the file and close it. Also specify the DNS server in the network interface configuration file. \n",
      "15.\tAdd the DNS Server IP as resolver to the client machine network interface configuration file /etc/sysconfig/network-scripts/<interface> as shown in the below example.\n",
      "16.\tUse nslookup utility to query the IP using the hostname and vise versa.\n",
      "Example: In this PTR record has been created for www, mail and docs server in the network. \n",
      "17.\tSame way we can add multiple DNS client entries under PTR record, both in Forward & Reverse DNS zone files. Then, update the DNS entries at the client server interface level. Finally, we would be able to resolve the IP/hostname of particular DNS client server.\n",
      "\n",
      "\n"
     ]
    }
   ],
   "source": [
    "# Lower case conversion\n",
    "with open('textdoc.txt', 'r') as f:\n",
    "    file_contents = f.read()\n",
    "print(file_contents)"
   ]
  },
  {
   "cell_type": "code",
   "execution_count": 155,
   "metadata": {},
   "outputs": [
    {
     "name": "stdout",
     "output_type": "stream",
     "text": [
      "['1)', 'why', 'does', 'nvdimm', \"doesn't\", 'support', 'compute', 'nodes?', '2)', 'big', 'and', 'small', 'controllers', 'differences', '3)', 'no', 'need', 'of', '105,', '106', \"vlan's\", 'in', 'our', 'rhev', 'deployment', 'appropriate', \"vlan's\", 'needs', 'to', 'mentioned', 'in', 'the', 'legend', '4)', 'installing', 'and', 'configuring', 'dns', 'on', 'rhel', 'step', '1:', 'installing', 'bind', 'dns', '1.', 'install', 'bind', 'dns', 'and', 'its', 'utilities', 'on', 'rhel', 'server', '#', 'yum', 'install', 'bind', 'bind-utils', '2.', 'start', 'the', 'dns', 'service', '(named', 'daemon)', 'for', 'now,', 'then', 'enable', 'it', 'to', 'auto-start', 'at', 'system', 'boot', 'and', 'check', 'if', 'it', 'is', 'up', 'and', 'running', 'using', 'the', 'below', 'commands', '#', 'systemctl', 'start', 'named', '#', 'systemctl', 'enable', 'named', '#systemctl', 'status', 'named', 'step', '2:', 'configuring', 'bind', 'dns', '3.', 'to', 'configure', 'bind', 'dns', 'server,', 'first', 'we', 'need', 'to', 'take', 'a', 'backup', 'of', 'the', 'original', 'configuration', 'file', '/etc/named.conf', 'using', 'following', 'cp', 'command.', '#', 'cp', '/etc/named.conf', '/etc/named.conf.orig', '4.', 'open', '/etc/named.conf', 'configuration', 'file', 'for', 'editing', 'as', 'follows', '#', 'vi', '/etc/named.conf', '5.', 'under', 'the', 'options', 'configuration', 'section,', 'comment', 'out', 'the', 'following', 'lines.', '6.', 'now', 'look', 'for', 'the', 'allow-query', 'parameter', 'and', 'set', 'its', 'value', 'to', 'our', 'network,', 'which', 'means', 'that', 'only', 'the', 'hosts', 'on', 'our', 'local', 'network', 'can', 'query', 'the', 'dns', 'server.', 'example:', 'step', '3:', 'creating', 'the', 'forward', 'and', 'reverse', 'dns', 'zones', '7.', 'to', 'define', 'the', 'forward', 'and', 'reverse', 'zones,', 'add', 'the', 'following', 'lines', 'at', 'the', 'end', 'of', 'the', '/etc/named.conf', 'file.', 'example:', 'where', 'i.', 'openstack.int:', 'domain', 'ii.', 'openstack.int.db:', 'forward', 'zone', 'file', 'iii.', 'openstack.int.rev:', 'reverse', 'zone', 'file', 'brief', 'information', '?', 'type:', 'defines', 'the', 'role', 'of', 'the', 'server', 'for', 'the', 'zone.', 'the', 'value', '“master”', 'means', 'it’s', 'an', 'authoritative', 'server', 'where', 'the', 'master', 'copy', 'of', 'the', 'zone', 'data', 'is', 'maintained.', '?', 'file:', 'specifies', 'the', 'zone’s', 'database', 'file.', '?', 'allow-update:', 'specifies', 'the', 'hosts', 'which', 'allowed', 'to', 'submit', 'dynamic', 'dns', 'updates', 'for', 'master', 'zones.', 'none', 'in', 'the', 'above', 'example.', 'step', '4:', 'creating', 'forward', 'dns', 'zone', 'file', '8.', 'create', 'a', 'forward', 'zone', 'file', 'under', 'the', '/var/named', 'directory', 'and', 'add', 'the', 'configurations', 'as', 'shown', 'in', 'below', 'example.', '#', 'vi', '/var/named/<forward', 'dns', 'zone', 'file', 'name>', 'example:', 'in', 'the', 'below', 'screen', 'shot', '192.168.10.15', 'is', 'local', 'network', 'which', 'will', 'be', 'primary', 'dns', 'server', 'brief', 'details:', 'ttl:', 'specifies', 'the', 'time-to-live', 'of', 'the', 'rr(resource', 'record)', 'and', '$ttl', 'directive', 'gives', 'a', 'default', 'ttl', 'for', 'every', 'rr', 'without', 'a', 'specific', 'ttl', 'set.', '?', '@:', 'it', 'is', 'an', 'alias', 'for', 'the', 'domain', 'name', '(e.g', 'openstack.int)', 'defined', 'in', 'the', 'main', 'configuration', 'file.', '?', 'in:', 'means', 'the', 'internet.', '?', 'soa:', 'specifies', 'the', 'start', 'of', 'authority:', 'who', 'the', 'authoritative', 'name', 'server', 'is', '(dns-ppimary.openstack.int),', 'the', 'administrator’s', 'contact', 'info', '(admin.openstack.int,', 'the', '@', 'sign', 'is', 'replaced', 'by', 'a', 'period)', 'and', 'other', 'related', 'information.', '?', 'ns:', 'means', 'name', 'server.', '?', 'serial:', 'this', 'value', 'is', 'used', 'by', 'the', 'dns', 'server', 'to', 'verify', 'that', 'the', 'contents', 'of', 'a', 'particular', 'zone', 'file', 'are', 'up-to-date.', '?', 'refresh:', 'specifies', 'how', 'often', 'a', 'slave', 'dns', 'server', 'should', 'perform', 'a', 'zone', 'transfer', 'from', 'the', 'master.', '?', 'retry:', 'specifies', 'how', 'often', 'a', 'slave', 'should', 'retry', 'a', 'failed', 'zone', 'transfer.', '?', 'expire:', 'determines', 'how', 'long', 'a', 'slave', 'server', 'should', 'wait', 'before', 'answering', 'client', 'query', 'when', 'a', 'master', 'is', 'unreachable.', '?', 'minimum:', 'sets', 'the', 'minimum', 'ttl', 'for', 'the', 'zone.', '?', 'a:', 'a', 'host', 'address.', '?', 'client', 'server', 'information', 'will', 'be', 'added', 'under', 'ptr', 'records', 'step', '5:', 'creating', 'reverse', 'dns', 'zone', 'file', '9.', 'similarly,', 'create', 'a', 'reverse', 'zone', 'file', 'unser', '/var/named', 'directory', 'and', 'add', 'the', 'configurations', 'as', 'shown', 'in', 'below', 'example.', '#', 'vi', '/var/named/<reverse', 'dns', 'zone', 'file', 'name>', 'here,', 'the', 'ptr', 'us', 'the', 'opposite', 'of', 'a', 'record', 'used', 'to', 'map', 'an', 'ip', 'address', 'to', 'a', 'hostname.', 'add', 'dns', 'client', 'server', 'information', 'under', 'ptr', 'records', '10.', 'set', 'the', 'correct', 'ownership', 'permission', 'on', 'the', 'zone', 'files', 'as', 'follows.', '#', 'chown', ':named', '/var/named/<forward', 'dns', 'zone', 'file>', '#', 'chown', ':named', '/var/named/<reverse', 'dns', 'zone', 'file>', '11.', 'finally,', 'check', 'the', 'dns', 'configuration', 'and', 'the', 'zone', 'files', 'has', 'the', 'correct', 'syntax', 'after', 'making', 'the', 'above', 'changes,', 'using', 'the', 'named-checkconf', 'utility', '(no', 'out', 'means', 'no', 'error)', '#', 'named-checkconf', '#', 'named-checkzone', '<domain', 'name>', '/var/named/<foward', 'dns', 'zone', 'file>', '#', 'named-checkzone', '<domain', 'name>', '/var/named/<reverse', 'dns', 'zone', 'file>', 'example:', '12.', 'restart', 'the', 'dns', 'service', 'for', 'the', 'recent', 'changes', 'to', 'take', 'effect.', '#', 'systemctl', 'restart', 'named', '13.', 'if', 'firewall', 'is', 'not', 'disabled,', 'add', 'the', 'dns', 'service', 'in', 'the', 'system', 'firewall', 'configuration', 'and', 'reload', 'the', 'firewall', 'settings', 'using', 'below', 'commands.', '#', 'firewall-cmd', '--permanent', '--zone=public', '--add-service=dns', '#', 'firewall-cmd', '--reload', 'if', 'firewall', 'is', 'disabled,', 'we', 'can', 'ignore', 'this', 'step.', 'step', '6:', 'testing', 'dns', 'service', 'from', 'client', '14.', 'login', 'to', 'client', 'machine', 'and', 'configure', 'it', 'to', 'use', 'the', 'above', 'dns', 'server.', 'open', 'the', 'file', '/etc/resolv.conf', 'and', 'add', 'the', 'dns', 'server', 'entry', 'which', 'tells', 'the', 'resolver', 'to', 'use', 'the', 'specified', 'nameserver.', '#', 'vi', '/etc/resolve.conf', 'add', '?', 'nameserver', '<dns', 'server', 'ip>', 'save', 'the', 'file', 'and', 'close', 'it.', 'also', 'specify', 'the', 'dns', 'server', 'in', 'the', 'network', 'interface', 'configuration', 'file.', '15.', 'add', 'the', 'dns', 'server', 'ip', 'as', 'resolver', 'to', 'the', 'client', 'machine', 'network', 'interface', 'configuration', 'file', '/etc/sysconfig/network-scripts/<interface>', 'as', 'shown', 'in', 'the', 'below', 'example.', '16.', 'use', 'nslookup', 'utility', 'to', 'query', 'the', 'ip', 'using', 'the', 'hostname', 'and', 'vise', 'versa.', 'example:', 'in', 'this', 'ptr', 'record', 'has', 'been', 'created', 'for', 'www,', 'mail', 'and', 'docs', 'server', 'in', 'the', 'network.', '17.', 'same', 'way', 'we', 'can', 'add', 'multiple', 'dns', 'client', 'entries', 'under', 'ptr', 'record,', 'both', 'in', 'forward', '&', 'reverse', 'dns', 'zone', 'files.', 'then,', 'update', 'the', 'dns', 'entries', 'at', 'the', 'client', 'server', 'interface', 'level.', 'finally,', 'we', 'would', 'be', 'able', 'to', 'resolve', 'the', 'ip/hostname', 'of', 'particular', 'dns', 'client', 'server.']\n"
     ]
    }
   ],
   "source": [
    "# Upper case to Lower case\n",
    "file_contents = file_contents.lower()\n",
    "word_tokens = wt.tokenize(file_contents)\n",
    "print(word_tokens)"
   ]
  },
  {
   "cell_type": "code",
   "execution_count": 156,
   "metadata": {},
   "outputs": [
    {
     "data": {
      "text/plain": [
       "[(' ', 796),\n",
       " ('e', 587),\n",
       " ('n', 360),\n",
       " ('t', 329),\n",
       " ('r', 292),\n",
       " ('a', 291),\n",
       " ('i', 289),\n",
       " ('s', 284),\n",
       " ('o', 275),\n",
       " ('d', 197),\n",
       " ('l', 175),\n",
       " ('c', 148),\n",
       " ('f', 137),\n",
       " ('h', 135),\n",
       " ('m', 118),\n",
       " ('\\n', 86),\n",
       " ('p', 81),\n",
       " ('.', 80),\n",
       " ('v', 79),\n",
       " ('u', 78)]"
      ]
     },
     "execution_count": 156,
     "metadata": {},
     "output_type": "execute_result"
    }
   ],
   "source": [
    "word_tokens = wt.tokenize(file_contents)\n",
    "frequency_dist = FreqDist(file_contents)\n",
    "frequency_dist.most_common(20)"
   ]
  },
  {
   "cell_type": "code",
   "execution_count": 118,
   "metadata": {},
   "outputs": [
    {
     "data": {
      "image/png": "[encoded data removed]",
      "text/plain": [
       "<Figure size 864x576 with 1 Axes>"
      ]
     },
     "metadata": {
      "needs_background": "light"
     },
     "output_type": "display_data"
    }
   ],
   "source": [
    "import matplotlib.pyplot as plt\n",
    "fig, ax = plt.subplots(figsize=(12, 8))\n",
    "frequency_dist.plot(5)\n",
    "plt.show()"
   ]
  },
  {
   "cell_type": "code",
   "execution_count": 119,
   "metadata": {},
   "outputs": [
    {
     "name": "stderr",
     "output_type": "stream",
     "text": [
      "[nltk_data] Downloading package stopwords to\n",
      "[nltk_data]     C:\\Users\\sharmg1\\AppData\\Roaming\\nltk_data...\n",
      "[nltk_data]   Unzipping corpora\\stopwords.zip.\n"
     ]
    },
    {
     "data": {
      "text/plain": [
       "True"
      ]
     },
     "execution_count": 119,
     "metadata": {},
     "output_type": "execute_result"
    }
   ],
   "source": [
    "# Removing Stop words such as 'the' , 'a' \n",
    "# DOwnload nltk stopwords corpus \n",
    "\n",
    "nltk.download('stopwords')"
   ]
  },
  {
   "cell_type": "code",
   "execution_count": 126,
   "metadata": {},
   "outputs": [
    {
     "name": "stdout",
     "output_type": "stream",
     "text": [
      "{'during', 'shan', 've', 's', 'into', 'and', 'his', 'because', 'between', 'her', 'why', \"mightn't\", 'theirs', 'yours', 'yourselves', 'it', 'is', 'once', 'have', 'most', 'needn', 'wouldn', \"didn't\", 'isn', 'some', 'be', 'from', 'ours', \"don't\", '.', 'The', 'few', 'aren', 'or', 'i', 'if', 'were', 'he', 'them', 'all', 'myself', 'of', 'where', \"you've\", \"doesn't\", 'but', 'in', 'me', 'at', 'on', 'through', 'that', 'a', 'same', 'are', 'while', 'off', 'then', 'my', 'himself', 'will', 'this', 'can', 'for', 'there', 'itself', 'doing', 'own', 'wasn', 'above', \"she's\", 'shouldn', 'did', 'such', 'until', 'hadn', 'other', 'ourselves', 'am', 'under', \"hadn't\", 'being', 'here', \"mustn't\", 'below', ',', '#', 'so', \"wouldn't\", \"wasn't\", \"it's\", 'didn', \"weren't\", 'hers', 'than', \"isn't\", 'mustn', 'doesn', 'further', 'who', \"won't\", 'up', 'him', 'couldn', 'mightn', 'as', 'their', 'each', 'with', \"should've\", 'hasn', 'your', 'after', 'not', 'to', 'themselves', 'before', 'more', 'yourself', 'down', 'm', 'haven', 'just', 'now', 'any', 'these', 'by', \"shan't\", \"aren't\", 'ma', 'against', 'weren', 'having', ' ', \"you'll\", 'was', 'you', 'very', \"you're\", 'been', 'does', 'no', 'o', 'the', 'ain', 't', 'what', 'had', \"haven't\", 'she', 'out', 'again', 'which', 'won', 'd', 'too', 'only', 'whom', \"couldn't\", 'nor', 'll', 'don', 'both', \"shouldn't\", \"that'll\", 'about', 'they', 'should', 'those', 'its', 're', 'do', 'we', 'y', 'herself', 'has', 'how', \"hasn't\", 'when', 'our', 'over', \"needn't\", \"you'd\", 'an'}\n"
     ]
    }
   ],
   "source": [
    "from nltk.corpus import stopwords\n",
    "stop_words = set(stopwords.words('english'))\n",
    "stop_words.update(['.',',',' ','#','The'])\n",
    "print(stop_words)"
   ]
  },
  {
   "cell_type": "code",
   "execution_count": 127,
   "metadata": {},
   "outputs": [
    {
     "name": "stdout",
     "output_type": "stream",
     "text": [
      "['1)', 'nvdimm', 'support', 'compute', 'nodes?', '2)', 'big', 'small', 'controllers', 'differences', '3)', 'need', '105,', '106', \"vlan's\", 'rhev', 'deployment', 'appropriate', \"vlan's\", 'needs', 'mentioned', 'legend', '4)', 'installing', 'configuring', 'dns', 'rhel', 'step', '1:', 'installing', 'bind', 'dns', '1.', 'install', 'bind', 'dns', 'utilities', 'rhel', 'server', 'yum', 'install', 'bind', 'bind-utils', '2.', 'start', 'dns', 'service', '(named', 'daemon)', 'now,', 'enable', 'auto-start', 'system', 'boot', 'check', 'running', 'using', 'commands', 'systemctl', 'start', 'named', 'systemctl', 'enable', 'named', '#systemctl', 'status', 'named', 'step', '2:', 'configuring', 'bind', 'dns', '3.', 'configure', 'bind', 'dns', 'server,', 'first', 'need', 'take', 'backup', 'original', 'configuration', 'file', '/etc/named.conf', 'using', 'following', 'cp', 'command.', 'cp', '/etc/named.conf', '/etc/named.conf.orig', '4.', 'open', '/etc/named.conf', 'configuration', 'file', 'editing', 'follows', 'vi', '/etc/named.conf', '5.', 'options', 'configuration', 'section,', 'comment', 'following', 'lines.', '6.', 'look', 'allow-query', 'parameter', 'set', 'value', 'network,', 'means', 'hosts', 'local', 'network', 'query', 'dns', 'server.', 'example:', 'step', '3:', 'creating', 'forward', 'reverse', 'dns', 'zones', '7.', 'define', 'forward', 'reverse', 'zones,', 'add', 'following', 'lines', 'end', '/etc/named.conf', 'file.', 'example:', 'i.', 'openstack.int:', 'domain', 'ii.', 'openstack.int.db:', 'forward', 'zone', 'file', 'iii.', 'openstack.int.rev:', 'reverse', 'zone', 'file', 'brief', 'information', '?', 'type:', 'defines', 'role', 'server', 'zone.', 'value', '“master”', 'means', 'it’s', 'authoritative', 'server', 'master', 'copy', 'zone', 'data', 'maintained.', '?', 'file:', 'specifies', 'zone’s', 'database', 'file.', '?', 'allow-update:', 'specifies', 'hosts', 'allowed', 'submit', 'dynamic', 'dns', 'updates', 'master', 'zones.', 'none', 'example.', 'step', '4:', 'creating', 'forward', 'dns', 'zone', 'file', '8.', 'create', 'forward', 'zone', 'file', '/var/named', 'directory', 'add', 'configurations', 'shown', 'example.', 'vi', '/var/named/<forward', 'dns', 'zone', 'file', 'name>', 'example:', 'screen', 'shot', '192.168.10.15', 'local', 'network', 'primary', 'dns', 'server', 'brief', 'details:', 'ttl:', 'specifies', 'time-to-live', 'rr(resource', 'record)', '$ttl', 'directive', 'gives', 'default', 'ttl', 'every', 'rr', 'without', 'specific', 'ttl', 'set.', '?', '@:', 'alias', 'domain', 'name', '(e.g', 'openstack.int)', 'defined', 'main', 'configuration', 'file.', '?', 'in:', 'means', 'internet.', '?', 'soa:', 'specifies', 'start', 'authority:', 'authoritative', 'name', 'server', '(dns-ppimary.openstack.int),', 'administrator’s', 'contact', 'info', '(admin.openstack.int,', '@', 'sign', 'replaced', 'period)', 'related', 'information.', '?', 'ns:', 'means', 'name', 'server.', '?', 'serial:', 'value', 'used', 'dns', 'server', 'verify', 'contents', 'particular', 'zone', 'file', 'up-to-date.', '?', 'refresh:', 'specifies', 'often', 'slave', 'dns', 'server', 'perform', 'zone', 'transfer', 'master.', '?', 'retry:', 'specifies', 'often', 'slave', 'retry', 'failed', 'zone', 'transfer.', '?', 'expire:', 'determines', 'long', 'slave', 'server', 'wait', 'answering', 'client', 'query', 'master', 'unreachable.', '?', 'minimum:', 'sets', 'minimum', 'ttl', 'zone.', '?', 'a:', 'host', 'address.', '?', 'client', 'server', 'information', 'added', 'ptr', 'records', 'step', '5:', 'creating', 'reverse', 'dns', 'zone', 'file', '9.', 'similarly,', 'create', 'reverse', 'zone', 'file', 'unser', '/var/named', 'directory', 'add', 'configurations', 'shown', 'example.', 'vi', '/var/named/<reverse', 'dns', 'zone', 'file', 'name>', 'here,', 'ptr', 'us', 'opposite', 'record', 'used', 'map', 'ip', 'address', 'hostname.', 'add', 'dns', 'client', 'server', 'information', 'ptr', 'records', '10.', 'set', 'correct', 'ownership', 'permission', 'zone', 'files', 'follows.', 'chown', ':named', '/var/named/<forward', 'dns', 'zone', 'file>', 'chown', ':named', '/var/named/<reverse', 'dns', 'zone', 'file>', '11.', 'finally,', 'check', 'dns', 'configuration', 'zone', 'files', 'correct', 'syntax', 'making', 'changes,', 'using', 'named-checkconf', 'utility', '(no', 'means', 'error)', 'named-checkconf', 'named-checkzone', '<domain', 'name>', '/var/named/<foward', 'dns', 'zone', 'file>', 'named-checkzone', '<domain', 'name>', '/var/named/<reverse', 'dns', 'zone', 'file>', 'example:', '12.', 'restart', 'dns', 'service', 'recent', 'changes', 'take', 'effect.', 'systemctl', 'restart', 'named', '13.', 'firewall', 'disabled,', 'add', 'dns', 'service', 'system', 'firewall', 'configuration', 'reload', 'firewall', 'settings', 'using', 'commands.', 'firewall-cmd', '--permanent', '--zone=public', '--add-service=dns', 'firewall-cmd', '--reload', 'firewall', 'disabled,', 'ignore', 'step.', 'step', '6:', 'testing', 'dns', 'service', 'client', '14.', 'login', 'client', 'machine', 'configure', 'use', 'dns', 'server.', 'open', 'file', '/etc/resolv.conf', 'add', 'dns', 'server', 'entry', 'tells', 'resolver', 'use', 'specified', 'nameserver.', 'vi', '/etc/resolve.conf', 'add', '?', 'nameserver', '<dns', 'server', 'ip>', 'save', 'file', 'close', 'it.', 'also', 'specify', 'dns', 'server', 'network', 'interface', 'configuration', 'file.', '15.', 'add', 'dns', 'server', 'ip', 'resolver', 'client', 'machine', 'network', 'interface', 'configuration', 'file', '/etc/sysconfig/network-scripts/<interface>', 'shown', 'example.', '16.', 'use', 'nslookup', 'utility', 'query', 'ip', 'using', 'hostname', 'vise', 'versa.', 'example:', 'ptr', 'record', 'created', 'www,', 'mail', 'docs', 'server', 'network.', '17.', 'way', 'add', 'multiple', 'dns', 'client', 'entries', 'ptr', 'record,', 'forward', '&', 'reverse', 'dns', 'zone', 'files.', 'then,', 'update', 'dns', 'entries', 'client', 'server', 'interface', 'level.', 'finally,', 'would', 'able', 'resolve', 'ip/hostname', 'particular', 'dns', 'client', 'server.']\n"
     ]
    }
   ],
   "source": [
    "filtered_words = []\n",
    "\n",
    "for w in word_tokens:\n",
    "    if w not in stop_words:\n",
    "        filtered_words.append(w)\n",
    "\n",
    "print(filtered_words)"
   ]
  },
  {
   "cell_type": "code",
   "execution_count": 128,
   "metadata": {},
   "outputs": [
    {
     "name": "stdout",
     "output_type": "stream",
     "text": [
      "<FreqDist with 321 samples and 587 outcomes>\n"
     ]
    }
   ],
   "source": [
    "frequency_dist = FreqDist(filtered_words)\n",
    "print(frequency_dist)"
   ]
  },
  {
   "cell_type": "code",
   "execution_count": 129,
   "metadata": {},
   "outputs": [
    {
     "data": {
      "text/plain": [
       "[('dns', 33),\n",
       " ('zone', 19),\n",
       " ('server', 16),\n",
       " ('?', 15),\n",
       " ('file', 14),\n",
       " ('add', 9),\n",
       " ('client', 9),\n",
       " ('configuration', 8),\n",
       " ('step', 6),\n",
       " ('forward', 6),\n",
       " ('reverse', 6),\n",
       " ('specifies', 6),\n",
       " ('bind', 5),\n",
       " ('using', 5),\n",
       " ('/etc/named.conf', 5),\n",
       " ('means', 5),\n",
       " ('example:', 5),\n",
       " ('ptr', 5),\n",
       " ('service', 4),\n",
       " ('named', 4)]"
      ]
     },
     "execution_count": 129,
     "metadata": {},
     "output_type": "execute_result"
    }
   ],
   "source": [
    "frequency_dist.most_common(20)"
   ]
  },
  {
   "cell_type": "code",
   "execution_count": 130,
   "metadata": {},
   "outputs": [
    {
     "data": {
      "image/png": "[encoded data removed]",
      "text/plain": [
       "<Figure size 864x576 with 1 Axes>"
      ]
     },
     "metadata": {
      "needs_background": "light"
     },
     "output_type": "display_data"
    }
   ],
   "source": [
    "fig, ax = plt.subplots(figsize=(12, 8))\n",
    "frequency_dist.plot(5)\n",
    "plt.show()"
   ]
  },
  {
   "cell_type": "code",
   "execution_count": null,
   "metadata": {},
   "outputs": [],
   "source": []
  }
 ],
 "metadata": {
  "kernelspec": {
   "display_name": "Python 3",
   "language": "python",
   "name": "python3"
  },
  "language_info": {
   "codemirror_mode": {
    "name": "ipython",
    "version": 3
   },
   "file_extension": ".py",
   "mimetype": "text/x-python",
   "name": "python",
   "nbconvert_exporter": "python",
   "pygments_lexer": "ipython3",
   "version": "3.7.4"
  }
 },
 "nbformat": 4,
 "nbformat_minor": 2
}
