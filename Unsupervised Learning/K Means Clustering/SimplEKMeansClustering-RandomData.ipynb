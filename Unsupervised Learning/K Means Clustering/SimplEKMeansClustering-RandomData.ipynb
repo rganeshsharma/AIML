{
 "cells": [
  {
   "cell_type": "code",
   "execution_count": 102,
   "metadata": {},
   "outputs": [
    {
     "name": "stdout",
     "output_type": "stream",
     "text": [
      "Python 3.7.4\n",
      "0.21.3\n"
     ]
    }
   ],
   "source": [
    "! python --version\n",
    "print(sklearn.__version__)"
   ]
  },
  {
   "cell_type": "code",
   "execution_count": 103,
   "metadata": {},
   "outputs": [
    {
     "name": "stdout",
     "output_type": "stream",
     "text": [
      "C:\\Users\\sharmg1\\AppData\\Roaming\\jupyter\\runtime\n"
     ]
    }
   ],
   "source": [
    "! jupyter --runtime-dir"
   ]
  },
  {
   "cell_type": "code",
   "execution_count": 127,
   "metadata": {},
   "outputs": [],
   "source": [
    "import sklearn\n",
    "from sklearn import metrics\n",
    "from sklearn.cluster import KMeans\n",
    "import pandas as pd\n",
    "import numpy as np\n",
    "import matplotlib\n",
    "import matplotlib.pyplot as plt\n",
    "\n",
    "import random \n",
    "import warnings\n",
    "warnings.filterwarnings('ignore')"
   ]
  },
  {
   "cell_type": "code",
   "execution_count": 128,
   "metadata": {},
   "outputs": [
    {
     "data": {
      "text/plain": [
       "array([[335.,  36.],\n",
       "       [199.,  70.],\n",
       "       [198., 159.],\n",
       "       [ 61., 130.],\n",
       "       [136., 393.],\n",
       "       [389., 379.],\n",
       "       [274., 279.],\n",
       "       [397., 113.],\n",
       "       [318., 122.],\n",
       "       [ 34., 228.],\n",
       "       [ 38.,  14.],\n",
       "       [389., 361.],\n",
       "       [360.,  26.],\n",
       "       [382., 208.],\n",
       "       [123., 295.],\n",
       "       [244., 189.],\n",
       "       [158., 189.],\n",
       "       [101., 272.],\n",
       "       [286., 243.],\n",
       "       [149.,  26.],\n",
       "       [283., 145.],\n",
       "       [ 51.,  91.],\n",
       "       [356., 245.],\n",
       "       [270., 125.],\n",
       "       [156., 108.],\n",
       "       [287.,  36.],\n",
       "       [384., 113.],\n",
       "       [331., 176.],\n",
       "       [ 62.,  26.],\n",
       "       [331.,  78.],\n",
       "       [ 41., 360.],\n",
       "       [341.,  17.],\n",
       "       [353., 122.],\n",
       "       [267., 249.],\n",
       "       [197., 153.],\n",
       "       [302., 164.],\n",
       "       [ 23., 262.],\n",
       "       [189., 383.],\n",
       "       [382., 294.],\n",
       "       [182., 269.],\n",
       "       [ 23., 201.],\n",
       "       [308., 141.],\n",
       "       [  2., 382.],\n",
       "       [ 94., 165.],\n",
       "       [379., 273.],\n",
       "       [351.,  33.],\n",
       "       [371.,  35.],\n",
       "       [374., 112.],\n",
       "       [282., 146.],\n",
       "       [306.,  20.],\n",
       "       [462., 353.],\n",
       "       [430., 474.],\n",
       "       [373., 645.],\n",
       "       [472., 566.],\n",
       "       [437., 665.],\n",
       "       [431., 630.],\n",
       "       [354., 530.],\n",
       "       [625., 556.],\n",
       "       [457., 334.],\n",
       "       [504., 368.],\n",
       "       [424., 389.],\n",
       "       [507., 663.],\n",
       "       [556., 410.],\n",
       "       [578., 545.],\n",
       "       [659., 600.],\n",
       "       [672., 445.],\n",
       "       [408., 584.],\n",
       "       [658., 402.],\n",
       "       [368., 388.],\n",
       "       [368., 699.],\n",
       "       [309., 577.],\n",
       "       [504., 653.],\n",
       "       [404., 617.],\n",
       "       [540., 437.],\n",
       "       [317., 617.],\n",
       "       [550., 641.],\n",
       "       [396., 626.],\n",
       "       [344., 546.],\n",
       "       [398., 699.],\n",
       "       [694., 382.],\n",
       "       [450., 527.],\n",
       "       [320., 675.],\n",
       "       [463., 462.],\n",
       "       [500., 684.],\n",
       "       [320., 694.],\n",
       "       [699., 324.],\n",
       "       [415., 539.],\n",
       "       [637., 567.],\n",
       "       [340., 674.],\n",
       "       [574., 468.],\n",
       "       [465., 616.],\n",
       "       [669., 584.],\n",
       "       [365., 475.],\n",
       "       [520., 384.],\n",
       "       [464., 700.],\n",
       "       [358., 375.],\n",
       "       [688., 521.],\n",
       "       [434., 496.],\n",
       "       [304., 345.],\n",
       "       [663., 391.],\n",
       "       [867., 827.],\n",
       "       [702., 888.],\n",
       "       [761., 899.],\n",
       "       [803., 820.],\n",
       "       [855., 680.],\n",
       "       [830., 680.],\n",
       "       [603., 795.],\n",
       "       [887., 690.],\n",
       "       [837., 620.],\n",
       "       [604., 724.],\n",
       "       [700., 673.],\n",
       "       [606., 762.],\n",
       "       [615., 865.],\n",
       "       [808., 823.],\n",
       "       [756., 723.],\n",
       "       [811., 810.],\n",
       "       [603., 726.],\n",
       "       [674., 641.],\n",
       "       [750., 874.],\n",
       "       [856., 821.],\n",
       "       [846., 610.],\n",
       "       [833., 620.],\n",
       "       [696., 660.],\n",
       "       [690., 658.],\n",
       "       [893., 771.],\n",
       "       [622., 701.],\n",
       "       [771., 899.],\n",
       "       [893., 864.],\n",
       "       [878., 777.],\n",
       "       [835., 653.],\n",
       "       [722., 847.],\n",
       "       [629., 658.],\n",
       "       [657., 770.],\n",
       "       [645., 851.],\n",
       "       [606., 876.],\n",
       "       [703., 876.],\n",
       "       [624., 740.],\n",
       "       [825., 720.],\n",
       "       [880., 869.],\n",
       "       [629., 649.],\n",
       "       [699., 886.],\n",
       "       [669., 610.],\n",
       "       [819., 793.],\n",
       "       [614., 761.],\n",
       "       [845., 863.],\n",
       "       [663., 791.],\n",
       "       [697., 849.],\n",
       "       [841., 729.],\n",
       "       [784., 705.],\n",
       "       [700., 622.]])"
      ]
     },
     "execution_count": 128,
     "metadata": {},
     "output_type": "execute_result"
    }
   ],
   "source": [
    "data1 = np.array([[random.randint(1,400) for i in range(2)] for j in range(50)], dtype=np.float64)\n",
    "data2 = np.array([[random.randint(300,700) for i in range(2)] for j in range(50)], dtype=np.float64)\n",
    "data3 = np.array([[random.randint(600,900) for i in range(2)] for j in range(50)], dtype=np.float64)\n",
    "data = np.append(np.append(data1, data2, axis=0), data3, axis=0)\n",
    "data"
   ]
  },
  {
   "cell_type": "code",
   "execution_count": 129,
   "metadata": {},
   "outputs": [
    {
     "data": {
      "text/plain": [
       "(150, 2)"
      ]
     },
     "execution_count": 129,
     "metadata": {},
     "output_type": "execute_result"
    }
   ],
   "source": [
    "data.shape"
   ]
  },
  {
   "cell_type": "code",
   "execution_count": 130,
   "metadata": {},
   "outputs": [
    {
     "data": {
      "text/plain": [
       "<matplotlib.collections.PathCollection at 0x238c5202d08>"
      ]
     },
     "execution_count": 130,
     "metadata": {},
     "output_type": "execute_result"
    },
    {
     "data": {
      "image/png": "[encoded data removed]",
      "text/plain": [
       "<Figure size 864x576 with 1 Axes>"
      ]
     },
     "metadata": {
      "needs_background": "light"
     },
     "output_type": "display_data"
    }
   ],
   "source": [
    "fig, ax = plt.subplots(figsize=(12, 8))\n",
    "plt.scatter(data[:,0], data[:,1], s=100)"
   ]
  },
  {
   "cell_type": "code",
   "execution_count": 131,
   "metadata": {},
   "outputs": [
    {
     "data": {
      "text/plain": [
       "array([0, 0, 0, 0, 0, 0, 0, 0, 0, 0, 0, 0, 0, 0, 0, 0, 0, 0, 0, 0, 0, 0,\n",
       "       0, 0, 0, 0, 0, 0, 0, 0, 0, 0, 0, 0, 0, 0, 0, 0, 0, 0, 0, 0, 0, 0,\n",
       "       0, 0, 0, 0, 0, 0, 1, 1, 1, 1, 1, 1, 1, 1, 1, 1, 1, 1, 1, 1, 1, 1,\n",
       "       1, 1, 1, 1, 1, 1, 1, 1, 1, 1, 1, 1, 1, 1, 1, 1, 1, 1, 1, 1, 1, 1,\n",
       "       1, 1, 1, 1, 1, 1, 1, 1, 1, 1, 1, 1, 2, 2, 2, 2, 2, 2, 2, 2, 2, 2,\n",
       "       2, 2, 2, 2, 2, 2, 2, 2, 2, 2, 2, 2, 2, 2, 2, 2, 2, 2, 2, 2, 2, 2,\n",
       "       2, 2, 2, 2, 2, 2, 2, 2, 2, 2, 2, 2, 2, 2, 2, 2, 2, 2])"
      ]
     },
     "execution_count": 131,
     "metadata": {},
     "output_type": "execute_result"
    }
   ],
   "source": [
    "label_1 = np.array([0 for i in range(50)])\n",
    "label_2 = np.array([1 for i in range(50)])\n",
    "label_3 = np.array([2 for i in range(50)])\n",
    "labels = np.append(np.append(label_1, label_2, axis=0), label_3 , axis=0)\n",
    "labels"
   ]
  },
  {
   "cell_type": "code",
   "execution_count": 132,
   "metadata": {},
   "outputs": [
    {
     "data": {
      "text/html": [
       "<div>\n",
       "<style scoped>\n",
       "    .dataframe tbody tr th:only-of-type {\n",
       "        vertical-align: middle;\n",
       "    }\n",
       "\n",
       "    .dataframe tbody tr th {\n",
       "        vertical-align: top;\n",
       "    }\n",
       "\n",
       "    .dataframe thead th {\n",
       "        text-align: right;\n",
       "    }\n",
       "</style>\n",
       "<table border=\"1\" class=\"dataframe\">\n",
       "  <thead>\n",
       "    <tr style=\"text-align: right;\">\n",
       "      <th></th>\n",
       "      <th>data_x</th>\n",
       "      <th>data_y</th>\n",
       "      <th>labels</th>\n",
       "    </tr>\n",
       "  </thead>\n",
       "  <tbody>\n",
       "    <tr>\n",
       "      <td>0</td>\n",
       "      <td>335.0</td>\n",
       "      <td>335.0</td>\n",
       "      <td>0</td>\n",
       "    </tr>\n",
       "    <tr>\n",
       "      <td>1</td>\n",
       "      <td>199.0</td>\n",
       "      <td>199.0</td>\n",
       "      <td>0</td>\n",
       "    </tr>\n",
       "    <tr>\n",
       "      <td>2</td>\n",
       "      <td>198.0</td>\n",
       "      <td>198.0</td>\n",
       "      <td>0</td>\n",
       "    </tr>\n",
       "    <tr>\n",
       "      <td>3</td>\n",
       "      <td>61.0</td>\n",
       "      <td>61.0</td>\n",
       "      <td>0</td>\n",
       "    </tr>\n",
       "    <tr>\n",
       "      <td>4</td>\n",
       "      <td>136.0</td>\n",
       "      <td>136.0</td>\n",
       "      <td>0</td>\n",
       "    </tr>\n",
       "    <tr>\n",
       "      <td>...</td>\n",
       "      <td>...</td>\n",
       "      <td>...</td>\n",
       "      <td>...</td>\n",
       "    </tr>\n",
       "    <tr>\n",
       "      <td>145</td>\n",
       "      <td>663.0</td>\n",
       "      <td>663.0</td>\n",
       "      <td>2</td>\n",
       "    </tr>\n",
       "    <tr>\n",
       "      <td>146</td>\n",
       "      <td>697.0</td>\n",
       "      <td>697.0</td>\n",
       "      <td>2</td>\n",
       "    </tr>\n",
       "    <tr>\n",
       "      <td>147</td>\n",
       "      <td>841.0</td>\n",
       "      <td>841.0</td>\n",
       "      <td>2</td>\n",
       "    </tr>\n",
       "    <tr>\n",
       "      <td>148</td>\n",
       "      <td>784.0</td>\n",
       "      <td>784.0</td>\n",
       "      <td>2</td>\n",
       "    </tr>\n",
       "    <tr>\n",
       "      <td>149</td>\n",
       "      <td>700.0</td>\n",
       "      <td>700.0</td>\n",
       "      <td>2</td>\n",
       "    </tr>\n",
       "  </tbody>\n",
       "</table>\n",
       "<p>150 rows × 3 columns</p>\n",
       "</div>"
      ],
      "text/plain": [
       "     data_x  data_y  labels\n",
       "0     335.0   335.0       0\n",
       "1     199.0   199.0       0\n",
       "2     198.0   198.0       0\n",
       "3      61.0    61.0       0\n",
       "4     136.0   136.0       0\n",
       "..      ...     ...     ...\n",
       "145   663.0   663.0       2\n",
       "146   697.0   697.0       2\n",
       "147   841.0   841.0       2\n",
       "148   784.0   784.0       2\n",
       "149   700.0   700.0       2\n",
       "\n",
       "[150 rows x 3 columns]"
      ]
     },
     "execution_count": 132,
     "metadata": {},
     "output_type": "execute_result"
    }
   ],
   "source": [
    "df = pd.DataFrame({'data_x' : data[:,0], 'data_y' : data[:,0], 'labels' : labels})\n",
    "df"
   ]
  },
  {
   "cell_type": "code",
   "execution_count": 133,
   "metadata": {},
   "outputs": [
    {
     "data": {
      "text/plain": [
       "<matplotlib.collections.PathCollection at 0x238c51b2088>"
      ]
     },
     "execution_count": 133,
     "metadata": {},
     "output_type": "execute_result"
    },
    {
     "data": {
      "image/png": "[encoded data removed]",
      "text/plain": [
       "<Figure size 864x576 with 1 Axes>"
      ]
     },
     "metadata": {
      "needs_background": "light"
     },
     "output_type": "display_data"
    }
   ],
   "source": [
    "from matplotlib import cm\n",
    "from matplotlib.colors import ListedColormap\n",
    "colors = ['green', 'blue', 'purple']\n",
    "plt.figure(figsize=(12,8))\n",
    "plt.scatter(df['data_x'], df['data_y'], c=df['labels'], s=100, cmap=matplotlib.colors.ListedColormap(colors))"
   ]
  },
  {
   "cell_type": "code",
   "execution_count": 134,
   "metadata": {},
   "outputs": [],
   "source": [
    "kmeans_model = KMeans(n_clusters=3, max_iter=10000).fit(data)\n",
    "#data here is a numpy array and we pass it to KMeans Estimator object "
   ]
  },
  {
   "cell_type": "code",
   "execution_count": 135,
   "metadata": {},
   "outputs": [
    {
     "data": {
      "text/plain": [
       "array([0, 0, 0, 0, 0, 2, 0, 0, 0, 0, 0, 2, 0, 0, 0, 0, 0, 0, 0, 0, 0, 0,\n",
       "       0, 0, 0, 0, 0, 0, 0, 0, 0, 0, 0, 0, 0, 0, 0, 0, 0, 0, 0, 0, 0, 0,\n",
       "       0, 0, 0, 0, 0, 0, 2, 2, 2, 2, 2, 2, 2, 2, 2, 2, 2, 2, 2, 2, 1, 2,\n",
       "       2, 2, 2, 2, 2, 2, 2, 2, 2, 2, 2, 2, 2, 2, 2, 2, 2, 2, 2, 2, 2, 2,\n",
       "       2, 2, 2, 1, 2, 2, 2, 2, 2, 2, 0, 2, 1, 1, 1, 1, 1, 1, 1, 1, 1, 1,\n",
       "       1, 1, 1, 1, 1, 1, 1, 1, 1, 1, 1, 1, 1, 1, 1, 1, 1, 1, 1, 1, 1, 1,\n",
       "       1, 1, 1, 1, 1, 1, 1, 1, 1, 1, 1, 1, 1, 1, 1, 1, 1, 1])"
      ]
     },
     "execution_count": 135,
     "metadata": {},
     "output_type": "execute_result"
    }
   ],
   "source": [
    "#We need to check the labels for our categories \n",
    "kmeans_model.labels_"
   ]
  },
  {
   "cell_type": "code",
   "execution_count": 136,
   "metadata": {},
   "outputs": [
    {
     "data": {
      "text/plain": [
       "array([[232.14285714, 168.59183673],\n",
       "       [739.69230769, 753.90384615],\n",
       "       [469.24489796, 525.57142857]])"
      ]
     },
     "execution_count": 136,
     "metadata": {},
     "output_type": "execute_result"
    }
   ],
   "source": [
    "centroids = kmeans_model.cluster_centers_\n",
    "centroids "
   ]
  },
  {
   "cell_type": "code",
   "execution_count": 137,
   "metadata": {},
   "outputs": [
    {
     "data": {
      "image/png": "[encoded data removed]",
      "text/plain": [
       "<Figure size 864x576 with 1 Axes>"
      ]
     },
     "metadata": {
      "needs_background": "light"
     },
     "output_type": "display_data"
    }
   ],
   "source": [
    "fig , ax = plt.subplots(figsize=(12,8))\n",
    "plt.scatter(centroids[:,0],centroids[:,1], c='r', s=200, marker='s')\n",
    "\n",
    "for i in range(len(centroids)):\n",
    "    plt.annotate(i, (centroids[i][0] , centroids[i][1] ), fontsize=20)"
   ]
  },
  {
   "cell_type": "code",
   "execution_count": 138,
   "metadata": {},
   "outputs": [
    {
     "name": "stdout",
     "output_type": "stream",
     "text": [
      "Homogeniety Score, Completeness, V_Measure:  (0.8682292924904219, 0.8685434792265438, 0.8683863574398818)\n"
     ]
    }
   ],
   "source": [
    "print('Homogeniety Score, Completeness, V_Measure: ', metrics.homogeneity_completeness_v_measure(labels,kmeans_model.labels_))"
   ]
  },
  {
   "cell_type": "code",
   "execution_count": 139,
   "metadata": {},
   "outputs": [
    {
     "name": "stdout",
     "output_type": "stream",
     "text": [
      "Adjusted Rand Score:  0.9025114499974835\n",
      "Adjusted Mutual Info Score:  0.866580179521784\n",
      "Silhousste Score:  0.4844163591067735\n"
     ]
    }
   ],
   "source": [
    "print('Adjusted Rand Score: ', metrics.adjusted_rand_score(labels,kmeans_model.labels_))\n",
    "print('Adjusted Mutual Info Score: ', metrics.adjusted_mutual_info_score(labels,kmeans_model.labels_))\n",
    "print('Silhousste Score: ', metrics.silhouette_score(data,kmeans_model.labels_))"
   ]
  },
  {
   "cell_type": "code",
   "execution_count": 140,
   "metadata": {},
   "outputs": [
    {
     "data": {
      "image/png": "[encoded data removed]",
      "text/plain": [
       "<Figure size 864x576 with 1 Axes>"
      ]
     },
     "metadata": {
      "needs_background": "light"
     },
     "output_type": "display_data"
    }
   ],
   "source": [
    "colors = ['green','blue','purple']\n",
    "plt.figure(figsize=(12,8))\n",
    "plt.scatter(df['data_x'], df['data_y'], c=df['labels'], s=200, cmap=matplotlib.colors.ListedColormap(colors), alpha=0.5)\n",
    "\n",
    "plt.scatter(centroids[:,0],centroids[:,1],c='r',s=250,marker='s')\n",
    "\n",
    "for i in range(len(centroids)):\n",
    "    plt.annotate(i, (centroids[i][0] + 7, centroids[i][1] + 7), fontsize=30)"
   ]
  },
  {
   "cell_type": "code",
   "execution_count": 141,
   "metadata": {},
   "outputs": [
    {
     "ename": "TypeError",
     "evalue": "'builtin_function_or_method' object is not subscriptable",
     "output_type": "error",
     "traceback": [
      "\u001b[1;31m---------------------------------------------------------------------------\u001b[0m",
      "\u001b[1;31mTypeError\u001b[0m                                 Traceback (most recent call last)",
      "\u001b[1;32m<ipython-input-141-68603ad5c923>\u001b[0m in \u001b[0;36m<module>\u001b[1;34m\u001b[0m\n\u001b[0;32m      1\u001b[0m \u001b[1;31m#Test Data\u001b[0m\u001b[1;33m\u001b[0m\u001b[1;33m\u001b[0m\u001b[1;33m\u001b[0m\u001b[0m\n\u001b[0;32m      2\u001b[0m \u001b[1;33m\u001b[0m\u001b[0m\n\u001b[1;32m----> 3\u001b[1;33m \u001b[0mdata_test\u001b[0m \u001b[1;33m=\u001b[0m \u001b[0mnp\u001b[0m\u001b[1;33m.\u001b[0m\u001b[0marray\u001b[0m\u001b[1;33m[\u001b[0m\u001b[1;33m[\u001b[0m\u001b[1;36m442.\u001b[0m\u001b[1;33m,\u001b[0m \u001b[1;36m420.\u001b[0m\u001b[1;33m]\u001b[0m\u001b[1;33m,\u001b[0m\u001b[1;33m[\u001b[0m\u001b[1;36m10.\u001b[0m\u001b[1;33m,\u001b[0m \u001b[1;36m89.\u001b[0m\u001b[1;33m]\u001b[0m\u001b[1;33m]\u001b[0m\u001b[1;33m\u001b[0m\u001b[1;33m\u001b[0m\u001b[0m\n\u001b[0m\u001b[0;32m      4\u001b[0m \u001b[1;33m\u001b[0m\u001b[0m\n\u001b[0;32m      5\u001b[0m \u001b[0mlabel_pred\u001b[0m \u001b[1;33m=\u001b[0m \u001b[0mkmeans_model\u001b[0m\u001b[1;33m.\u001b[0m\u001b[0mpredict\u001b[0m\u001b[1;33m(\u001b[0m\u001b[0mdata_test\u001b[0m\u001b[1;33m)\u001b[0m\u001b[1;33m\u001b[0m\u001b[1;33m\u001b[0m\u001b[0m\n",
      "\u001b[1;31mTypeError\u001b[0m: 'builtin_function_or_method' object is not subscriptable"
     ]
    }
   ],
   "source": [
    "#Test Data\n",
    "\n",
    "data_test = np.array[[442., 420.],[10., 89.]]\n",
    "\n",
    "label_pred = kmeans_model.predict(data_test)\n",
    "\n",
    "label_pred"
   ]
  },
  {
   "cell_type": "code",
   "execution_count": null,
   "metadata": {},
   "outputs": [],
   "source": []
  },
  {
   "cell_type": "code",
   "execution_count": null,
   "metadata": {},
   "outputs": [],
   "source": []
  }
 ],
 "metadata": {
  "kernelspec": {
   "display_name": "Python 3",
   "language": "python",
   "name": "python3"
  },
  "language_info": {
   "codemirror_mode": {
    "name": "ipython",
    "version": 3
   },
   "file_extension": ".py",
   "mimetype": "text/x-python",
   "name": "python",
   "nbconvert_exporter": "python",
   "pygments_lexer": "ipython3",
   "version": "3.7.4"
  }
 },
 "nbformat": 4,
 "nbformat_minor": 2
}
