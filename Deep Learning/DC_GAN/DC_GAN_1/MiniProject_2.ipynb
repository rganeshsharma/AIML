{
  "nbformat": 4,
  "nbformat_minor": 0,
  "metadata": {
    "colab": {
      "name": "MiniProject-2.ipynb",
      "provenance": [],
      "collapsed_sections": []
    },
    "kernelspec": {
      "name": "python3",
      "display_name": "Python 3"
    },
    "accelerator": "GPU"
  },
  "cells": [
    {
      "cell_type": "markdown",
      "metadata": {
        "id": "eJ4MnLOIuIFy",
        "colab_type": "text"
      },
      "source": [
        "## Submit a zip file containing dcgan.py file, this notebook and the final image generated during training without changing its name."
      ]
    },
    {
      "cell_type": "code",
      "metadata": {
        "id": "5KiSgHVldcDb",
        "colab_type": "code",
        "colab": {}
      },
      "source": [
        "### Import numpy, mnist dataset or fashion_mnist dataset (your choice), dcgan.py and image_helper.py file\n",
        "\n",
        "(X, _), (_, _) = # mnist.load_data() / fashion_mnist.load_data\n",
        "### Normalize the X\n",
        "X_train = \n",
        "X_train = np.expand_dims(X_train, axis=3)\n",
        "\n",
        "### Call the DCGAN class object passing parameters image_shape, generator_input_dim, image_helper class object, and number of channels of mnist data \n",
        "generative_advarsial_network = DCGAN()\n",
        "\n",
        "### Train the X_train with batchsize of your choice for minimum 30000 epochs\n",
        "generative_advarsial_network.train()"
      ],
      "execution_count": null,
      "outputs": []
    },
    {
      "cell_type": "markdown",
      "metadata": {
        "id": "O9PPUYhbsdXu",
        "colab_type": "text"
      },
      "source": [
        "As the training shall be hours long and you have to experiment a lot to get better generated images, it's recommended to use this [free chrome extension](https://chrome.google.com/webstore/detail/colab-auto-reconnect/nbcihfbfamjlfiopdcemmohoojdecjid) or [free firefox extenstion](https://addons.mozilla.org/en-US/firefox/addon/colab-auto-reconnect/), it was built during such frustrating GANs training."
      ]
    }
  ]
}